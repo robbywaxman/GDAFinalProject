{
 "cells": [
  {
   "cell_type": "code",
   "execution_count": 1,
   "metadata": {},
   "outputs": [],
   "source": [
    "# Installs that we need\n",
    "#!pip install FlowCal\n",
    "#!pip install umap-learn\n"
   ]
  },
  {
   "cell_type": "code",
   "execution_count": 2,
   "metadata": {},
   "outputs": [],
   "source": [
    "# Imports\n",
    "\n",
    "import sys\n",
    "import os\n",
    "\n",
    "import numpy as np\n",
    "import pandas as pd\n",
    "from matplotlib import pyplot as plt\n",
    "\n",
    "import FlowCal\n",
    "from umap import UMAP\n",
    "from sklearn.decomposition import PCA\n",
    "np.random.seed(1)"
   ]
  },
  {
   "cell_type": "code",
   "execution_count": 3,
   "metadata": {},
   "outputs": [],
   "source": [
    "# Read in samusik_01 data\n",
    "\n",
    "data_dir = \"SamusikData/\"\n",
    "s01_fn = data_dir + \"BM2_cct_normalized_01_non-Neutrophils.fcs\"\n",
    "s01 = FlowCal.io.FCSData(s01_fn)\n",
    "\n",
    "# Only relevant indexes are 10-47\n",
    "s01 = s01[:, 10:47]\n",
    "\n",
    "# Transform data with arcsinh\n",
    "s01 = np.arcsinh(s01)"
   ]
  },
  {
   "cell_type": "code",
   "execution_count": 4,
   "metadata": {},
   "outputs": [
    {
     "name": "stdout",
     "output_type": "stream",
     "text": [
      "UMAP(dens_frac=0.0, dens_lambda=0.0, min_dist=0.2, random_state=123,\n",
      "     verbose=True)\n",
      "Construct fuzzy simplicial set\n",
      "Sat Apr 17 18:51:40 2021 Finding Nearest Neighbors\n",
      "Sat Apr 17 18:51:40 2021 Building RP forest with 20 trees\n",
      "Sat Apr 17 18:51:41 2021 NN descent for 16 iterations\n",
      "\t 1  /  16\n",
      "\t 2  /  16\n",
      "\t 3  /  16\n",
      "\t 4  /  16\n",
      "\t 5  /  16\n",
      "\t 6  /  16\n",
      "\tStopping threshold met -- exiting after 6 iterations\n",
      "Sat Apr 17 18:51:57 2021 Finished Nearest Neighbor Search\n",
      "Sat Apr 17 18:52:00 2021 Construct embedding\n",
      "\tcompleted  0  /  200 epochs\n",
      "\tcompleted  20  /  200 epochs\n",
      "\tcompleted  40  /  200 epochs\n",
      "\tcompleted  60  /  200 epochs\n",
      "\tcompleted  80  /  200 epochs\n",
      "\tcompleted  100  /  200 epochs\n",
      "\tcompleted  120  /  200 epochs\n",
      "\tcompleted  140  /  200 epochs\n",
      "\tcompleted  160  /  200 epochs\n",
      "\tcompleted  180  /  200 epochs\n",
      "Sat Apr 17 18:53:27 2021 Finished embedding\n"
     ]
    }
   ],
   "source": [
    "# Perform UMAP\n",
    "DR = UMAP(n_neighbors=15,min_dist=0.2,metric=\"euclidean\",verbose=True,random_state=123)\n",
    "\n",
    "\n",
    "s01_umap = DR.fit_transform(s01)"
   ]
  },
  {
   "cell_type": "code",
   "execution_count": 5,
   "metadata": {},
   "outputs": [
    {
     "data": {
      "text/plain": [
       "<matplotlib.collections.PathCollection at 0x209984610a0>"
      ]
     },
     "execution_count": 5,
     "metadata": {},
     "output_type": "execute_result"
    },
    {
     "data": {
      "image/png": "[encoded data removed]",
      "text/plain": [
       "<Figure size 432x288 with 1 Axes>"
      ]
     },
     "metadata": {
      "needs_background": "light"
     },
     "output_type": "display_data"
    }
   ],
   "source": [
    "# Plot UMAP results\n",
    "plt.scatter(s01_umap[:, 0], s01_umap[:, 1])"
   ]
  },
  {
   "cell_type": "code",
   "execution_count": 6,
   "metadata": {},
   "outputs": [],
   "source": [
    "np.save(\"s01_umap\", s01_umap)"
   ]
  },
  {
   "cell_type": "code",
   "execution_count": 7,
   "metadata": {},
   "outputs": [
    {
     "name": "stdout",
     "output_type": "stream",
     "text": [
      "[t-SNE] Computing 91 nearest neighbors...\n",
      "[t-SNE] Indexed 86864 samples in 1.628s...\n",
      "[t-SNE] Computed neighbors for 86864 samples in 808.777s...\n",
      "[t-SNE] Computed conditional probabilities for sample 1000 / 86864\n",
      "[t-SNE] Computed conditional probabilities for sample 2000 / 86864\n",
      "[t-SNE] Computed conditional probabilities for sample 3000 / 86864\n",
      "[t-SNE] Computed conditional probabilities for sample 4000 / 86864\n",
      "[t-SNE] Computed conditional probabilities for sample 5000 / 86864\n",
      "[t-SNE] Computed conditional probabilities for sample 6000 / 86864\n",
      "[t-SNE] Computed conditional probabilities for sample 7000 / 86864\n",
      "[t-SNE] Computed conditional probabilities for sample 8000 / 86864\n",
      "[t-SNE] Computed conditional probabilities for sample 9000 / 86864\n",
      "[t-SNE] Computed conditional probabilities for sample 10000 / 86864\n",
      "[t-SNE] Computed conditional probabilities for sample 11000 / 86864\n",
      "[t-SNE] Computed conditional probabilities for sample 12000 / 86864\n",
      "[t-SNE] Computed conditional probabilities for sample 13000 / 86864\n",
      "[t-SNE] Computed conditional probabilities for sample 14000 / 86864\n",
      "[t-SNE] Computed conditional probabilities for sample 15000 / 86864\n",
      "[t-SNE] Computed conditional probabilities for sample 16000 / 86864\n",
      "[t-SNE] Computed conditional probabilities for sample 17000 / 86864\n",
      "[t-SNE] Computed conditional probabilities for sample 18000 / 86864\n",
      "[t-SNE] Computed conditional probabilities for sample 19000 / 86864\n",
      "[t-SNE] Computed conditional probabilities for sample 20000 / 86864\n",
      "[t-SNE] Computed conditional probabilities for sample 21000 / 86864\n",
      "[t-SNE] Computed conditional probabilities for sample 22000 / 86864\n",
      "[t-SNE] Computed conditional probabilities for sample 23000 / 86864\n",
      "[t-SNE] Computed conditional probabilities for sample 24000 / 86864\n",
      "[t-SNE] Computed conditional probabilities for sample 25000 / 86864\n",
      "[t-SNE] Computed conditional probabilities for sample 26000 / 86864\n",
      "[t-SNE] Computed conditional probabilities for sample 27000 / 86864\n",
      "[t-SNE] Computed conditional probabilities for sample 28000 / 86864\n",
      "[t-SNE] Computed conditional probabilities for sample 29000 / 86864\n",
      "[t-SNE] Computed conditional probabilities for sample 30000 / 86864\n",
      "[t-SNE] Computed conditional probabilities for sample 31000 / 86864\n",
      "[t-SNE] Computed conditional probabilities for sample 32000 / 86864\n",
      "[t-SNE] Computed conditional probabilities for sample 33000 / 86864\n",
      "[t-SNE] Computed conditional probabilities for sample 34000 / 86864\n",
      "[t-SNE] Computed conditional probabilities for sample 35000 / 86864\n",
      "[t-SNE] Computed conditional probabilities for sample 36000 / 86864\n",
      "[t-SNE] Computed conditional probabilities for sample 37000 / 86864\n",
      "[t-SNE] Computed conditional probabilities for sample 38000 / 86864\n",
      "[t-SNE] Computed conditional probabilities for sample 39000 / 86864\n",
      "[t-SNE] Computed conditional probabilities for sample 40000 / 86864\n",
      "[t-SNE] Computed conditional probabilities for sample 41000 / 86864\n",
      "[t-SNE] Computed conditional probabilities for sample 42000 / 86864\n",
      "[t-SNE] Computed conditional probabilities for sample 43000 / 86864\n",
      "[t-SNE] Computed conditional probabilities for sample 44000 / 86864\n",
      "[t-SNE] Computed conditional probabilities for sample 45000 / 86864\n",
      "[t-SNE] Computed conditional probabilities for sample 46000 / 86864\n",
      "[t-SNE] Computed conditional probabilities for sample 47000 / 86864\n",
      "[t-SNE] Computed conditional probabilities for sample 48000 / 86864\n",
      "[t-SNE] Computed conditional probabilities for sample 49000 / 86864\n",
      "[t-SNE] Computed conditional probabilities for sample 50000 / 86864\n",
      "[t-SNE] Computed conditional probabilities for sample 51000 / 86864\n",
      "[t-SNE] Computed conditional probabilities for sample 52000 / 86864\n",
      "[t-SNE] Computed conditional probabilities for sample 53000 / 86864\n",
      "[t-SNE] Computed conditional probabilities for sample 54000 / 86864\n",
      "[t-SNE] Computed conditional probabilities for sample 55000 / 86864\n",
      "[t-SNE] Computed conditional probabilities for sample 56000 / 86864\n",
      "[t-SNE] Computed conditional probabilities for sample 57000 / 86864\n",
      "[t-SNE] Computed conditional probabilities for sample 58000 / 86864\n",
      "[t-SNE] Computed conditional probabilities for sample 59000 / 86864\n",
      "[t-SNE] Computed conditional probabilities for sample 60000 / 86864\n",
      "[t-SNE] Computed conditional probabilities for sample 61000 / 86864\n",
      "[t-SNE] Computed conditional probabilities for sample 62000 / 86864\n",
      "[t-SNE] Computed conditional probabilities for sample 63000 / 86864\n",
      "[t-SNE] Computed conditional probabilities for sample 64000 / 86864\n",
      "[t-SNE] Computed conditional probabilities for sample 65000 / 86864\n",
      "[t-SNE] Computed conditional probabilities for sample 66000 / 86864\n",
      "[t-SNE] Computed conditional probabilities for sample 67000 / 86864\n",
      "[t-SNE] Computed conditional probabilities for sample 68000 / 86864\n",
      "[t-SNE] Computed conditional probabilities for sample 69000 / 86864\n",
      "[t-SNE] Computed conditional probabilities for sample 70000 / 86864\n",
      "[t-SNE] Computed conditional probabilities for sample 71000 / 86864\n",
      "[t-SNE] Computed conditional probabilities for sample 72000 / 86864\n",
      "[t-SNE] Computed conditional probabilities for sample 73000 / 86864\n",
      "[t-SNE] Computed conditional probabilities for sample 74000 / 86864\n",
      "[t-SNE] Computed conditional probabilities for sample 75000 / 86864\n",
      "[t-SNE] Computed conditional probabilities for sample 76000 / 86864\n",
      "[t-SNE] Computed conditional probabilities for sample 77000 / 86864\n",
      "[t-SNE] Computed conditional probabilities for sample 78000 / 86864\n",
      "[t-SNE] Computed conditional probabilities for sample 79000 / 86864\n",
      "[t-SNE] Computed conditional probabilities for sample 80000 / 86864\n",
      "[t-SNE] Computed conditional probabilities for sample 81000 / 86864\n",
      "[t-SNE] Computed conditional probabilities for sample 82000 / 86864\n",
      "[t-SNE] Computed conditional probabilities for sample 83000 / 86864\n",
      "[t-SNE] Computed conditional probabilities for sample 84000 / 86864\n",
      "[t-SNE] Computed conditional probabilities for sample 85000 / 86864\n",
      "[t-SNE] Computed conditional probabilities for sample 86000 / 86864\n",
      "[t-SNE] Computed conditional probabilities for sample 86864 / 86864\n",
      "[t-SNE] Mean sigma: 1.534515\n",
      "[t-SNE] KL divergence after 250 iterations with early exaggeration: 105.686897\n",
      "[t-SNE] KL divergence after 1000 iterations: 4.337889\n"
     ]
    }
   ],
   "source": [
    "# Perform tSNE\n",
    "from sklearn.manifold import TSNE\n",
    "\n",
    "tsne = TSNE(n_iter=1000,verbose=True)\n",
    "s01_tsne = tsne.fit_transform(s01)\n"
   ]
  },
  {
   "cell_type": "code",
   "execution_count": 8,
   "metadata": {},
   "outputs": [
    {
     "data": {
      "text/plain": [
       "<matplotlib.collections.PathCollection at 0x2099806ddc0>"
      ]
     },
     "execution_count": 8,
     "metadata": {},
     "output_type": "execute_result"
    },
    {
     "data": {
      "image/png": "[encoded data removed]",
      "text/plain": [
       "<Figure size 432x288 with 1 Axes>"
      ]
     },
     "metadata": {
      "needs_background": "light"
     },
     "output_type": "display_data"
    }
   ],
   "source": [
    "# Plot tSNE results\n",
    "plt.scatter(s01_tsne[:, 0], s01_tsne[:, 1])"
   ]
  },
  {
   "cell_type": "code",
   "execution_count": 9,
   "metadata": {},
   "outputs": [],
   "source": [
    "np.save(\"s01_tsne\", s01_tsne)"
   ]
  },
  {
   "cell_type": "code",
   "execution_count": 10,
   "metadata": {},
   "outputs": [],
   "source": [
    "#Run PCA\n",
    "pca = PCA()\n",
    "s01_pca = pca.fit_transform(s01)"
   ]
  },
  {
   "cell_type": "code",
   "execution_count": 11,
   "metadata": {},
   "outputs": [
    {
     "data": {
      "text/plain": [
       "<matplotlib.collections.PathCollection at 0x2098dfb97c0>"
      ]
     },
     "execution_count": 11,
     "metadata": {},
     "output_type": "execute_result"
    },
    {
     "data": {
      "image/png": "[encoded data removed]",
      "text/plain": [
       "<Figure size 432x288 with 1 Axes>"
      ]
     },
     "metadata": {
      "needs_background": "light"
     },
     "output_type": "display_data"
    }
   ],
   "source": [
    "plt.scatter(s01_pca[:, 0], s01_pca[:, 1])"
   ]
  },
  {
   "cell_type": "code",
   "execution_count": 12,
   "metadata": {},
   "outputs": [],
   "source": [
    "np.save(\"s01_pca\", s01_pca)"
   ]
  },
  {
   "cell_type": "code",
   "execution_count": null,
   "metadata": {},
   "outputs": [],
   "source": []
  }
 ],
 "metadata": {
  "kernelspec": {
   "display_name": "Python 3",
   "language": "python",
   "name": "python3"
  },
  "language_info": {
   "codemirror_mode": {
    "name": "ipython",
    "version": 3
   },
   "file_extension": ".py",
   "mimetype": "text/x-python",
   "name": "python",
   "nbconvert_exporter": "python",
   "pygments_lexer": "ipython3",
   "version": "3.8.5"
  }
 },
 "nbformat": 4,
 "nbformat_minor": 2
}
