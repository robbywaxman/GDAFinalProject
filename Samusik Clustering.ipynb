{
 "cells": [
  {
   "cell_type": "code",
   "execution_count": 1,
   "metadata": {},
   "outputs": [
    {
     "name": "stdout",
     "output_type": "stream",
     "text": [
      "Collecting FlowCal\n",
      "  Using cached FlowCal-1.3.0.tar.gz (82 kB)\n",
      "Requirement already satisfied: packaging>=16.8 in c:\\users\\robby\\anaconda3\\lib\\site-packages (from FlowCal) (20.4)\n",
      "Requirement already satisfied: six>=1.10.0 in c:\\users\\robby\\anaconda3\\lib\\site-packages (from FlowCal) (1.15.0)\n",
      "Requirement already satisfied: numpy>=1.9.0 in c:\\users\\robby\\anaconda3\\lib\\site-packages (from FlowCal) (1.19.2)\n",
      "Requirement already satisfied: scipy>=0.19.0 in c:\\users\\robby\\anaconda3\\lib\\site-packages (from FlowCal) (1.5.2)\n",
      "Requirement already satisfied: matplotlib>=2.0.0 in c:\\users\\robby\\anaconda3\\lib\\site-packages (from FlowCal) (3.3.2)\n",
      "Requirement already satisfied: scikit-image>=0.10.0 in c:\\users\\robby\\anaconda3\\lib\\site-packages (from FlowCal) (0.17.2)\n",
      "Requirement already satisfied: scikit-learn>=0.16.0 in c:\\users\\robby\\anaconda3\\lib\\site-packages (from FlowCal) (0.23.2)\n",
      "Requirement already satisfied: pandas>=0.23.0 in c:\\users\\robby\\anaconda3\\lib\\site-packages (from FlowCal) (1.1.3)\n",
      "Requirement already satisfied: xlrd<2.0.0,>=0.9.2 in c:\\users\\robby\\anaconda3\\lib\\site-packages (from FlowCal) (1.2.0)\n",
      "Requirement already satisfied: openpyxl>=2.2.0 in c:\\users\\robby\\anaconda3\\lib\\site-packages (from FlowCal) (3.0.5)\n",
      "Requirement already satisfied: pyparsing>=2.0.2 in c:\\users\\robby\\anaconda3\\lib\\site-packages (from packaging>=16.8->FlowCal) (2.4.7)\n",
      "Requirement already satisfied: python-dateutil>=2.1 in c:\\users\\robby\\anaconda3\\lib\\site-packages (from matplotlib>=2.0.0->FlowCal) (2.8.1)\n",
      "Requirement already satisfied: certifi>=2020.06.20 in c:\\users\\robby\\anaconda3\\lib\\site-packages (from matplotlib>=2.0.0->FlowCal) (2020.6.20)\n",
      "Requirement already satisfied: pillow>=6.2.0 in c:\\users\\robby\\anaconda3\\lib\\site-packages (from matplotlib>=2.0.0->FlowCal) (8.0.1)\n",
      "Requirement already satisfied: cycler>=0.10 in c:\\users\\robby\\anaconda3\\lib\\site-packages (from matplotlib>=2.0.0->FlowCal) (0.10.0)\n",
      "Requirement already satisfied: kiwisolver>=1.0.1 in c:\\users\\robby\\anaconda3\\lib\\site-packages (from matplotlib>=2.0.0->FlowCal) (1.3.0)\n",
      "Requirement already satisfied: networkx>=2.0 in c:\\users\\robby\\anaconda3\\lib\\site-packages (from scikit-image>=0.10.0->FlowCal) (2.5)\n",
      "Requirement already satisfied: imageio>=2.3.0 in c:\\users\\robby\\anaconda3\\lib\\site-packages (from scikit-image>=0.10.0->FlowCal) (2.9.0)\n",
      "Requirement already satisfied: tifffile>=2019.7.26 in c:\\users\\robby\\anaconda3\\lib\\site-packages (from scikit-image>=0.10.0->FlowCal) (2020.10.1)\n",
      "Requirement already satisfied: PyWavelets>=1.1.1 in c:\\users\\robby\\anaconda3\\lib\\site-packages (from scikit-image>=0.10.0->FlowCal) (1.1.1)\n",
      "Requirement already satisfied: threadpoolctl>=2.0.0 in c:\\users\\robby\\anaconda3\\lib\\site-packages (from scikit-learn>=0.16.0->FlowCal) (2.1.0)\n",
      "Requirement already satisfied: joblib>=0.11 in c:\\users\\robby\\anaconda3\\lib\\site-packages (from scikit-learn>=0.16.0->FlowCal) (0.17.0)\n",
      "Requirement already satisfied: pytz>=2017.2 in c:\\users\\robby\\anaconda3\\lib\\site-packages (from pandas>=0.23.0->FlowCal) (2020.1)\n",
      "Requirement already satisfied: jdcal in c:\\users\\robby\\anaconda3\\lib\\site-packages (from openpyxl>=2.2.0->FlowCal) (1.4.1)\n",
      "Requirement already satisfied: et-xmlfile in c:\\users\\robby\\anaconda3\\lib\\site-packages (from openpyxl>=2.2.0->FlowCal) (1.0.1)\n",
      "Requirement already satisfied: decorator>=4.3.0 in c:\\users\\robby\\anaconda3\\lib\\site-packages (from networkx>=2.0->scikit-image>=0.10.0->FlowCal) (4.4.2)\n",
      "Building wheels for collected packages: FlowCal\n",
      "  Building wheel for FlowCal (setup.py): started\n",
      "  Building wheel for FlowCal (setup.py): finished with status 'done'\n",
      "  Created wheel for FlowCal: filename=FlowCal-1.3.0-py3-none-any.whl size=84558 sha256=ddf26b25ee28fa9b01b6cbaf8e0e91f5ef5ad4b7d0019df71b7edfdcd49d6034\n",
      "  Stored in directory: c:\\users\\robby\\appdata\\local\\pip\\cache\\wheels\\07\\13\\c2\\0b2c4dd9408195ee92a0484236c235ee16a51cdd4b493c9349\n",
      "Successfully built FlowCal\n",
      "Installing collected packages: FlowCal\n",
      "Successfully installed FlowCal-1.3.0\n",
      "Collecting umap-learn\n",
      "  Using cached umap-learn-0.5.1.tar.gz (80 kB)\n",
      "Requirement already satisfied: numpy>=1.17 in c:\\users\\robby\\anaconda3\\lib\\site-packages (from umap-learn) (1.19.2)\n",
      "Requirement already satisfied: scikit-learn>=0.22 in c:\\users\\robby\\anaconda3\\lib\\site-packages (from umap-learn) (0.23.2)\n",
      "Requirement already satisfied: scipy>=1.0 in c:\\users\\robby\\anaconda3\\lib\\site-packages (from umap-learn) (1.5.2)\n",
      "Requirement already satisfied: numba>=0.49 in c:\\users\\robby\\anaconda3\\lib\\site-packages (from umap-learn) (0.51.2)\n",
      "Collecting pynndescent>=0.5\n",
      "  Using cached pynndescent-0.5.2.tar.gz (1.1 MB)\n",
      "Requirement already satisfied: threadpoolctl>=2.0.0 in c:\\users\\robby\\anaconda3\\lib\\site-packages (from scikit-learn>=0.22->umap-learn) (2.1.0)\n",
      "Requirement already satisfied: joblib>=0.11 in c:\\users\\robby\\anaconda3\\lib\\site-packages (from scikit-learn>=0.22->umap-learn) (0.17.0)\n",
      "Requirement already satisfied: llvmlite<0.35,>=0.34.0.dev0 in c:\\users\\robby\\anaconda3\\lib\\site-packages (from numba>=0.49->umap-learn) (0.34.0)\n",
      "Requirement already satisfied: setuptools in c:\\users\\robby\\anaconda3\\lib\\site-packages (from numba>=0.49->umap-learn) (50.3.1.post20201107)\n",
      "Building wheels for collected packages: umap-learn, pynndescent\n",
      "  Building wheel for umap-learn (setup.py): started\n",
      "  Building wheel for umap-learn (setup.py): finished with status 'done'\n",
      "  Created wheel for umap-learn: filename=umap_learn-0.5.1-py3-none-any.whl size=76570 sha256=60d6324b06884d5716fc4e76477c877515b9dab421504973deedf4edd1d49515\n",
      "  Stored in directory: c:\\users\\robby\\appdata\\local\\pip\\cache\\wheels\\95\\85\\b7\\b4b7040e49367b6d1505d7e8fb57e3e79b22fa6ac26f72520b\n",
      "  Building wheel for pynndescent (setup.py): started\n",
      "  Building wheel for pynndescent (setup.py): finished with status 'done'\n",
      "  Created wheel for pynndescent: filename=pynndescent-0.5.2-py3-none-any.whl size=51353 sha256=fb97f07c0b4808d2e3a0d4697b8552edf78a88729ad43cd33689a9d045c43516\n",
      "  Stored in directory: c:\\users\\robby\\appdata\\local\\pip\\cache\\wheels\\bb\\81\\5d\\c78c8f15f3c815197129f91ec435d8ae0bb0a7a856d962c3ce\n",
      "Successfully built umap-learn pynndescent\n",
      "Installing collected packages: pynndescent, umap-learn\n",
      "Successfully installed pynndescent-0.5.2 umap-learn-0.5.1\n"
     ]
    }
   ],
   "source": [
    "# Installs that we need\n",
    "!pip install FlowCal\n",
    "!pip install umap-learn\n"
   ]
  },
  {
   "cell_type": "code",
   "execution_count": 2,
   "metadata": {},
   "outputs": [],
   "source": [
    "# Imports\n",
    "\n",
    "import sys\n",
    "import os\n",
    "\n",
    "import numpy as np\n",
    "import pandas as pd\n",
    "from matplotlib import pyplot as plt\n",
    "\n",
    "import FlowCal\n",
    "from umap import UMAP\n",
    "\n"
   ]
  },
  {
   "cell_type": "code",
   "execution_count": 4,
   "metadata": {},
   "outputs": [],
   "source": [
    "# Read in samusik_01 data\n",
    "\n",
    "data_dir = \"SamusikData/\"\n",
    "s01_fn = data_dir + \"BM2_cct_normalized_01_non-Neutrophils.fcs\"\n",
    "s01 = FlowCal.io.FCSData(s01_fn)\n",
    "\n",
    "# Only relevant indexes are 10-47\n",
    "s01 = s01[:, 10:47]\n",
    "\n",
    "# Transform data with arcsinh\n",
    "s01 = np.arcsinh(s01)"
   ]
  },
  {
   "cell_type": "code",
   "execution_count": 6,
   "metadata": {},
   "outputs": [
    {
     "name": "stdout",
     "output_type": "stream",
     "text": [
      "UMAP(dens_frac=0.0, dens_lambda=0.0, min_dist=0.2, random_state=123,\n",
      "     verbose=True)\n",
      "Construct fuzzy simplicial set\n",
      "Fri Apr 16 16:34:07 2021 Finding Nearest Neighbors\n",
      "Fri Apr 16 16:34:07 2021 Building RP forest with 20 trees\n",
      "Fri Apr 16 16:34:09 2021 NN descent for 16 iterations\n",
      "\t 1  /  16\n",
      "\t 2  /  16\n",
      "\t 3  /  16\n",
      "\t 4  /  16\n",
      "\t 5  /  16\n",
      "\t 6  /  16\n",
      "\tStopping threshold met -- exiting after 6 iterations\n",
      "Fri Apr 16 16:34:19 2021 Finished Nearest Neighbor Search\n",
      "Fri Apr 16 16:34:21 2021 Construct embedding\n",
      "\tcompleted  0  /  200 epochs\n",
      "\tcompleted  20  /  200 epochs\n",
      "\tcompleted  40  /  200 epochs\n",
      "\tcompleted  60  /  200 epochs\n",
      "\tcompleted  80  /  200 epochs\n",
      "\tcompleted  100  /  200 epochs\n",
      "\tcompleted  120  /  200 epochs\n",
      "\tcompleted  140  /  200 epochs\n",
      "\tcompleted  160  /  200 epochs\n",
      "\tcompleted  180  /  200 epochs\n",
      "Fri Apr 16 16:35:06 2021 Finished embedding\n"
     ]
    }
   ],
   "source": [
    "# Perform UMAP\n",
    "DR = UMAP(n_neighbors=15,min_dist=0.2,metric=\"euclidean\",verbose=True,random_state=123)\n",
    "\n",
    "\n",
    "s01_umap = DR.fit_transform(s01)"
   ]
  },
  {
   "cell_type": "code",
   "execution_count": 7,
   "metadata": {},
   "outputs": [
    {
     "data": {
      "text/plain": [
       "<matplotlib.collections.PathCollection at 0x19955576100>"
      ]
     },
     "execution_count": 7,
     "metadata": {},
     "output_type": "execute_result"
    },
    {
     "data": {
      "image/png": "[encoded data removed]",
      "text/plain": [
       "<Figure size 432x288 with 1 Axes>"
      ]
     },
     "metadata": {
      "needs_background": "light"
     },
     "output_type": "display_data"
    }
   ],
   "source": [
    "# Plot UMAP results\n",
    "plt.scatter(s01_umap[:, 0], s01_umap[:, 1])"
   ]
  },
  {
   "cell_type": "code",
   "execution_count": 8,
   "metadata": {},
   "outputs": [],
   "source": [
    "np.save(\"s01_umap\", s01_umap)"
   ]
  },
  {
   "cell_type": "code",
   "execution_count": 11,
   "metadata": {},
   "outputs": [
    {
     "name": "stdout",
     "output_type": "stream",
     "text": [
      "[t-SNE] Computing 91 nearest neighbors...\n",
      "[t-SNE] Indexed 86864 samples in 0.631s...\n",
      "[t-SNE] Computed neighbors for 86864 samples in 540.056s...\n",
      "[t-SNE] Computed conditional probabilities for sample 1000 / 86864\n",
      "[t-SNE] Computed conditional probabilities for sample 2000 / 86864\n",
      "[t-SNE] Computed conditional probabilities for sample 3000 / 86864\n",
      "[t-SNE] Computed conditional probabilities for sample 4000 / 86864\n",
      "[t-SNE] Computed conditional probabilities for sample 5000 / 86864\n",
      "[t-SNE] Computed conditional probabilities for sample 6000 / 86864\n",
      "[t-SNE] Computed conditional probabilities for sample 7000 / 86864\n",
      "[t-SNE] Computed conditional probabilities for sample 8000 / 86864\n",
      "[t-SNE] Computed conditional probabilities for sample 9000 / 86864\n",
      "[t-SNE] Computed conditional probabilities for sample 10000 / 86864\n",
      "[t-SNE] Computed conditional probabilities for sample 11000 / 86864\n",
      "[t-SNE] Computed conditional probabilities for sample 12000 / 86864\n",
      "[t-SNE] Computed conditional probabilities for sample 13000 / 86864\n",
      "[t-SNE] Computed conditional probabilities for sample 14000 / 86864\n",
      "[t-SNE] Computed conditional probabilities for sample 15000 / 86864\n",
      "[t-SNE] Computed conditional probabilities for sample 16000 / 86864\n",
      "[t-SNE] Computed conditional probabilities for sample 17000 / 86864\n",
      "[t-SNE] Computed conditional probabilities for sample 18000 / 86864\n",
      "[t-SNE] Computed conditional probabilities for sample 19000 / 86864\n",
      "[t-SNE] Computed conditional probabilities for sample 20000 / 86864\n",
      "[t-SNE] Computed conditional probabilities for sample 21000 / 86864\n",
      "[t-SNE] Computed conditional probabilities for sample 22000 / 86864\n",
      "[t-SNE] Computed conditional probabilities for sample 23000 / 86864\n",
      "[t-SNE] Computed conditional probabilities for sample 24000 / 86864\n",
      "[t-SNE] Computed conditional probabilities for sample 25000 / 86864\n",
      "[t-SNE] Computed conditional probabilities for sample 26000 / 86864\n",
      "[t-SNE] Computed conditional probabilities for sample 27000 / 86864\n",
      "[t-SNE] Computed conditional probabilities for sample 28000 / 86864\n",
      "[t-SNE] Computed conditional probabilities for sample 29000 / 86864\n",
      "[t-SNE] Computed conditional probabilities for sample 30000 / 86864\n",
      "[t-SNE] Computed conditional probabilities for sample 31000 / 86864\n",
      "[t-SNE] Computed conditional probabilities for sample 32000 / 86864\n",
      "[t-SNE] Computed conditional probabilities for sample 33000 / 86864\n",
      "[t-SNE] Computed conditional probabilities for sample 34000 / 86864\n",
      "[t-SNE] Computed conditional probabilities for sample 35000 / 86864\n",
      "[t-SNE] Computed conditional probabilities for sample 36000 / 86864\n",
      "[t-SNE] Computed conditional probabilities for sample 37000 / 86864\n",
      "[t-SNE] Computed conditional probabilities for sample 38000 / 86864\n",
      "[t-SNE] Computed conditional probabilities for sample 39000 / 86864\n",
      "[t-SNE] Computed conditional probabilities for sample 40000 / 86864\n",
      "[t-SNE] Computed conditional probabilities for sample 41000 / 86864\n",
      "[t-SNE] Computed conditional probabilities for sample 42000 / 86864\n",
      "[t-SNE] Computed conditional probabilities for sample 43000 / 86864\n",
      "[t-SNE] Computed conditional probabilities for sample 44000 / 86864\n",
      "[t-SNE] Computed conditional probabilities for sample 45000 / 86864\n",
      "[t-SNE] Computed conditional probabilities for sample 46000 / 86864\n",
      "[t-SNE] Computed conditional probabilities for sample 47000 / 86864\n",
      "[t-SNE] Computed conditional probabilities for sample 48000 / 86864\n",
      "[t-SNE] Computed conditional probabilities for sample 49000 / 86864\n",
      "[t-SNE] Computed conditional probabilities for sample 50000 / 86864\n",
      "[t-SNE] Computed conditional probabilities for sample 51000 / 86864\n",
      "[t-SNE] Computed conditional probabilities for sample 52000 / 86864\n",
      "[t-SNE] Computed conditional probabilities for sample 53000 / 86864\n",
      "[t-SNE] Computed conditional probabilities for sample 54000 / 86864\n",
      "[t-SNE] Computed conditional probabilities for sample 55000 / 86864\n",
      "[t-SNE] Computed conditional probabilities for sample 56000 / 86864\n",
      "[t-SNE] Computed conditional probabilities for sample 57000 / 86864\n",
      "[t-SNE] Computed conditional probabilities for sample 58000 / 86864\n",
      "[t-SNE] Computed conditional probabilities for sample 59000 / 86864\n",
      "[t-SNE] Computed conditional probabilities for sample 60000 / 86864\n",
      "[t-SNE] Computed conditional probabilities for sample 61000 / 86864\n",
      "[t-SNE] Computed conditional probabilities for sample 62000 / 86864\n",
      "[t-SNE] Computed conditional probabilities for sample 63000 / 86864\n",
      "[t-SNE] Computed conditional probabilities for sample 64000 / 86864\n",
      "[t-SNE] Computed conditional probabilities for sample 65000 / 86864\n",
      "[t-SNE] Computed conditional probabilities for sample 66000 / 86864\n",
      "[t-SNE] Computed conditional probabilities for sample 67000 / 86864\n",
      "[t-SNE] Computed conditional probabilities for sample 68000 / 86864\n",
      "[t-SNE] Computed conditional probabilities for sample 69000 / 86864\n",
      "[t-SNE] Computed conditional probabilities for sample 70000 / 86864\n",
      "[t-SNE] Computed conditional probabilities for sample 71000 / 86864\n",
      "[t-SNE] Computed conditional probabilities for sample 72000 / 86864\n",
      "[t-SNE] Computed conditional probabilities for sample 73000 / 86864\n",
      "[t-SNE] Computed conditional probabilities for sample 74000 / 86864\n",
      "[t-SNE] Computed conditional probabilities for sample 75000 / 86864\n",
      "[t-SNE] Computed conditional probabilities for sample 76000 / 86864\n",
      "[t-SNE] Computed conditional probabilities for sample 77000 / 86864\n",
      "[t-SNE] Computed conditional probabilities for sample 78000 / 86864\n",
      "[t-SNE] Computed conditional probabilities for sample 79000 / 86864\n",
      "[t-SNE] Computed conditional probabilities for sample 80000 / 86864\n",
      "[t-SNE] Computed conditional probabilities for sample 81000 / 86864\n",
      "[t-SNE] Computed conditional probabilities for sample 82000 / 86864\n",
      "[t-SNE] Computed conditional probabilities for sample 83000 / 86864\n",
      "[t-SNE] Computed conditional probabilities for sample 84000 / 86864\n",
      "[t-SNE] Computed conditional probabilities for sample 85000 / 86864\n",
      "[t-SNE] Computed conditional probabilities for sample 86000 / 86864\n",
      "[t-SNE] Computed conditional probabilities for sample 86864 / 86864\n",
      "[t-SNE] Mean sigma: 1.534515\n",
      "[t-SNE] KL divergence after 250 iterations with early exaggeration: 105.679153\n",
      "[t-SNE] KL divergence after 1000 iterations: 4.327451\n"
     ]
    }
   ],
   "source": [
    "# Perform tSNE\n",
    "from sklearn.manifold import TSNE\n",
    "\n",
    "tsne = TSNE(n_iter=1000,verbose=True)\n",
    "s01_tsne = tsne.fit_transform(s01)\n"
   ]
  },
  {
   "cell_type": "code",
   "execution_count": 13,
   "metadata": {},
   "outputs": [
    {
     "data": {
      "text/plain": [
       "<matplotlib.collections.PathCollection at 0x1995715dca0>"
      ]
     },
     "execution_count": 13,
     "metadata": {},
     "output_type": "execute_result"
    },
    {
     "data": {
      "image/png": "[encoded data removed]",
      "text/plain": [
       "<Figure size 432x288 with 1 Axes>"
      ]
     },
     "metadata": {
      "needs_background": "light"
     },
     "output_type": "display_data"
    }
   ],
   "source": [
    "# Plot tSNE results\n",
    "plt.scatter(s01_tsne[:, 0], s01_tsne[:, 1])"
   ]
  },
  {
   "cell_type": "code",
   "execution_count": 14,
   "metadata": {},
   "outputs": [],
   "source": [
    "np.save(\"s01_tsne\", s01_tsne)"
   ]
  },
  {
   "cell_type": "code",
   "execution_count": null,
   "metadata": {},
   "outputs": [],
   "source": []
  }
 ],
 "metadata": {
  "kernelspec": {
   "display_name": "Python 3",
   "language": "python",
   "name": "python3"
  },
  "language_info": {
   "codemirror_mode": {
    "name": "ipython",
    "version": 3
   },
   "file_extension": ".py",
   "mimetype": "text/x-python",
   "name": "python",
   "nbconvert_exporter": "python",
   "pygments_lexer": "ipython3",
   "version": "3.8.5"
  }
 },
 "nbformat": 4,
 "nbformat_minor": 2
}
