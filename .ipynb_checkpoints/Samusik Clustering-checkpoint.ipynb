{
 "cells": [
  {
   "cell_type": "code",
   "execution_count": 2,
   "metadata": {},
   "outputs": [
    {
     "name": "stdout",
     "output_type": "stream",
     "text": [
      "Requirement already satisfied: FlowCal in c:\\users\\parth\\anaconda3\\lib\\site-packages (1.3.0)\n",
      "Requirement already satisfied: packaging>=16.8 in c:\\users\\parth\\anaconda3\\lib\\site-packages (from FlowCal) (19.0)\n",
      "Requirement already satisfied: scikit-learn>=0.16.0 in c:\\users\\parth\\anaconda3\\lib\\site-packages (from FlowCal) (0.24.1)\n",
      "Requirement already satisfied: xlrd<2.0.0,>=0.9.2 in c:\\users\\parth\\anaconda3\\lib\\site-packages (from FlowCal) (1.2.0)\n",
      "Requirement already satisfied: scipy>=0.19.0 in c:\\users\\parth\\anaconda3\\lib\\site-packages (from FlowCal) (1.2.1)\n",
      "Requirement already satisfied: openpyxl>=2.2.0 in c:\\users\\parth\\anaconda3\\lib\\site-packages (from FlowCal) (2.6.2)\n",
      "Requirement already satisfied: matplotlib>=2.0.0 in c:\\users\\parth\\anaconda3\\lib\\site-packages (from FlowCal) (3.1.0)\n",
      "Requirement already satisfied: six>=1.10.0 in c:\\users\\parth\\anaconda3\\lib\\site-packages (from FlowCal) (1.12.0)\n",
      "Requirement already satisfied: scikit-image>=0.10.0 in c:\\users\\parth\\anaconda3\\lib\\site-packages (from FlowCal) (0.15.0)\n",
      "Requirement already satisfied: pandas>=0.23.0 in c:\\users\\parth\\anaconda3\\lib\\site-packages (from FlowCal) (0.24.2)\n",
      "Requirement already satisfied: numpy>=1.9.0 in c:\\users\\parth\\anaconda3\\lib\\site-packages (from FlowCal) (1.20.2)\n",
      "Requirement already satisfied: pyparsing>=2.0.2 in c:\\users\\parth\\anaconda3\\lib\\site-packages (from packaging>=16.8->FlowCal) (2.4.0)\n",
      "Requirement already satisfied: threadpoolctl>=2.0.0 in c:\\users\\parth\\anaconda3\\lib\\site-packages (from scikit-learn>=0.16.0->FlowCal) (2.1.0)\n",
      "Requirement already satisfied: joblib>=0.11 in c:\\users\\parth\\anaconda3\\lib\\site-packages (from scikit-learn>=0.16.0->FlowCal) (0.13.2)\n",
      "Requirement already satisfied: jdcal in c:\\users\\parth\\anaconda3\\lib\\site-packages (from openpyxl>=2.2.0->FlowCal) (1.4.1)\n",
      "Requirement already satisfied: et-xmlfile in c:\\users\\parth\\anaconda3\\lib\\site-packages (from openpyxl>=2.2.0->FlowCal) (1.0.1)\n",
      "Requirement already satisfied: cycler>=0.10 in c:\\users\\parth\\anaconda3\\lib\\site-packages (from matplotlib>=2.0.0->FlowCal) (0.10.0)\n",
      "Requirement already satisfied: kiwisolver>=1.0.1 in c:\\users\\parth\\anaconda3\\lib\\site-packages (from matplotlib>=2.0.0->FlowCal) (1.1.0)\n",
      "Requirement already satisfied: python-dateutil>=2.1 in c:\\users\\parth\\anaconda3\\lib\\site-packages (from matplotlib>=2.0.0->FlowCal) (2.8.0)\n",
      "Requirement already satisfied: pillow>=4.3.0 in c:\\users\\parth\\anaconda3\\lib\\site-packages (from scikit-image>=0.10.0->FlowCal) (6.1.0)\n",
      "Requirement already satisfied: imageio>=2.0.1 in c:\\users\\parth\\anaconda3\\lib\\site-packages (from scikit-image>=0.10.0->FlowCal) (2.5.0)\n",
      "Requirement already satisfied: networkx>=2.0 in c:\\users\\parth\\anaconda3\\lib\\site-packages (from scikit-image>=0.10.0->FlowCal) (2.3)\n",
      "Requirement already satisfied: PyWavelets>=0.4.0 in c:\\users\\parth\\anaconda3\\lib\\site-packages (from scikit-image>=0.10.0->FlowCal) (1.0.3)\n",
      "Requirement already satisfied: pytz>=2011k in c:\\users\\parth\\anaconda3\\lib\\site-packages (from pandas>=0.23.0->FlowCal) (2019.1)\n",
      "Requirement already satisfied: setuptools in c:\\users\\parth\\anaconda3\\lib\\site-packages (from kiwisolver>=1.0.1->matplotlib>=2.0.0->FlowCal) (41.0.1)\n",
      "Requirement already satisfied: decorator>=4.3.0 in c:\\users\\parth\\anaconda3\\lib\\site-packages (from networkx>=2.0->scikit-image>=0.10.0->FlowCal) (4.4.0)\n",
      "Requirement already satisfied: umap-learn in c:\\users\\parth\\appdata\\roaming\\python\\python37\\site-packages (0.5.1)\n",
      "Requirement already satisfied: pynndescent>=0.5 in c:\\users\\parth\\appdata\\roaming\\python\\python37\\site-packages (from umap-learn) (0.5.2)\n",
      "Requirement already satisfied: scipy>=1.0 in c:\\users\\parth\\anaconda3\\lib\\site-packages (from umap-learn) (1.2.1)\n",
      "Requirement already satisfied: numba>=0.49 in c:\\users\\parth\\appdata\\roaming\\python\\python37\\site-packages (from umap-learn) (0.53.1)\n",
      "Requirement already satisfied: numpy>=1.17 in c:\\users\\parth\\anaconda3\\lib\\site-packages (from umap-learn) (1.20.2)\n",
      "Requirement already satisfied: scikit-learn>=0.22 in c:\\users\\parth\\anaconda3\\lib\\site-packages (from umap-learn) (0.24.1)\n",
      "Requirement already satisfied: llvmlite>=0.30 in c:\\users\\parth\\anaconda3\\lib\\site-packages (from pynndescent>=0.5->umap-learn) (0.36.0)\n",
      "Requirement already satisfied: joblib>=0.11 in c:\\users\\parth\\anaconda3\\lib\\site-packages (from pynndescent>=0.5->umap-learn) (0.13.2)\n",
      "Requirement already satisfied: setuptools in c:\\users\\parth\\anaconda3\\lib\\site-packages (from numba>=0.49->umap-learn) (41.0.1)\n",
      "Requirement already satisfied: threadpoolctl>=2.0.0 in c:\\users\\parth\\anaconda3\\lib\\site-packages (from scikit-learn>=0.22->umap-learn) (2.1.0)\n"
     ]
    }
   ],
   "source": [
    "# Installs that we need\n",
    "#!pip install FlowCal\n",
    "#!pip install umap-learn\n"
   ]
  },
  {
   "cell_type": "code",
   "execution_count": 1,
   "metadata": {},
   "outputs": [],
   "source": [
    "# Imports\n",
    "\n",
    "import sys\n",
    "import os\n",
    "\n",
    "import numpy as np\n",
    "import pandas as pd\n",
    "from matplotlib import pyplot as plt\n",
    "\n",
    "import FlowCal\n",
    "from umap import UMAP\n",
    "\n"
   ]
  },
  {
   "cell_type": "code",
   "execution_count": 2,
   "metadata": {},
   "outputs": [],
   "source": [
    "# Read in samusik_01 data\n",
    "\n",
    "data_dir = \"Samusik Paper Version/\"\n",
    "s01_fn = data_dir + \"BM2_cct_normalized_01_non-Neutrophils.fcs\"\n",
    "s01 = FlowCal.io.FCSData(s01_fn)\n",
    "\n",
    "# Only relevant indexes are 10-47\n",
    "s01 = s01[:, 10:47]\n",
    "\n",
    "# Transform data with arcsinh\n",
    "s01 = np.arcsinh(s01)"
   ]
  },
  {
   "cell_type": "code",
   "execution_count": 3,
   "metadata": {},
   "outputs": [],
   "source": [
    "# Perform UMAP\n",
    "DR = UMAP()\n",
    "s01_umap = DR.fit_transform(s01)\n"
   ]
  },
  {
   "cell_type": "code",
   "execution_count": 4,
   "metadata": {},
   "outputs": [
    {
     "data": {
      "text/plain": [
       "<matplotlib.collections.PathCollection at 0x1c88ba6b358>"
      ]
     },
     "execution_count": 4,
     "metadata": {},
     "output_type": "execute_result"
    },
    {
     "data": {
      "image/png": "[encoded data removed]",
      "text/plain": [
       "<Figure size 432x288 with 1 Axes>"
      ]
     },
     "metadata": {
      "needs_background": "light"
     },
     "output_type": "display_data"
    }
   ],
   "source": [
    "# Plot UMAP results\n",
    "plt.scatter(s01_umap[:, 0], s01_umap[:, 1])"
   ]
  },
  {
   "cell_type": "code",
   "execution_count": 6,
   "metadata": {},
   "outputs": [],
   "source": [
    "# Perform tSNE\n",
    "from sklearn.manifold import TSNE\n",
    "\n",
    "tsne = TSNE()\n",
    "s01_tsne = tsne.fit_transform(s01)\n"
   ]
  },
  {
   "cell_type": "code",
   "execution_count": 8,
   "metadata": {},
   "outputs": [
    {
     "data": {
      "text/plain": [
       "<matplotlib.collections.PathCollection at 0x1c88bcaaef0>"
      ]
     },
     "execution_count": 8,
     "metadata": {},
     "output_type": "execute_result"
    },
    {
     "data": {
      "image/png": "[encoded data removed]",
      "text/plain": [
       "<Figure size 432x288 with 1 Axes>"
      ]
     },
     "metadata": {
      "needs_background": "light"
     },
     "output_type": "display_data"
    }
   ],
   "source": [
    "# Plot UMAP results\n",
    "plt.scatter(s01_tsne[:, 0], s01_tsne[:, 1])"
   ]
  },
  {
   "cell_type": "code",
   "execution_count": 9,
   "metadata": {},
   "outputs": [],
   "source": [
    "np.save(\"s01_umap\", s01_umap)\n",
    "np.save(\"s01_tsne\", s01_tsne)"
   ]
  }
 ],
 "metadata": {
  "kernelspec": {
   "display_name": "Python 3",
   "language": "python",
   "name": "python3"
  },
  "language_info": {
   "codemirror_mode": {
    "name": "ipython",
    "version": 3
   },
   "file_extension": ".py",
   "mimetype": "text/x-python",
   "name": "python",
   "nbconvert_exporter": "python",
   "pygments_lexer": "ipython3",
   "version": "3.8.5"
  }
 },
 "nbformat": 4,
 "nbformat_minor": 2
}
