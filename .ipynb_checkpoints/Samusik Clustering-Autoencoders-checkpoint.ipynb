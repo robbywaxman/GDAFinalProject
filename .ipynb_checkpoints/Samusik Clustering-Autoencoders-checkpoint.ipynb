{
 "cells": [
  {
   "cell_type": "code",
   "execution_count": 1,
   "metadata": {
    "jupyter": {
     "outputs_hidden": true
    }
   },
   "outputs": [],
   "source": [
    "#!pip install FlowCal"
   ]
  },
  {
   "cell_type": "code",
   "execution_count": 2,
   "metadata": {
    "jupyter": {
     "outputs_hidden": true
    }
   },
   "outputs": [],
   "source": [
    "#!pip install dca"
   ]
  },
  {
   "cell_type": "code",
   "execution_count": 3,
   "metadata": {
    "_cell_guid": "b1076dfc-b9ad-4769-8c92-a6c4dae69d19",
    "_uuid": "8f2839f25d086af736a60e9eeb907d3b93b6e0e5"
   },
   "outputs": [],
   "source": [
    "### This Python 3 environment comes with many helpful analytics libraries installed\n",
    "# It is defined by the kaggle/python Docker image: https://github.com/kaggle/docker-python\n",
    "# For example, here's several helpful packages to load\n",
    "\n",
    "import numpy as np # linear algebra\n",
    "import pandas as pd # data processing, CSV file I/O (e.g. pd.read_csv)\n",
    "import matplotlib \n",
    "from matplotlib import pyplot as plt\n",
    "\n",
    "# Input data files are available in the read-only \"../input/\" directory\n",
    "# For example, running this (by clicking run or pressing Shift+Enter) will list all files under the input directory\n",
    "\n",
    "import os\n",
    "\"\"\"\n",
    "for dirname, _, filenames in os.walk('/kaggle/input'):\n",
    "    for filename in filenames:\n",
    "        print(os.path.join(dirname, filename))\n",
    "\"\"\"\n",
    "# You can write up to 20GB to the current directory (/kaggle/working/) that gets preserved as output when you create a version using \"Save & Run All\" \n",
    "# You can also write temporary files to /kaggle/temp/, but they won't be saved outside of the current session\n",
    "\n",
    "import FlowCal\n",
    "from keras.utils import Sequence\n",
    "from keras.models import Sequential\n",
    "from keras.layers import Dense"
   ]
  },
  {
   "cell_type": "code",
   "execution_count": 4,
   "metadata": {},
   "outputs": [],
   "source": [
    "# Sort the file names\n",
    "np.random.seed(1)\n",
    "FCS_data = []\n",
    "labels = []\n",
    "data_dir = \"SamusikData/\"\n",
    "for i in os.listdir(data_dir):\n",
    "    if \"csv\" in i and \"assignments\" in i and not \"04\" in i:\n",
    "        labels.append(data_dir + i)\n",
    "    elif \"fcs\" in i and not \"04\" in i:\n",
    "        FCS_data.append(data_dir + i)\n",
    "\n",
    "FCS_data.sort()\n",
    "labels.sort()\n",
    "#print(FCS_data)\n",
    "#print(labels)"
   ]
  },
  {
   "cell_type": "code",
   "execution_count": 5,
   "metadata": {},
   "outputs": [],
   "source": [
    "# Keras DataGenerator\n",
    "# We use this to load the data as we need it every epoch\n",
    "\n",
    "class DataGenerator(Sequence):\n",
    "    \n",
    "    \"\"\"\n",
    "    fcs_files = List of .fcs files in directory\n",
    "    labels = list of .csv files in directory (sorted the same as fcs_files)\n",
    "    batch_size = number of scRNA data points to consider in a batch\n",
    "       DataGenerator will sample [batch_size/len(list_IDs)] samples from each fcs file\n",
    "       Each file has ~87K samples\n",
    "    n_classes = 25 (24 cells, 1 no cell type listed (0))    \n",
    "    \n",
    "    \"\"\"\n",
    "    def __init__(self, fcs_files, labels, batch_size=30000, n_classes=25, shuffle=True):\n",
    "        self.n_features = 51 # Each sample has 51 features\n",
    "        self.batch_size = batch_size\n",
    "        self.labels = labels\n",
    "        self.fcs_files = fcs_files\n",
    "        self.n_classes = n_classes\n",
    "        self.shuffle = shuffle\n",
    "        \n",
    "        # Make an index over all samples\n",
    "        # self.length is an int for the total number of samples\n",
    "        # self.indices is a list of ints that tell us which index belongs to what file\n",
    "        self.length, self.indices = self.compute_length(labels)\n",
    "        self.indexes = np.array([i for i in range(self.length)])\n",
    "        self.on_epoch_end()\n",
    "        \n",
    "    def compute_length(self, labels):\n",
    "        L = 0\n",
    "        FL = []\n",
    "        for l in labels:\n",
    "            df = pd.read_csv(l)\n",
    "            L = L + len(df)\n",
    "            FL.append(L)\n",
    "        return L, FL\n",
    "            \n",
    "    def __len__(self):\n",
    "        return self.length // self.batch_size\n",
    "    \n",
    "    def __getitem__(self, index):\n",
    "        \n",
    "        X = np.zeros((self.batch_size, self.n_features))\n",
    "        #y = np.zeros(self.batch_size)\n",
    "        \n",
    "        # start and end index X and y\n",
    "        start = 0\n",
    "        end = 0\n",
    "        \n",
    "        # Prev max indexes globally for all samples\n",
    "        prev_max = 0\n",
    "        \n",
    "        # idx/index both hold the global sample indexes we want\n",
    "        idx = self.indexes[index*self.batch_size:(index+1)*self.batch_size]\n",
    "        \n",
    "        # bin them according to files in which they reside\n",
    "        for i, max_file_index in enumerate(self.indices):\n",
    "            \n",
    "            file_idx = idx[idx < max_file_index] - prev_max\n",
    "            \n",
    "            if len(file_idx) == 0:\n",
    "                continue\n",
    "                \n",
    "            end = start + len(file_idx)\n",
    "            #print(len(file_idx))\n",
    "            \n",
    "            # Read each fcs file to get the samples\n",
    "            si = FlowCal.io.FCSData(self.fcs_files[i])\n",
    "            si = np.arcsinh(si[file_idx])   \n",
    "            X[start:end] = si \n",
    "        \n",
    "            # Unnecessary for autoencoder\n",
    "            # Read each csv to get the labels\n",
    "            #file_labels = pd.read_csv(self.labels[i])[\"Population\"].to_numpy()\n",
    "            #y[start:end] = file_labels[file_idx]\n",
    "        \n",
    "            # Update the indexing\n",
    "            start = end\n",
    "            idx = idx[idx >= max_file_index]\n",
    "            prev_max = max_file_index\n",
    "            \n",
    "        return X, X\n",
    "    \n",
    "    def on_epoch_end(self):\n",
    "        \n",
    "        if self.shuffle:\n",
    "            np.random.shuffle(self.indexes)\n",
    "        \n",
    "        \n",
    "    "
   ]
  },
  {
   "cell_type": "code",
   "execution_count": 6,
   "metadata": {},
   "outputs": [],
   "source": [
    "# Split files for training, validation, testing\n",
    "#DG = DataGenerator(FCS_data, labels)\n",
    "TrainDG = DataGenerator(FCS_data[:6], labels[:6])\n",
    "ValidateDG = DataGenerator([FCS_data[7]], [labels[7]])\n",
    "TestDG = DataGenerator([FCS_data[8]], [labels[8]])"
   ]
  },
  {
   "cell_type": "code",
   "execution_count": 7,
   "metadata": {
    "jupyter": {
     "outputs_hidden": true
    }
   },
   "outputs": [
    {
     "name": "stdout",
     "output_type": "stream",
     "text": [
      "Epoch 1/50\n",
      "17/17 [==============================] - 4s 252ms/step - loss: 11.1040 - mse: 11.1040 - val_loss: 10.2319 - val_mse: 10.2319\n",
      "Epoch 2/50\n",
      "17/17 [==============================] - 4s 227ms/step - loss: 10.3133 - mse: 10.3133 - val_loss: 9.5768 - val_mse: 9.5768\n",
      "Epoch 3/50\n",
      "17/17 [==============================] - 4s 237ms/step - loss: 9.5758 - mse: 9.5758 - val_loss: 8.9587 - val_mse: 8.9587\n",
      "Epoch 4/50\n",
      "17/17 [==============================] - 4s 229ms/step - loss: 8.8905 - mse: 8.8905 - val_loss: 8.3599 - val_mse: 8.3599\n",
      "Epoch 5/50\n",
      "17/17 [==============================] - 4s 229ms/step - loss: 8.2384 - mse: 8.2384 - val_loss: 7.7865 - val_mse: 7.7865\n",
      "Epoch 6/50\n",
      "17/17 [==============================] - 4s 220ms/step - loss: 7.6359 - mse: 7.6359 - val_loss: 7.2648 - val_mse: 7.2648\n",
      "Epoch 7/50\n",
      "17/17 [==============================] - 4s 228ms/step - loss: 7.0877 - mse: 7.0877 - val_loss: 6.8142 - val_mse: 6.8142\n",
      "Epoch 8/50\n",
      "17/17 [==============================] - 4s 232ms/step - loss: 6.6039 - mse: 6.6039 - val_loss: 6.4281 - val_mse: 6.4281\n",
      "Epoch 9/50\n",
      "17/17 [==============================] - 4s 245ms/step - loss: 6.1798 - mse: 6.1798 - val_loss: 6.1005 - val_mse: 6.1005\n",
      "Epoch 10/50\n",
      "17/17 [==============================] - 4s 230ms/step - loss: 5.8089 - mse: 5.8089 - val_loss: 5.8129 - val_mse: 5.8129\n",
      "Epoch 11/50\n",
      "17/17 [==============================] - 4s 224ms/step - loss: 5.4797 - mse: 5.4797 - val_loss: 5.5478 - val_mse: 5.5478\n",
      "Epoch 12/50\n",
      "17/17 [==============================] - 4s 227ms/step - loss: 5.1896 - mse: 5.1896 - val_loss: 5.3065 - val_mse: 5.3065\n",
      "Epoch 13/50\n",
      "17/17 [==============================] - 4s 234ms/step - loss: 4.9298 - mse: 4.9298 - val_loss: 5.0793 - val_mse: 5.0793\n",
      "Epoch 14/50\n",
      "17/17 [==============================] - 4s 220ms/step - loss: 4.6958 - mse: 4.6958 - val_loss: 4.8684 - val_mse: 4.8684\n",
      "Epoch 15/50\n",
      "17/17 [==============================] - 4s 218ms/step - loss: 4.4984 - mse: 4.4984 - val_loss: 4.6938 - val_mse: 4.6938\n",
      "Epoch 16/50\n",
      "17/17 [==============================] - 4s 254ms/step - loss: 4.3243 - mse: 4.3243 - val_loss: 4.5437 - val_mse: 4.5437\n",
      "Epoch 17/50\n",
      "17/17 [==============================] - 4s 219ms/step - loss: 4.1894 - mse: 4.1894 - val_loss: 4.4287 - val_mse: 4.4287\n",
      "Epoch 18/50\n",
      "17/17 [==============================] - 4s 214ms/step - loss: 4.0806 - mse: 4.0806 - val_loss: 4.3444 - val_mse: 4.3444\n",
      "Epoch 19/50\n",
      "17/17 [==============================] - 4s 221ms/step - loss: 3.9989 - mse: 3.9989 - val_loss: 4.2846 - val_mse: 4.2846\n",
      "Epoch 20/50\n",
      "17/17 [==============================] - 4s 209ms/step - loss: 3.9410 - mse: 3.9410 - val_loss: 4.2440 - val_mse: 4.2440\n",
      "Epoch 21/50\n",
      "17/17 [==============================] - 4s 225ms/step - loss: 3.9050 - mse: 3.9050 - val_loss: 4.2170 - val_mse: 4.2170\n",
      "Epoch 22/50\n",
      "17/17 [==============================] - 4s 214ms/step - loss: 3.8766 - mse: 3.8766 - val_loss: 4.2024 - val_mse: 4.2024\n",
      "Epoch 23/50\n",
      "17/17 [==============================] - 4s 226ms/step - loss: 3.8614 - mse: 3.8614 - val_loss: 4.1876 - val_mse: 4.1876\n",
      "Epoch 24/50\n",
      "17/17 [==============================] - 4s 230ms/step - loss: 3.8515 - mse: 3.8515 - val_loss: 4.1918 - val_mse: 4.1918\n",
      "Epoch 25/50\n",
      "17/17 [==============================] - 4s 231ms/step - loss: 3.8456 - mse: 3.8456 - val_loss: 4.1816 - val_mse: 4.1816\n",
      "Epoch 26/50\n",
      "17/17 [==============================] - 4s 218ms/step - loss: 3.8391 - mse: 3.8391 - val_loss: 4.1761 - val_mse: 4.1761\n",
      "Epoch 27/50\n",
      "17/17 [==============================] - 4s 227ms/step - loss: 3.8377 - mse: 3.8377 - val_loss: 4.1777 - val_mse: 4.1777\n",
      "Epoch 28/50\n",
      "17/17 [==============================] - 4s 225ms/step - loss: 3.8345 - mse: 3.8345 - val_loss: 4.1724 - val_mse: 4.1724\n",
      "Epoch 29/50\n",
      "17/17 [==============================] - 4s 225ms/step - loss: 3.8318 - mse: 3.8318 - val_loss: 4.1717 - val_mse: 4.1717\n",
      "Epoch 30/50\n",
      "17/17 [==============================] - 4s 216ms/step - loss: 3.8300 - mse: 3.8300 - val_loss: 4.1743 - val_mse: 4.1743\n",
      "Epoch 31/50\n",
      "17/17 [==============================] - 4s 231ms/step - loss: 3.8291 - mse: 3.8291 - val_loss: 4.1752 - val_mse: 4.1752\n",
      "Epoch 32/50\n",
      "17/17 [==============================] - 4s 213ms/step - loss: 3.8264 - mse: 3.8264 - val_loss: 4.1710 - val_mse: 4.1710\n",
      "Epoch 33/50\n",
      "17/17 [==============================] - 4s 225ms/step - loss: 3.8260 - mse: 3.8260 - val_loss: 4.1671 - val_mse: 4.1671\n",
      "Epoch 34/50\n",
      "17/17 [==============================] - 4s 227ms/step - loss: 3.8222 - mse: 3.8222 - val_loss: 4.1698 - val_mse: 4.1698\n",
      "Epoch 35/50\n",
      "17/17 [==============================] - 4s 232ms/step - loss: 3.8181 - mse: 3.8181 - val_loss: 4.1639 - val_mse: 4.1639\n",
      "Epoch 36/50\n",
      "17/17 [==============================] - 5s 276ms/step - loss: 3.8132 - mse: 3.8132 - val_loss: 4.1574 - val_mse: 4.1574\n",
      "Epoch 37/50\n",
      "17/17 [==============================] - 4s 228ms/step - loss: 3.8007 - mse: 3.8007 - val_loss: 4.1485 - val_mse: 4.1485\n",
      "Epoch 38/50\n",
      "17/17 [==============================] - 4s 230ms/step - loss: 3.7822 - mse: 3.7822 - val_loss: 4.1284 - val_mse: 4.1284\n",
      "Epoch 39/50\n",
      "17/17 [==============================] - 4s 224ms/step - loss: 3.7534 - mse: 3.7534 - val_loss: 4.1059 - val_mse: 4.1059\n",
      "Epoch 40/50\n",
      "17/17 [==============================] - 4s 227ms/step - loss: 3.7209 - mse: 3.7209 - val_loss: 4.0826 - val_mse: 4.0826\n",
      "Epoch 41/50\n",
      "17/17 [==============================] - 4s 222ms/step - loss: 3.6882 - mse: 3.6882 - val_loss: 4.0535 - val_mse: 4.0535\n",
      "Epoch 42/50\n",
      "17/17 [==============================] - 4s 223ms/step - loss: 3.6554 - mse: 3.6554 - val_loss: 4.0254 - val_mse: 4.0254\n",
      "Epoch 43/50\n",
      "17/17 [==============================] - 4s 239ms/step - loss: 3.6269 - mse: 3.6269 - val_loss: 3.9998 - val_mse: 3.9998\n",
      "Epoch 44/50\n",
      "17/17 [==============================] - 4s 227ms/step - loss: 3.6002 - mse: 3.6002 - val_loss: 3.9749 - val_mse: 3.9749\n",
      "Epoch 45/50\n",
      "17/17 [==============================] - 4s 217ms/step - loss: 3.5793 - mse: 3.5793 - val_loss: 3.9493 - val_mse: 3.9493\n",
      "Epoch 46/50\n",
      "17/17 [==============================] - 4s 226ms/step - loss: 3.5629 - mse: 3.5629 - val_loss: 3.9368 - val_mse: 3.9368\n",
      "Epoch 47/50\n",
      "17/17 [==============================] - 3s 201ms/step - loss: 3.5312 - mse: 3.5312 - val_loss: 3.7824 - val_mse: 3.7824\n",
      "Epoch 48/50\n",
      "17/17 [==============================] - 4s 206ms/step - loss: 3.3397 - mse: 3.3397 - val_loss: 3.6473 - val_mse: 3.6473\n",
      "Epoch 49/50\n",
      "17/17 [==============================] - 4s 227ms/step - loss: 3.2672 - mse: 3.2672 - val_loss: 3.6419 - val_mse: 3.6419\n",
      "Epoch 50/50\n",
      "17/17 [==============================] - 4s 228ms/step - loss: 3.2527 - mse: 3.2527 - val_loss: 3.6218 - val_mse: 3.6218\n"
     ]
    }
   ],
   "source": [
    "\"\"\"\n",
    "Build the simplest possible decoder & encoder\n",
    "Feed Forward NN with 2 layers\n",
    "\n",
    "\"\"\"\n",
    "\n",
    "AE2layer = Sequential()\n",
    "AE2layer.add(Dense(2, input_dim=51, activation=\"relu\", name=\"encoder\"))\n",
    "AE2layer.add(Dense(51, activation=\"relu\", name=\"decoder\"))\n",
    "AE2layer.compile(loss=\"mse\", optimizer=\"adam\", metrics=[\"mse\"])\n",
    "\n",
    "history_2layer = AE2layer.fit(x=TrainDG, \n",
    "                              use_multiprocessing=True,\n",
    "                              workers=-1,\n",
    "                              epochs=50,\n",
    "                              validation_data=ValidateDG)"
   ]
  },
  {
   "cell_type": "code",
   "execution_count": 8,
   "metadata": {},
   "outputs": [
    {
     "name": "stdout",
     "output_type": "stream",
     "text": [
      "2/2 [==============================] - 0s 110ms/step - loss: 3.6533 - mse: 3.6533\n"
     ]
    },
    {
     "data": {
      "text/plain": [
       "[3.6533353328704834, 3.6533353328704834]"
      ]
     },
     "execution_count": 8,
     "metadata": {},
     "output_type": "execute_result"
    },
    {
     "data": {
      "image/png": "[encoded data removed]",
      "text/plain": [
       "<Figure size 432x288 with 1 Axes>"
      ]
     },
     "metadata": {
      "needs_background": "light"
     },
     "output_type": "display_data"
    }
   ],
   "source": [
    "\"\"\"\n",
    "Simplest FF Autoencoder metrics\n",
    "It seems to overfit, makes sense that it does.\n",
    "\"\"\"\n",
    "\n",
    "plt.figure(1)\n",
    "plt.plot(history_2layer.history[\"loss\"])\n",
    "plt.plot(history_2layer.history[\"val_loss\"])\n",
    "plt.xlabel(\"epoch\")\n",
    "plt.ylabel(\"Mean Squared Error\")\n",
    "plt.legend([\"Training MSE\", \"Validation MSE\"])\n",
    "plt.title(\"2 Layer Feed Forward AutoEncoder\")\n",
    "plt.savefig(\"Figures/2layerMetrics\")\n",
    "\n",
    "AE2layer.evaluate(x=TestDG, use_multiprocessing=True, workers=-1)"
   ]
  },
  {
   "cell_type": "code",
   "execution_count": 9,
   "metadata": {},
   "outputs": [],
   "source": [
    "\"\"\"\n",
    "Embeddings generated by simplest FF Model\n",
    "\"\"\"\n",
    "s01 = FlowCal.io.FCSData(FCS_data[0])\n",
    "s01 = np.arcsinh(np.array(s01))\n",
    "\n",
    "simple_encoder = AE2layer.get_layer(\"encoder\")\n",
    "s01_2layer_autoencoding = simple_encoder(s01)\n",
    "np.save(\"s01_2layer_autoencoding\", s01_2layer_autoencoding)"
   ]
  },
  {
   "cell_type": "code",
   "execution_count": 10,
   "metadata": {
    "jupyter": {
     "outputs_hidden": true
    }
   },
   "outputs": [
    {
     "name": "stdout",
     "output_type": "stream",
     "text": [
      "Epoch 1/50\n",
      "17/17 [==============================] - 5s 231ms/step - loss: 12.4564 - mse: 12.4564 - val_loss: 11.4257 - val_mse: 11.4257\n",
      "Epoch 2/50\n",
      "17/17 [==============================] - 4s 237ms/step - loss: 11.4556 - mse: 11.4556 - val_loss: 10.0135 - val_mse: 10.0135\n",
      "Epoch 3/50\n",
      "17/17 [==============================] - 4s 242ms/step - loss: 10.2918 - mse: 10.2918 - val_loss: 9.1814 - val_mse: 9.1814\n",
      "Epoch 4/50\n",
      "17/17 [==============================] - 4s 239ms/step - loss: 9.6628 - mse: 9.6628 - val_loss: 8.9754 - val_mse: 8.9754\n",
      "Epoch 5/50\n",
      "17/17 [==============================] - 4s 236ms/step - loss: 9.3957 - mse: 9.3957 - val_loss: 8.9218 - val_mse: 8.9218\n",
      "Epoch 6/50\n",
      "17/17 [==============================] - 4s 214ms/step - loss: 9.2820 - mse: 9.2820 - val_loss: 8.8952 - val_mse: 8.8952\n",
      "Epoch 7/50\n",
      "17/17 [==============================] - 4s 242ms/step - loss: 9.2272 - mse: 9.2272 - val_loss: 8.9065 - val_mse: 8.9065\n",
      "Epoch 8/50\n",
      "17/17 [==============================] - 4s 248ms/step - loss: 9.2095 - mse: 9.2095 - val_loss: 8.8951 - val_mse: 8.8951\n",
      "Epoch 9/50\n",
      "17/17 [==============================] - 4s 225ms/step - loss: 9.1875 - mse: 9.1875 - val_loss: 8.8738 - val_mse: 8.8738\n",
      "Epoch 10/50\n",
      "17/17 [==============================] - 4s 231ms/step - loss: 9.1614 - mse: 9.1614 - val_loss: 8.8531 - val_mse: 8.8531\n",
      "Epoch 11/50\n",
      "17/17 [==============================] - 4s 235ms/step - loss: 9.1248 - mse: 9.1248 - val_loss: 8.8127 - val_mse: 8.8127\n",
      "Epoch 12/50\n",
      "17/17 [==============================] - 4s 241ms/step - loss: 9.0811 - mse: 9.0811 - val_loss: 8.7493 - val_mse: 8.7493\n",
      "Epoch 13/50\n",
      "17/17 [==============================] - 4s 219ms/step - loss: 9.0339 - mse: 9.0339 - val_loss: 8.6891 - val_mse: 8.6891\n",
      "Epoch 14/50\n",
      "17/17 [==============================] - 4s 254ms/step - loss: 8.9918 - mse: 8.9918 - val_loss: 8.6569 - val_mse: 8.6569\n",
      "Epoch 15/50\n",
      "17/17 [==============================] - 4s 243ms/step - loss: 8.9618 - mse: 8.9618 - val_loss: 8.6278 - val_mse: 8.6278\n",
      "Epoch 16/50\n",
      "17/17 [==============================] - 4s 238ms/step - loss: 8.9386 - mse: 8.9386 - val_loss: 8.6093 - val_mse: 8.6093\n",
      "Epoch 17/50\n",
      "17/17 [==============================] - 4s 238ms/step - loss: 8.9231 - mse: 8.9231 - val_loss: 8.6012 - val_mse: 8.6012\n",
      "Epoch 18/50\n",
      "17/17 [==============================] - 4s 242ms/step - loss: 8.9087 - mse: 8.9087 - val_loss: 8.5903 - val_mse: 8.5903\n",
      "Epoch 19/50\n",
      "17/17 [==============================] - 4s 234ms/step - loss: 8.8962 - mse: 8.8962 - val_loss: 8.5742 - val_mse: 8.5742\n",
      "Epoch 20/50\n",
      "17/17 [==============================] - 4s 248ms/step - loss: 8.8526 - mse: 8.8526 - val_loss: 8.3600 - val_mse: 8.3600\n",
      "Epoch 21/50\n",
      "17/17 [==============================] - 4s 234ms/step - loss: 8.5704 - mse: 8.5704 - val_loss: 8.1990 - val_mse: 8.1990\n",
      "Epoch 22/50\n",
      "17/17 [==============================] - 4s 255ms/step - loss: 8.4747 - mse: 8.4747 - val_loss: 8.1597 - val_mse: 8.1597\n",
      "Epoch 23/50\n",
      "17/17 [==============================] - 4s 238ms/step - loss: 8.4398 - mse: 8.4398 - val_loss: 8.1421 - val_mse: 8.1421\n",
      "Epoch 24/50\n",
      "17/17 [==============================] - 4s 244ms/step - loss: 8.4267 - mse: 8.4268 - val_loss: 8.1245 - val_mse: 8.1245\n",
      "Epoch 25/50\n",
      "17/17 [==============================] - 4s 248ms/step - loss: 8.4167 - mse: 8.4167 - val_loss: 8.1216 - val_mse: 8.1216\n",
      "Epoch 26/50\n",
      "17/17 [==============================] - 4s 240ms/step - loss: 8.4086 - mse: 8.4086 - val_loss: 8.1105 - val_mse: 8.1105\n",
      "Epoch 27/50\n",
      "17/17 [==============================] - 4s 236ms/step - loss: 8.4096 - mse: 8.4096 - val_loss: 8.1131 - val_mse: 8.1131\n",
      "Epoch 28/50\n",
      "17/17 [==============================] - 4s 244ms/step - loss: 8.4067 - mse: 8.4067 - val_loss: 8.1106 - val_mse: 8.1106\n",
      "Epoch 29/50\n",
      "17/17 [==============================] - 4s 246ms/step - loss: 8.4030 - mse: 8.4030 - val_loss: 8.1086 - val_mse: 8.1086\n",
      "Epoch 30/50\n",
      "17/17 [==============================] - 4s 247ms/step - loss: 8.4027 - mse: 8.4027 - val_loss: 8.1081 - val_mse: 8.1081\n",
      "Epoch 31/50\n",
      "17/17 [==============================] - 4s 247ms/step - loss: 8.3996 - mse: 8.3996 - val_loss: 8.1077 - val_mse: 8.1077\n",
      "Epoch 32/50\n",
      "17/17 [==============================] - 4s 227ms/step - loss: 8.3982 - mse: 8.3982 - val_loss: 8.1028 - val_mse: 8.1028\n",
      "Epoch 33/50\n",
      "17/17 [==============================] - 4s 244ms/step - loss: 8.3962 - mse: 8.3962 - val_loss: 8.1045 - val_mse: 8.1045\n",
      "Epoch 34/50\n",
      "17/17 [==============================] - 4s 220ms/step - loss: 8.3969 - mse: 8.3969 - val_loss: 8.1014 - val_mse: 8.1014\n",
      "Epoch 35/50\n",
      "17/17 [==============================] - 4s 234ms/step - loss: 8.3937 - mse: 8.3937 - val_loss: 8.0960 - val_mse: 8.0960\n",
      "Epoch 36/50\n",
      "17/17 [==============================] - 4s 252ms/step - loss: 8.3943 - mse: 8.3943 - val_loss: 8.0916 - val_mse: 8.0916\n",
      "Epoch 37/50\n",
      "17/17 [==============================] - 4s 253ms/step - loss: 8.3927 - mse: 8.3927 - val_loss: 8.0947 - val_mse: 8.0947\n",
      "Epoch 38/50\n",
      "17/17 [==============================] - 4s 238ms/step - loss: 8.3902 - mse: 8.3902 - val_loss: 8.0942 - val_mse: 8.0942\n",
      "Epoch 39/50\n",
      "17/17 [==============================] - 4s 241ms/step - loss: 8.3900 - mse: 8.3900 - val_loss: 8.0946 - val_mse: 8.0946\n",
      "Epoch 40/50\n",
      "17/17 [==============================] - 4s 237ms/step - loss: 8.3885 - mse: 8.3885 - val_loss: 8.0925 - val_mse: 8.0925\n",
      "Epoch 41/50\n",
      "17/17 [==============================] - 4s 239ms/step - loss: 8.3850 - mse: 8.3850 - val_loss: 8.0912 - val_mse: 8.0912\n",
      "Epoch 42/50\n",
      "17/17 [==============================] - 4s 240ms/step - loss: 8.3887 - mse: 8.3887 - val_loss: 8.0890 - val_mse: 8.0890\n",
      "Epoch 43/50\n",
      "17/17 [==============================] - 4s 224ms/step - loss: 8.3850 - mse: 8.3850 - val_loss: 8.0903 - val_mse: 8.0903\n",
      "Epoch 44/50\n",
      "17/17 [==============================] - 4s 218ms/step - loss: 8.3840 - mse: 8.3840 - val_loss: 8.0911 - val_mse: 8.0911\n",
      "Epoch 45/50\n",
      "17/17 [==============================] - 4s 226ms/step - loss: 8.3863 - mse: 8.3863 - val_loss: 8.0917 - val_mse: 8.0917\n",
      "Epoch 46/50\n",
      "17/17 [==============================] - 4s 226ms/step - loss: 8.3845 - mse: 8.3845 - val_loss: 8.0889 - val_mse: 8.0889\n",
      "Epoch 47/50\n",
      "17/17 [==============================] - 4s 234ms/step - loss: 8.3823 - mse: 8.3823 - val_loss: 8.0879 - val_mse: 8.0879\n",
      "Epoch 48/50\n",
      "17/17 [==============================] - 4s 240ms/step - loss: 8.3823 - mse: 8.3823 - val_loss: 8.0855 - val_mse: 8.0855\n",
      "Epoch 49/50\n",
      "17/17 [==============================] - 4s 250ms/step - loss: 8.3812 - mse: 8.3812 - val_loss: 8.0881 - val_mse: 8.0881\n",
      "Epoch 50/50\n",
      "17/17 [==============================] - 4s 231ms/step - loss: 8.3810 - mse: 8.3810 - val_loss: 8.0862 - val_mse: 8.0862\n"
     ]
    }
   ],
   "source": [
    "\"\"\"\n",
    "Add a few layers to the network, see how it changes embeddings\n",
    "Still a simple FF model\n",
    "\n",
    "\"\"\"\n",
    "AE6layer = Sequential()\n",
    "AE6layer.add(Dense(20, input_dim=51, activation=\"relu\", name=\"encoder1\"))\n",
    "AE6layer.add(Dense(10, activation=\"relu\", name=\"encoder2\"))\n",
    "AE6layer.add(Dense(2, activation=\"relu\", name=\"encoder3\"))\n",
    "AE6layer.add(Dense(10, activation=\"relu\", name=\"decoder1\"))\n",
    "AE6layer.add(Dense(20, activation=\"relu\", name=\"decoder2\"))\n",
    "AE6layer.add(Dense(51, activation=\"relu\", name=\"decoder3\"))\n",
    "AE6layer.compile(loss=\"mse\", optimizer=\"adam\", metrics=[\"mse\"])\n",
    "\n",
    "history_6layer = AE6layer.fit(x=TrainDG, \n",
    "                              use_multiprocessing=True,\n",
    "                              workers=-1,\n",
    "                              epochs=50,\n",
    "                              validation_data=ValidateDG)"
   ]
  },
  {
   "cell_type": "code",
   "execution_count": 11,
   "metadata": {},
   "outputs": [
    {
     "name": "stdout",
     "output_type": "stream",
     "text": [
      "2/2 [==============================] - 0s 110ms/step - loss: 8.6034 - mse: 8.6034\n"
     ]
    },
    {
     "data": {
      "text/plain": [
       "[8.603449821472168, 8.603448867797852]"
      ]
     },
     "execution_count": 11,
     "metadata": {},
     "output_type": "execute_result"
    },
    {
     "data": {
      "image/png": "[encoded data removed]",
      "text/plain": [
       "<Figure size 432x288 with 1 Axes>"
      ]
     },
     "metadata": {
      "needs_background": "light"
     },
     "output_type": "display_data"
    }
   ],
   "source": [
    "\"\"\"\n",
    "6 layer FF Autoencoder metrics\n",
    "It also seems to overfit, but it did much better than the 2 layer model.\n",
    "\"\"\"\n",
    "\n",
    "plt.figure(1)\n",
    "plt.plot(history_6layer.history[\"loss\"])\n",
    "plt.plot(history_6layer.history[\"val_loss\"])\n",
    "plt.xlabel(\"epoch\")\n",
    "plt.ylabel(\"Mean Squared Error\")\n",
    "plt.legend([\"Training MSE\", \"Validation MSE\"])\n",
    "plt.title(\"6 Layer Feed Forward AutoEncoder\")\n",
    "plt.savefig(\"Figures/6layerMetrics\")\n",
    "\n",
    "AE6layer.evaluate(x=TestDG, use_multiprocessing=True, workers=-1)"
   ]
  },
  {
   "cell_type": "code",
   "execution_count": 12,
   "metadata": {},
   "outputs": [],
   "source": [
    "\"\"\"\n",
    "Embeddings generated by simplest FF Model\n",
    "\"\"\"\n",
    "s01 = FlowCal.io.FCSData(FCS_data[0])\n",
    "s01 = np.arcsinh(np.array(s01))\n",
    "\n",
    "e1 = AE6layer.get_layer(\"encoder1\")\n",
    "e2 = AE6layer.get_layer(\"encoder2\")\n",
    "e3 = AE6layer.get_layer(\"encoder3\")\n",
    "s01_6layer_autoencoding = e3(e2(e1(s01)))\n",
    "\n",
    "np.save(\"s01_6layer_autoencoding\", s01_6layer_autoencoding)"
   ]
  },
  {
   "cell_type": "code",
   "execution_count": null,
   "metadata": {},
   "outputs": [],
   "source": []
  }
 ],
 "metadata": {
  "kernelspec": {
   "display_name": "Python 3",
   "language": "python",
   "name": "python3"
  },
  "language_info": {
   "codemirror_mode": {
    "name": "ipython",
    "version": 3
   },
   "file_extension": ".py",
   "mimetype": "text/x-python",
   "name": "python",
   "nbconvert_exporter": "python",
   "pygments_lexer": "ipython3",
   "version": "3.8.5"
  }
 },
 "nbformat": 4,
 "nbformat_minor": 4
}
