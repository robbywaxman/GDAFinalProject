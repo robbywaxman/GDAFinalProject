{
 "cells": [
  {
   "cell_type": "code",
   "execution_count": 1,
   "metadata": {},
   "outputs": [],
   "source": [
    "import numpy as np\n",
    "import pandas as pd"
   ]
  },
  {
   "cell_type": "code",
   "execution_count": 2,
   "metadata": {},
   "outputs": [],
   "source": [
    "Samusik01 = []\n",
    "Samusik02 = []\n",
    "Samusik03 = []\n",
    "Samusik04 = []\n",
    "Samusik05 = []\n",
    "Samusik06 = []\n",
    "Samusik07 = []\n",
    "Samusik08 = []\n",
    "Samusik09 = []\n",
    "Samusik10 = []\n",
    "Samusik = [Samusik01, Samusik02, Samusik03, Samusik04, Samusik05, Samusik06, Samusik07, Samusik08, Samusik09, Samusik10]\n",
    "\n",
    "SamusikEvents01 = []\n",
    "SamusikEvents02 = []\n",
    "SamusikEvents03 = []\n",
    "SamusikEvents04 = []\n",
    "SamusikEvents05 = []\n",
    "SamusikEvents06 = []\n",
    "SamusikEvents07 = []\n",
    "SamusikEvents08 = []\n",
    "SamusikEvents09 = []\n",
    "SamusikEvents10 = []\n",
    "SamusikEvents = [SamusikEvents01, SamusikEvents02, SamusikEvents03, SamusikEvents04, SamusikEvents05, SamusikEvents06, SamusikEvents07, SamusikEvents08, SamusikEvents09, SamusikEvents10]\n",
    "\n",
    "\n",
    "with open('../SamusikData/population_assignments.txt') as f:\n",
    "    lines = f.readlines()\n",
    "temp = 0\n",
    "for line in lines:\n",
    "    Samusik[int(line[19:21])-1].append((line.split('\\t')[-1])[:-1])\n",
    "    \n",
    "    if len(line.split()) > 2:\n",
    "        temp = int(line.split()[2])\n",
    "        SamusikEvents[int(line[19:21])-1].append(temp)\n",
    "    else:\n",
    "        temp = temp + 1\n",
    "        SamusikEvents[int(line[19:21])-1].append(temp+1)"
   ]
  },
  {
   "cell_type": "code",
   "execution_count": 3,
   "metadata": {},
   "outputs": [],
   "source": [
    "populations = np.unique(Samusik[0])\n",
    "populations = list(populations)\n",
    "populations.insert(0, \"No Event\")\n",
    "populations_df = pd.DataFrame(np.array(populations), columns = [\"Population\"])\n",
    "populations_df.to_csv(\"../SamusikData/PopulationDescription.csv\",index=True)"
   ]
  },
  {
   "cell_type": "code",
   "execution_count": 4,
   "metadata": {},
   "outputs": [],
   "source": [
    "def get_data_index(data, entry):\n",
    "    #For some reason 1 entry in Samusik04 is missing data\n",
    "    if entry == \"\":\n",
    "        return -1\n",
    "    else:\n",
    "        return data.index(entry)"
   ]
  },
  {
   "cell_type": "code",
   "execution_count": 5,
   "metadata": {},
   "outputs": [],
   "source": [
    "SamusikPop01 = []\n",
    "SamusikPop02 = []\n",
    "SamusikPop03 = []\n",
    "SamusikPop04 = []\n",
    "SamusikPop05 = []\n",
    "SamusikPop06 = []\n",
    "SamusikPop07 = []\n",
    "SamusikPop08 = []\n",
    "SamusikPop09 = []\n",
    "SamusikPop10 = []\n",
    "SamusikPop = [SamusikPop01, SamusikPop02, SamusikPop03, SamusikPop04, SamusikPop05, SamusikPop06, SamusikPop07, SamusikPop08, SamusikPop09, SamusikPop10]\n",
    "\n",
    "    \n",
    "\n",
    "\n",
    "for i in range(0,10):\n",
    "    SamusikList = Samusik[i]\n",
    "    SamusikEventList = SamusikEvents[i]\n",
    "    SamusikPopList = SamusikPop[i]\n",
    "    SamusikPopList = np.zeros(max(SamusikEventList)+1)\n",
    "    for j in range(0,len(SamusikList)):\n",
    "        idx = SamusikEventList[j]\n",
    "        entry = SamusikList[j]\n",
    "        SamusikPopList[idx] = (get_data_index(populations, entry))\n",
    "    SamusikPopListdf = pd.DataFrame(SamusikPopList, columns = [\"Population\"])\n",
    "    SamusikPopListdf.to_csv('../SamusikData/population_assignments' + \"{0:0=2d}\".format(i+1) + '.csv',index=True)"
   ]
  },
  {
   "cell_type": "code",
   "execution_count": null,
   "metadata": {},
   "outputs": [],
   "source": []
  }
 ],
 "metadata": {
  "kernelspec": {
   "display_name": "Python 3",
   "language": "python",
   "name": "python3"
  },
  "language_info": {
   "codemirror_mode": {
    "name": "ipython",
    "version": 3
   },
   "file_extension": ".py",
   "mimetype": "text/x-python",
   "name": "python",
   "nbconvert_exporter": "python",
   "pygments_lexer": "ipython3",
   "version": "3.8.5"
  }
 },
 "nbformat": 4,
 "nbformat_minor": 4
}
