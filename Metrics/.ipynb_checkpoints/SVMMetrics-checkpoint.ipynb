{
 "cells": [
  {
   "cell_type": "code",
   "execution_count": 1,
   "metadata": {},
   "outputs": [],
   "source": [
    "import numpy as np\n",
    "import pandas as pd\n",
    "from matplotlib import pyplot as plt\n",
    "import matplotlib.cm as cm\n",
    "import copy\n",
    "import matplotlib.colors\n",
    "from sklearn.svm import SVC\n",
    "\n",
    "from sklearn.metrics import roc_curve, roc_auc_score\n",
    "from sklearn.model_selection import train_test_split\n",
    "import sklearn.metrics as metrics\n",
    "from sklearn.model_selection import StratifiedKFold\n",
    "from sklearn.metrics import auc\n",
    "from sklearn.metrics import plot_roc_curve"
   ]
  },
  {
   "cell_type": "code",
   "execution_count": 2,
   "metadata": {},
   "outputs": [],
   "source": [
    "s01_umap = np.load(\"../Embeddings/s01_umap.npy\")\n",
    "s01_tsne = np.load(\"../Embeddings/s01_tsne.npy\")\n",
    "s01_pca = np.load(\"../Embeddings/s01_pca.npy\")\n",
    "s01_2layer = np.load(\"../Embeddings/s01_2layer.npy\")\n",
    "s01_6layer = np.load(\"../Embeddings/s01_6layer.npy\")\n",
    "s01_vae = np.load(\"../Embeddings/s01_vae.npy\")\n",
    "PopData = pd.read_csv(\"../SamusikData/population_assignments01.csv\")\n",
    "Assignments = np.array(PopData.Population)"
   ]
  },
  {
   "cell_type": "code",
   "execution_count": 3,
   "metadata": {},
   "outputs": [],
   "source": [
    "np.random.seed(1)"
   ]
  },
  {
   "cell_type": "code",
   "execution_count": 4,
   "metadata": {},
   "outputs": [],
   "source": [
    "def run_crossval(X, y):\n",
    "    cv = StratifiedKFold(n_splits=5)  \n",
    "\n",
    "    accs = []\n",
    "    mean_fpr = np.linspace(0, 1, 100)\n",
    "\n",
    "    classifier = SVC(kernel='rbf', random_state = 1)\n",
    "    for i, (train, test) in enumerate(cv.split(X, y)):\n",
    "        X_train = np.array(X[train])\n",
    "        X_test = np.array(X[test])\n",
    "        y_train = np.array(y[train])\n",
    "        y_test = np.array(y[test])\n",
    "\n",
    "        classifier.fit(X_train, y_train)\n",
    "        acc = metrics.accuracy_score(y_test, classifier.predict(X_test))\n",
    "        print(\"Fold \" + str(i+1) + \": \" + str(acc))\n",
    "        accs.append(acc)\n",
    "    print(\"Mean Accuracy: \" + str(np.mean(accs)))\n",
    "    print(\"Accuracy SD: \" + str(np.std(accs)))\n",
    "    return np.mean(accs), np.std(accs)"
   ]
  },
  {
   "cell_type": "markdown",
   "metadata": {},
   "source": [
    "### PCA Accuracy"
   ]
  },
  {
   "cell_type": "code",
   "execution_count": 5,
   "metadata": {},
   "outputs": [],
   "source": [
    "X_pca = s01_pca[:,0:2]\n",
    "y = Assignments"
   ]
  },
  {
   "cell_type": "code",
   "execution_count": 6,
   "metadata": {},
   "outputs": [
    {
     "name": "stderr",
     "output_type": "stream",
     "text": [
      "C:\\Users\\robby\\anaconda3\\lib\\site-packages\\sklearn\\model_selection\\_split.py:670: UserWarning: The least populated class in y has only 3 members, which is less than n_splits=5.\n",
      "  warnings.warn((\"The least populated class in y has only %d\"\n"
     ]
    },
    {
     "name": "stdout",
     "output_type": "stream",
     "text": [
      "Fold 1: 0.5656478443561849\n",
      "Fold 2: 0.568698555229379\n",
      "Fold 3: 0.5640361480458183\n",
      "Fold 4: 0.5726126748402693\n",
      "Fold 5: 0.5632627216209993\n",
      "Mean Accuracy: 0.5668515888185301\n",
      "Accuracy SD: 0.0034309494985927916\n"
     ]
    }
   ],
   "source": [
    "mean_accs_pca, std_accs_pca = run_crossval(X_pca, np.array(y))"
   ]
  },
  {
   "cell_type": "markdown",
   "metadata": {},
   "source": [
    "### UMAP Accuracy"
   ]
  },
  {
   "cell_type": "code",
   "execution_count": 7,
   "metadata": {},
   "outputs": [],
   "source": [
    "X_umap = s01_umap[:,0:2]\n",
    "y = Assignments"
   ]
  },
  {
   "cell_type": "code",
   "execution_count": 8,
   "metadata": {},
   "outputs": [
    {
     "name": "stderr",
     "output_type": "stream",
     "text": [
      "C:\\Users\\robby\\anaconda3\\lib\\site-packages\\sklearn\\model_selection\\_split.py:670: UserWarning: The least populated class in y has only 3 members, which is less than n_splits=5.\n",
      "  warnings.warn((\"The least populated class in y has only %d\"\n"
     ]
    },
    {
     "name": "stdout",
     "output_type": "stream",
     "text": [
      "Fold 1: 0.7353940021873021\n",
      "Fold 2: 0.739538364128245\n",
      "Fold 3: 0.7370632590801819\n",
      "Fold 4: 0.7438554078167271\n",
      "Fold 5: 0.745279760534193\n",
      "Mean Accuracy: 0.7402261587493297\n",
      "Accuracy SD: 0.003808860002442014\n"
     ]
    }
   ],
   "source": [
    "mean_accs_umap, std_accs_umap = run_crossval(X_umap, np.array(y))"
   ]
  },
  {
   "cell_type": "markdown",
   "metadata": {},
   "source": [
    "### tSNE Accuracy"
   ]
  },
  {
   "cell_type": "code",
   "execution_count": 9,
   "metadata": {},
   "outputs": [],
   "source": [
    "X_tsne = s01_tsne[:,0:2]\n",
    "y = Assignments"
   ]
  },
  {
   "cell_type": "code",
   "execution_count": 10,
   "metadata": {},
   "outputs": [
    {
     "name": "stderr",
     "output_type": "stream",
     "text": [
      "C:\\Users\\robby\\anaconda3\\lib\\site-packages\\sklearn\\model_selection\\_split.py:670: UserWarning: The least populated class in y has only 3 members, which is less than n_splits=5.\n",
      "  warnings.warn((\"The least populated class in y has only %d\"\n"
     ]
    },
    {
     "name": "stdout",
     "output_type": "stream",
     "text": [
      "Fold 1: 0.7374661831577736\n",
      "Fold 2: 0.7412651816036379\n",
      "Fold 3: 0.7405168940309675\n",
      "Fold 4: 0.7442583318943188\n",
      "Fold 5: 0.7468915496200783\n",
      "Mean Accuracy: 0.7420796280613551\n",
      "Accuracy SD: 0.0032339039577475933\n"
     ]
    }
   ],
   "source": [
    "mean_accs_tsne, std_accs_tsne = run_crossval(X_tsne, np.array(y))"
   ]
  },
  {
   "cell_type": "markdown",
   "metadata": {},
   "source": [
    "### 2 Layer AE Accuracy"
   ]
  },
  {
   "cell_type": "code",
   "execution_count": 11,
   "metadata": {},
   "outputs": [],
   "source": [
    "X_2layer = s01_2layer[:,0:2]\n",
    "y = Assignments"
   ]
  },
  {
   "cell_type": "code",
   "execution_count": 12,
   "metadata": {},
   "outputs": [
    {
     "name": "stderr",
     "output_type": "stream",
     "text": [
      "C:\\Users\\robby\\anaconda3\\lib\\site-packages\\sklearn\\model_selection\\_split.py:670: UserWarning: The least populated class in y has only 3 members, which is less than n_splits=5.\n",
      "  warnings.warn((\"The least populated class in y has only %d\"\n"
     ]
    },
    {
     "name": "stdout",
     "output_type": "stream",
     "text": [
      "Fold 1: 0.5013526736890578\n",
      "Fold 2: 0.510619927473666\n",
      "Fold 3: 0.5097565187359696\n",
      "Fold 4: 0.5164335463074886\n",
      "Fold 5: 0.5093829150356897\n",
      "Mean Accuracy: 0.5095091162483744\n",
      "Accuracy SD: 0.004812199563238855\n"
     ]
    }
   ],
   "source": [
    "mean_accs_2layer, std_accs_2layer = run_crossval(X_2layer, np.array(y))"
   ]
  },
  {
   "cell_type": "markdown",
   "metadata": {},
   "source": [
    "### 6 Layer AE Accuracy"
   ]
  },
  {
   "cell_type": "code",
   "execution_count": 13,
   "metadata": {},
   "outputs": [],
   "source": [
    "X_6layer = s01_6layer[:,0:2]\n",
    "y = Assignments"
   ]
  },
  {
   "cell_type": "code",
   "execution_count": 14,
   "metadata": {},
   "outputs": [
    {
     "name": "stderr",
     "output_type": "stream",
     "text": [
      "C:\\Users\\robby\\anaconda3\\lib\\site-packages\\sklearn\\model_selection\\_split.py:670: UserWarning: The least populated class in y has only 3 members, which is less than n_splits=5.\n",
      "  warnings.warn((\"The least populated class in y has only %d\"\n"
     ]
    },
    {
     "name": "stdout",
     "output_type": "stream",
     "text": [
      "Fold 1: 0.6812870546249928\n",
      "Fold 2: 0.683819720255569\n",
      "Fold 3: 0.6827260691878202\n",
      "Fold 4: 0.6869855522937892\n",
      "Fold 5: 0.6886368869445084\n",
      "Mean Accuracy: 0.6846910566613359\n",
      "Accuracy SD: 0.00272183466057234\n"
     ]
    }
   ],
   "source": [
    "mean_accs_6layer, std_accs_6layer = run_crossval(X_6layer, np.array(y))"
   ]
  },
  {
   "cell_type": "markdown",
   "metadata": {},
   "source": [
    "### VAE Accuracy"
   ]
  },
  {
   "cell_type": "code",
   "execution_count": 15,
   "metadata": {},
   "outputs": [],
   "source": [
    "X_vae = s01_vae[:,0:2]\n",
    "y = Assignments"
   ]
  },
  {
   "cell_type": "code",
   "execution_count": 16,
   "metadata": {},
   "outputs": [
    {
     "name": "stderr",
     "output_type": "stream",
     "text": [
      "C:\\Users\\robby\\anaconda3\\lib\\site-packages\\sklearn\\model_selection\\_split.py:670: UserWarning: The least populated class in y has only 3 members, which is less than n_splits=5.\n",
      "  warnings.warn((\"The least populated class in y has only %d\"\n"
     ]
    },
    {
     "name": "stdout",
     "output_type": "stream",
     "text": [
      "Fold 1: 0.702008864329707\n",
      "Fold 2: 0.7088585736487654\n",
      "Fold 3: 0.7052898175329534\n",
      "Fold 4: 0.711679042191907\n",
      "Fold 5: 0.7088418144139995\n",
      "Mean Accuracy: 0.7073356224234664\n",
      "Accuracy SD: 0.003347027322008139\n"
     ]
    }
   ],
   "source": [
    "mean_accs_vae, std_accs_vae = run_crossval(X_vae, np.array(y))"
   ]
  },
  {
   "cell_type": "markdown",
   "metadata": {},
   "source": [
    "### Figure Generation"
   ]
  },
  {
   "cell_type": "code",
   "execution_count": 17,
   "metadata": {},
   "outputs": [],
   "source": [
    "# Create lists for the plot\n",
    "Methods = ['PCA', 'UMAP', 'tSNE', '2 Layer AE', '6 Layer AE', 'VAE']\n",
    "x_pos = np.arange(len(Methods))\n",
    "Means = [mean_accs_pca, mean_accs_umap, mean_accs_tsne, mean_accs_2layer, mean_accs_6layer, mean_accs_vae]\n",
    "Errors = [std_accs_pca, std_accs_umap, std_accs_tsne, std_accs_2layer, std_accs_6layer, std_accs_vae]"
   ]
  },
  {
   "cell_type": "code",
   "execution_count": 18,
   "metadata": {},
   "outputs": [
    {
     "data": {
      "image/png": "[encoded data removed]",
      "text/plain": [
       "<Figure size 432x288 with 1 Axes>"
      ]
     },
     "metadata": {
      "needs_background": "light"
     },
     "output_type": "display_data"
    }
   ],
   "source": [
    "# Build the plot\n",
    "fig, ax = plt.subplots()\n",
    "ax.bar(x_pos, Means, yerr=Errors, align='center', alpha=0.5, ecolor='black', capsize=10)\n",
    "ax.set_ylabel('5 Fold CV Mean Accuracy\\nof SVM Classifier')\n",
    "ax.set_xlabel('Embeddings for RFC Training')\n",
    "ax.set_xticks(x_pos)\n",
    "ax.set_xticklabels(Methods)\n",
    "plt.suptitle('5 Fold CV Accuracies Of SVM Classifiers\\nPredicting Cluster Labels\\n(Trained with Specified Embedding)', fontweight = 'bold')\n",
    "ax.yaxis.grid(True)\n",
    "ax.set_ylim([0.0, 1.0])\n",
    "# Save the figure and show\n",
    "plt.tight_layout()\n",
    "plt.savefig('../Figures/SVMClassiferAccuracies.png')\n",
    "plt.show()"
   ]
  },
  {
   "cell_type": "code",
   "execution_count": null,
   "metadata": {},
   "outputs": [],
   "source": []
  }
 ],
 "metadata": {
  "kernelspec": {
   "display_name": "Python 3",
   "language": "python",
   "name": "python3"
  },
  "language_info": {
   "codemirror_mode": {
    "name": "ipython",
    "version": 3
   },
   "file_extension": ".py",
   "mimetype": "text/x-python",
   "name": "python",
   "nbconvert_exporter": "python",
   "pygments_lexer": "ipython3",
   "version": "3.8.5"
  }
 },
 "nbformat": 4,
 "nbformat_minor": 4
}
