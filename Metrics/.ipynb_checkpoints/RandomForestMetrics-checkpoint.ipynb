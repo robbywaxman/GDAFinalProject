{
 "cells": [
  {
   "cell_type": "code",
   "execution_count": 1,
   "metadata": {},
   "outputs": [],
   "source": [
    "import numpy as np\n",
    "import pandas as pd\n",
    "from matplotlib import pyplot as plt\n",
    "import matplotlib.cm as cm\n",
    "import copy\n",
    "import matplotlib.colors\n",
    "from sklearn.ensemble import RandomForestClassifier\n",
    "from sklearn.metrics import roc_curve, roc_auc_score\n",
    "from sklearn.model_selection import train_test_split\n",
    "import sklearn.metrics as metrics\n",
    "from sklearn.model_selection import StratifiedKFold\n",
    "from sklearn.metrics import auc\n",
    "from sklearn.metrics import plot_roc_curve"
   ]
  },
  {
   "cell_type": "code",
   "execution_count": 5,
   "metadata": {},
   "outputs": [],
   "source": [
    "s01_umap = np.load(\"../Embeddings/s01_umap.npy\")\n",
    "s01_tsne = np.load(\"../Embeddings/s01_tsne.npy\")\n",
    "s01_pca = np.load(\"../Embeddings/s01_pca.npy\")\n",
    "s01_2layer = np.load(\"../Embeddings/s01_2layer.npy\")\n",
    "s01_6layer = np.load(\"../Embeddings/s01_6layer.npy\")\n",
    "s01_vae = np.load(\"../Embeddings/s01_vae.npy\")\n",
    "PopData = pd.read_csv(\"../SamusikData/population_assignments01.csv\")\n",
    "Assignments = np.array(PopData.Population)"
   ]
  },
  {
   "cell_type": "code",
   "execution_count": 6,
   "metadata": {},
   "outputs": [],
   "source": [
    "np.random.seed(1)"
   ]
  },
  {
   "cell_type": "code",
   "execution_count": 37,
   "metadata": {},
   "outputs": [],
   "source": [
    "def run_crossval(X, y):\n",
    "    cv = StratifiedKFold(n_splits=5)  \n",
    "\n",
    "    accs = []\n",
    "    mean_fpr = np.linspace(0, 1, 100)\n",
    "\n",
    "    classifier = RandomForestClassifier(random_state=1234)\n",
    "    for i, (train, test) in enumerate(cv.split(X, y)):\n",
    "        X_train = np.array(X[train])\n",
    "        X_test = np.array(X[test])\n",
    "        y_train = np.array(y[train])\n",
    "        y_test = np.array(y[test])\n",
    "\n",
    "        classifier.fit(X_train, y_train)\n",
    "        acc = metrics.accuracy_score(y_test, classifier.predict(X_test))\n",
    "        print(\"Fold \" + str(i+1) + \": \" + str(acc))\n",
    "        accs.append(acc)\n",
    "    print(\"Mean Accuracy: \" + str(np.mean(accs)))\n",
    "    print(\"Accuracy SD: \" + str(np.std(accs)))\n",
    "    return np.mean(accs), np.std(accs)"
   ]
  },
  {
   "cell_type": "markdown",
   "metadata": {},
   "source": [
    "### PCA Accuracy"
   ]
  },
  {
   "cell_type": "code",
   "execution_count": 38,
   "metadata": {},
   "outputs": [],
   "source": [
    "X_pca = s01_pca[:,0:2]\n",
    "y = Assignments"
   ]
  },
  {
   "cell_type": "code",
   "execution_count": 39,
   "metadata": {},
   "outputs": [
    {
     "name": "stderr",
     "output_type": "stream",
     "text": [
      "C:\\Users\\robby\\anaconda3\\lib\\site-packages\\sklearn\\model_selection\\_split.py:670: UserWarning: The least populated class in y has only 3 members, which is less than n_splits=5.\n",
      "  warnings.warn((\"The least populated class in y has only %d\"\n"
     ]
    },
    {
     "name": "stdout",
     "output_type": "stream",
     "text": [
      "Fold 1: 0.5134979565993207\n",
      "Fold 2: 0.5139008806769124\n",
      "Fold 3: 0.5090657917458125\n",
      "Fold 4: 0.5130950325217292\n",
      "Fold 5: 0.51208841814414\n",
      "Mean Accuracy: 0.512329615937583\n",
      "Accuracy SD: 0.0017395677658869247\n"
     ]
    }
   ],
   "source": [
    "mean_accs_pca, std_accs_pca = run_crossval(X_pca, np.array(y))"
   ]
  },
  {
   "cell_type": "markdown",
   "metadata": {},
   "source": [
    "### UMAP Accuracy"
   ]
  },
  {
   "cell_type": "code",
   "execution_count": 40,
   "metadata": {},
   "outputs": [],
   "source": [
    "X_umap = s01_umap[:,0:2]\n",
    "y = Assignments"
   ]
  },
  {
   "cell_type": "code",
   "execution_count": 41,
   "metadata": {},
   "outputs": [
    {
     "name": "stderr",
     "output_type": "stream",
     "text": [
      "C:\\Users\\robby\\anaconda3\\lib\\site-packages\\sklearn\\model_selection\\_split.py:670: UserWarning: The least populated class in y has only 3 members, which is less than n_splits=5.\n",
      "  warnings.warn((\"The least populated class in y has only %d\"\n"
     ]
    },
    {
     "name": "stdout",
     "output_type": "stream",
     "text": [
      "Fold 1: 0.7243423703447879\n",
      "Fold 2: 0.7257238243251022\n",
      "Fold 3: 0.7193921602486617\n",
      "Fold 4: 0.7320554884015427\n",
      "Fold 5: 0.7261685470872669\n",
      "Mean Accuracy: 0.7255364780814724\n",
      "Accuracy SD: 0.0040524224931188044\n"
     ]
    }
   ],
   "source": [
    "mean_accs_umap, std_accs_umap = run_crossval(X_umap, np.array(y))"
   ]
  },
  {
   "cell_type": "markdown",
   "metadata": {},
   "source": [
    "### tSNE Accuracy"
   ]
  },
  {
   "cell_type": "code",
   "execution_count": 42,
   "metadata": {},
   "outputs": [],
   "source": [
    "X_tsne = s01_tsne[:,0:2]\n",
    "y = Assignments"
   ]
  },
  {
   "cell_type": "code",
   "execution_count": 43,
   "metadata": {},
   "outputs": [
    {
     "name": "stderr",
     "output_type": "stream",
     "text": [
      "C:\\Users\\robby\\anaconda3\\lib\\site-packages\\sklearn\\model_selection\\_split.py:670: UserWarning: The least populated class in y has only 3 members, which is less than n_splits=5.\n",
      "  warnings.warn((\"The least populated class in y has only %d\"\n"
     ]
    },
    {
     "name": "stdout",
     "output_type": "stream",
     "text": [
      "Fold 1: 0.735969608012433\n",
      "Fold 2: 0.7364300926725379\n",
      "Fold 3: 0.731710124906464\n",
      "Fold 4: 0.7382144707304438\n",
      "Fold 5: 0.7387750402947272\n",
      "Mean Accuracy: 0.7362198673233211\n",
      "Accuracy SD: 0.0024880495474185744\n"
     ]
    }
   ],
   "source": [
    "mean_accs_tsne, std_accs_tsne = run_crossval(X_tsne, np.array(y))"
   ]
  },
  {
   "cell_type": "markdown",
   "metadata": {},
   "source": [
    "### 2 Layer AE Accuracy"
   ]
  },
  {
   "cell_type": "code",
   "execution_count": 45,
   "metadata": {},
   "outputs": [],
   "source": [
    "X_2layer = s01_2layer[:,0:2]\n",
    "y = Assignments"
   ]
  },
  {
   "cell_type": "code",
   "execution_count": 46,
   "metadata": {},
   "outputs": [
    {
     "name": "stderr",
     "output_type": "stream",
     "text": [
      "C:\\Users\\robby\\anaconda3\\lib\\site-packages\\sklearn\\model_selection\\_split.py:670: UserWarning: The least populated class in y has only 3 members, which is less than n_splits=5.\n",
      "  warnings.warn((\"The least populated class in y has only %d\"\n"
     ]
    },
    {
     "name": "stdout",
     "output_type": "stream",
     "text": [
      "Fold 1: 0.4842571806826685\n",
      "Fold 2: 0.49473320670005183\n",
      "Fold 3: 0.4843147412651816\n",
      "Fold 4: 0.48966787543889945\n",
      "Fold 5: 0.4884296569191803\n",
      "Mean Accuracy: 0.4882805322011963\n",
      "Accuracy SD: 0.003885841551548684\n"
     ]
    }
   ],
   "source": [
    "mean_accs_2layer, std_accs_2layer = run_crossval(X_2layer, np.array(y))"
   ]
  },
  {
   "cell_type": "markdown",
   "metadata": {},
   "source": [
    "### 6 Layer AE Accuracy"
   ]
  },
  {
   "cell_type": "code",
   "execution_count": 47,
   "metadata": {},
   "outputs": [],
   "source": [
    "X_6layer = s01_6layer[:,0:2]\n",
    "y = Assignments"
   ]
  },
  {
   "cell_type": "code",
   "execution_count": 48,
   "metadata": {},
   "outputs": [
    {
     "name": "stderr",
     "output_type": "stream",
     "text": [
      "C:\\Users\\robby\\anaconda3\\lib\\site-packages\\sklearn\\model_selection\\_split.py:670: UserWarning: The least populated class in y has only 3 members, which is less than n_splits=5.\n",
      "  warnings.warn((\"The least populated class in y has only %d\"\n"
     ]
    },
    {
     "name": "stdout",
     "output_type": "stream",
     "text": [
      "Fold 1: 0.6508950670580786\n",
      "Fold 2: 0.6549818684165084\n",
      "Fold 3: 0.6526794451159845\n",
      "Fold 4: 0.6603925631727393\n",
      "Fold 5: 0.6561132857471794\n",
      "Mean Accuracy: 0.6550124459020982\n",
      "Accuracy SD: 0.003242040912949157\n"
     ]
    }
   ],
   "source": [
    "mean_accs_6layer, std_accs_6layer = run_crossval(X_6layer, np.array(y))"
   ]
  },
  {
   "cell_type": "markdown",
   "metadata": {},
   "source": [
    "### VAE Accuracy"
   ]
  },
  {
   "cell_type": "code",
   "execution_count": 49,
   "metadata": {},
   "outputs": [],
   "source": [
    "X_vae = s01_vae[:,0:2]\n",
    "y = Assignments"
   ]
  },
  {
   "cell_type": "code",
   "execution_count": 50,
   "metadata": {},
   "outputs": [
    {
     "name": "stderr",
     "output_type": "stream",
     "text": [
      "C:\\Users\\robby\\anaconda3\\lib\\site-packages\\sklearn\\model_selection\\_split.py:670: UserWarning: The least populated class in y has only 3 members, which is less than n_splits=5.\n",
      "  warnings.warn((\"The least populated class in y has only %d\"\n"
     ]
    },
    {
     "name": "stdout",
     "output_type": "stream",
     "text": [
      "Fold 1: 0.6705807862775571\n",
      "Fold 2: 0.6781787831692857\n",
      "Fold 3: 0.674091981810856\n",
      "Fold 4: 0.6810568122949404\n",
      "Fold 5: 0.6834561363113055\n",
      "Mean Accuracy: 0.6774728999727889\n",
      "Accuracy SD: 0.0046491645380261895\n"
     ]
    }
   ],
   "source": [
    "mean_accs_vae, std_accs_vae = run_crossval(X_vae, np.array(y))"
   ]
  },
  {
   "cell_type": "markdown",
   "metadata": {},
   "source": [
    "### Figure Generation"
   ]
  },
  {
   "cell_type": "code",
   "execution_count": 52,
   "metadata": {},
   "outputs": [],
   "source": [
    "# Create lists for the plot\n",
    "Methods = ['PCA', 'UMAP', 'tSNE', '2 Layer AE', '6 Layer AE', 'VAE']\n",
    "x_pos = np.arange(len(Methods))\n",
    "Means = [mean_accs_pca, mean_accs_umap, mean_accs_tsne, mean_accs_2layer, mean_accs_6layer, mean_accs_vae]\n",
    "Errors = [std_accs_pca, std_accs_umap, std_accs_tsne, std_accs_2layer, std_accs_6layer, std_accs_vae]"
   ]
  },
  {
   "cell_type": "code",
   "execution_count": 75,
   "metadata": {},
   "outputs": [
    {
     "data": {
      "image/png": "[encoded data removed]",
      "text/plain": [
       "<Figure size 432x288 with 1 Axes>"
      ]
     },
     "metadata": {
      "needs_background": "light"
     },
     "output_type": "display_data"
    }
   ],
   "source": [
    "# Build the plot\n",
    "fig, ax = plt.subplots()\n",
    "ax.bar(x_pos, Means, yerr=Errors, align='center', alpha=0.5, ecolor='black', capsize=10)\n",
    "ax.set_ylabel('5 Fold CV Mean Accuracy\\nof Random Forest Classifier')\n",
    "ax.set_xlabel('Embeddings for RFC Training')\n",
    "ax.set_xticks(x_pos)\n",
    "ax.set_xticklabels(Methods)\n",
    "plt.suptitle('5 Fold CV Accuracies Of Random-Forest Classifiers\\nPredicting Cluster Labels\\n(Trained with Specified Embedding)', fontweight = 'bold')\n",
    "ax.yaxis.grid(True)\n",
    "ax.set_ylim([0.0, 1.0])\n",
    "# Save the figure and show\n",
    "plt.tight_layout()\n",
    "plt.savefig('../Figures/RandomForestClassiferAccuracies.png')\n",
    "plt.show()"
   ]
  },
  {
   "cell_type": "code",
   "execution_count": null,
   "metadata": {},
   "outputs": [],
   "source": [
    "print(MEt)"
   ]
  }
 ],
 "metadata": {
  "kernelspec": {
   "display_name": "Python 3",
   "language": "python",
   "name": "python3"
  },
  "language_info": {
   "codemirror_mode": {
    "name": "ipython",
    "version": 3
   },
   "file_extension": ".py",
   "mimetype": "text/x-python",
   "name": "python",
   "nbconvert_exporter": "python",
   "pygments_lexer": "ipython3",
   "version": "3.8.5"
  }
 },
 "nbformat": 4,
 "nbformat_minor": 4
}
