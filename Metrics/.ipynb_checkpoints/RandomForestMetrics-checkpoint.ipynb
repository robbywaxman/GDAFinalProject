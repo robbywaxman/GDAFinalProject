{
 "cells": [
  {
   "cell_type": "code",
   "execution_count": 1,
   "metadata": {},
   "outputs": [],
   "source": [
    "import numpy as np\n",
    "import pandas as pd\n",
    "from matplotlib import pyplot as plt\n",
    "import matplotlib.cm as cm\n",
    "import copy\n",
    "import matplotlib.colors\n",
    "from sklearn.ensemble import RandomForestClassifier\n",
    "from sklearn.metrics import roc_curve, roc_auc_score\n",
    "from sklearn.model_selection import train_test_split\n",
    "import sklearn.metrics as metrics\n",
    "from sklearn.model_selection import StratifiedKFold\n",
    "from sklearn.metrics import auc\n",
    "from sklearn.metrics import plot_roc_curve"
   ]
  },
  {
   "cell_type": "code",
   "execution_count": 2,
   "metadata": {},
   "outputs": [],
   "source": [
    "s01_umap = np.load(\"../Embeddings/s01_umap.npy\")\n",
    "s01_tsne = np.load(\"../Embeddings/s01_tsne.npy\")\n",
    "s01_pca = np.load(\"../Embeddings/s01_pca.npy\")\n",
    "s01_2layer = np.load(\"../Embeddings/s01_2layer.npy\")\n",
    "s01_6layer = np.load(\"../Embeddings/s01_6layer.npy\")\n",
    "s01_vae = np.load(\"../Embeddings/s01_vae.npy\")\n",
    "PopData = pd.read_csv(\"../SamusikData/population_assignments01.csv\")\n",
    "Assignments = np.array(PopData.Population)"
   ]
  },
  {
   "cell_type": "code",
   "execution_count": 3,
   "metadata": {},
   "outputs": [],
   "source": [
    "s01_labels = PopData[\"Population\"].to_numpy()\n",
    "non_zero = np.where(s01_labels > 0)\n",
    "s01_pca = s01_pca[non_zero]\n",
    "s01_umap = s01_umap[non_zero]\n",
    "s01_tsne = s01_tsne[non_zero]\n",
    "s01_2layer = s01_2layer[non_zero]\n",
    "s01_6layer = s01_6layer[non_zero]\n",
    "s01_vae = s01_vae[non_zero]\n",
    "y = Assignments[non_zero]"
   ]
  },
  {
   "cell_type": "code",
   "execution_count": 4,
   "metadata": {},
   "outputs": [],
   "source": [
    "np.random.seed(1)"
   ]
  },
  {
   "cell_type": "code",
   "execution_count": 5,
   "metadata": {},
   "outputs": [],
   "source": [
    "def run_crossval(X, y):\n",
    "    cv = StratifiedKFold(n_splits=5)  \n",
    "\n",
    "    accs = []\n",
    "    mean_fpr = np.linspace(0, 1, 100)\n",
    "\n",
    "    classifier = RandomForestClassifier(random_state=1234)\n",
    "    for i, (train, test) in enumerate(cv.split(X, y)):\n",
    "        X_train = np.array(X[train])\n",
    "        X_test = np.array(X[test])\n",
    "        y_train = np.array(y[train])\n",
    "        y_test = np.array(y[test])\n",
    "\n",
    "        classifier.fit(X_train, y_train)\n",
    "        acc = metrics.accuracy_score(y_test, classifier.predict(X_test))\n",
    "        print(\"Fold \" + str(i+1) + \": \" + str(acc))\n",
    "        accs.append(acc)\n",
    "    print(\"Mean Accuracy: \" + str(np.mean(accs)))\n",
    "    print(\"Accuracy SD: \" + str(np.std(accs)))\n",
    "    return np.mean(accs), np.std(accs)"
   ]
  },
  {
   "cell_type": "markdown",
   "metadata": {},
   "source": [
    "### PCA Accuracy"
   ]
  },
  {
   "cell_type": "code",
   "execution_count": 6,
   "metadata": {},
   "outputs": [],
   "source": [
    "X_pca = s01_pca[:,0:2]"
   ]
  },
  {
   "cell_type": "code",
   "execution_count": 7,
   "metadata": {},
   "outputs": [
    {
     "name": "stderr",
     "output_type": "stream",
     "text": [
      "C:\\Users\\robby\\anaconda3\\lib\\site-packages\\sklearn\\model_selection\\_split.py:670: UserWarning: The least populated class in y has only 3 members, which is less than n_splits=5.\n",
      "  warnings.warn((\"The least populated class in y has only %d\"\n"
     ]
    },
    {
     "name": "stdout",
     "output_type": "stream",
     "text": [
      "Fold 1: 0.6166431593794076\n",
      "Fold 2: 0.6126939351198871\n",
      "Fold 3: 0.609779031499765\n",
      "Fold 4: 0.6096482979123566\n",
      "Fold 5: 0.6110588677825841\n",
      "Mean Accuracy: 0.6119646583388001\n",
      "Accuracy SD: 0.00258391808874942\n"
     ]
    }
   ],
   "source": [
    "mean_accs_pca, std_accs_pca = run_crossval(X_pca, np.array(y))"
   ]
  },
  {
   "cell_type": "markdown",
   "metadata": {},
   "source": [
    "### UMAP Accuracy"
   ]
  },
  {
   "cell_type": "code",
   "execution_count": 8,
   "metadata": {},
   "outputs": [],
   "source": [
    "X_umap = s01_umap[:,0:2]"
   ]
  },
  {
   "cell_type": "code",
   "execution_count": 9,
   "metadata": {},
   "outputs": [
    {
     "name": "stderr",
     "output_type": "stream",
     "text": [
      "C:\\Users\\robby\\anaconda3\\lib\\site-packages\\sklearn\\model_selection\\_split.py:670: UserWarning: The least populated class in y has only 3 members, which is less than n_splits=5.\n",
      "  warnings.warn((\"The least populated class in y has only %d\"\n"
     ]
    },
    {
     "name": "stdout",
     "output_type": "stream",
     "text": [
      "Fold 1: 0.9505406676069582\n",
      "Fold 2: 0.94950634696756\n",
      "Fold 3: 0.9479078514339445\n",
      "Fold 4: 0.949125446680459\n",
      "Fold 5: 0.9520406244122626\n",
      "Mean Accuracy: 0.9498241874202368\n",
      "Accuracy SD: 0.0013919440782392426\n"
     ]
    }
   ],
   "source": [
    "mean_accs_umap, std_accs_umap = run_crossval(X_umap, np.array(y))"
   ]
  },
  {
   "cell_type": "markdown",
   "metadata": {},
   "source": [
    "### tSNE Accuracy"
   ]
  },
  {
   "cell_type": "code",
   "execution_count": 10,
   "metadata": {},
   "outputs": [],
   "source": [
    "X_tsne = s01_tsne[:,0:2]"
   ]
  },
  {
   "cell_type": "code",
   "execution_count": 11,
   "metadata": {},
   "outputs": [
    {
     "name": "stderr",
     "output_type": "stream",
     "text": [
      "C:\\Users\\robby\\anaconda3\\lib\\site-packages\\sklearn\\model_selection\\_split.py:670: UserWarning: The least populated class in y has only 3 members, which is less than n_splits=5.\n",
      "  warnings.warn((\"The least populated class in y has only %d\"\n"
     ]
    },
    {
     "name": "stdout",
     "output_type": "stream",
     "text": [
      "Fold 1: 0.9515749882463563\n",
      "Fold 2: 0.9511988716502116\n",
      "Fold 3: 0.9493182886694875\n",
      "Fold 4: 0.9486552567237164\n",
      "Fold 5: 0.951006206507429\n",
      "Mean Accuracy: 0.9503507223594401\n",
      "Accuracy SD: 0.0011478995335513084\n"
     ]
    }
   ],
   "source": [
    "mean_accs_tsne, std_accs_tsne = run_crossval(X_tsne, np.array(y))"
   ]
  },
  {
   "cell_type": "markdown",
   "metadata": {},
   "source": [
    "### 2 Layer AE Accuracy"
   ]
  },
  {
   "cell_type": "code",
   "execution_count": 12,
   "metadata": {},
   "outputs": [],
   "source": [
    "X_2layer = s01_2layer[:,0:2]"
   ]
  },
  {
   "cell_type": "code",
   "execution_count": 13,
   "metadata": {},
   "outputs": [
    {
     "name": "stderr",
     "output_type": "stream",
     "text": [
      "C:\\Users\\robby\\anaconda3\\lib\\site-packages\\sklearn\\model_selection\\_split.py:670: UserWarning: The least populated class in y has only 3 members, which is less than n_splits=5.\n",
      "  warnings.warn((\"The least populated class in y has only %d\"\n"
     ]
    },
    {
     "name": "stdout",
     "output_type": "stream",
     "text": [
      "Fold 1: 0.6011283497884344\n",
      "Fold 2: 0.599059708509638\n",
      "Fold 3: 0.5912552891396333\n",
      "Fold 4: 0.6054165883016739\n",
      "Fold 5: 0.6056987022757194\n",
      "Mean Accuracy: 0.6005117276030199\n",
      "Accuracy SD: 0.005275084835753456\n"
     ]
    }
   ],
   "source": [
    "mean_accs_2layer, std_accs_2layer = run_crossval(X_2layer, np.array(y))"
   ]
  },
  {
   "cell_type": "markdown",
   "metadata": {},
   "source": [
    "### 6 Layer AE Accuracy"
   ]
  },
  {
   "cell_type": "code",
   "execution_count": 14,
   "metadata": {},
   "outputs": [],
   "source": [
    "X_6layer = s01_6layer[:,0:2]"
   ]
  },
  {
   "cell_type": "code",
   "execution_count": 15,
   "metadata": {},
   "outputs": [
    {
     "name": "stderr",
     "output_type": "stream",
     "text": [
      "C:\\Users\\robby\\anaconda3\\lib\\site-packages\\sklearn\\model_selection\\_split.py:670: UserWarning: The least populated class in y has only 3 members, which is less than n_splits=5.\n",
      "  warnings.warn((\"The least populated class in y has only %d\"\n"
     ]
    },
    {
     "name": "stdout",
     "output_type": "stream",
     "text": [
      "Fold 1: 0.8909261871180065\n",
      "Fold 2: 0.8947813822284908\n",
      "Fold 3: 0.8904560413728255\n",
      "Fold 4: 0.8918563099492195\n",
      "Fold 5: 0.8879067143125823\n",
      "Mean Accuracy: 0.8911853269962249\n",
      "Accuracy SD: 0.0022239668829835838\n"
     ]
    }
   ],
   "source": [
    "mean_accs_6layer, std_accs_6layer = run_crossval(X_6layer, np.array(y))"
   ]
  },
  {
   "cell_type": "markdown",
   "metadata": {},
   "source": [
    "### VAE Accuracy"
   ]
  },
  {
   "cell_type": "code",
   "execution_count": 16,
   "metadata": {},
   "outputs": [],
   "source": [
    "X_vae = s01_vae[:,0:2]"
   ]
  },
  {
   "cell_type": "code",
   "execution_count": 17,
   "metadata": {},
   "outputs": [
    {
     "name": "stderr",
     "output_type": "stream",
     "text": [
      "C:\\Users\\robby\\anaconda3\\lib\\site-packages\\sklearn\\model_selection\\_split.py:670: UserWarning: The least populated class in y has only 3 members, which is less than n_splits=5.\n",
      "  warnings.warn((\"The least populated class in y has only %d\"\n"
     ]
    },
    {
     "name": "stdout",
     "output_type": "stream",
     "text": [
      "Fold 1: 0.8745651151857076\n",
      "Fold 2: 0.8740949694405266\n",
      "Fold 3: 0.872872590503056\n",
      "Fold 4: 0.8773744592815498\n",
      "Fold 5: 0.872578521722776\n",
      "Mean Accuracy: 0.8742971312267231\n",
      "Accuracy SD: 0.0017067845586094346\n"
     ]
    }
   ],
   "source": [
    "mean_accs_vae, std_accs_vae = run_crossval(X_vae, np.array(y))"
   ]
  },
  {
   "cell_type": "markdown",
   "metadata": {},
   "source": [
    "### Figure Generation"
   ]
  },
  {
   "cell_type": "code",
   "execution_count": 18,
   "metadata": {},
   "outputs": [],
   "source": [
    "# Create lists for the plot\n",
    "Methods = ['PCA','UMAP', 'tSNE', 'FF2', 'FF6', 'VAE']\n",
    "x_pos = np.arange(len(Methods))\n",
    "Means = [mean_accs_pca, mean_accs_umap, mean_accs_tsne, mean_accs_2layer, mean_accs_6layer, mean_accs_vae]\n",
    "Errors = [std_accs_pca, std_accs_umap, std_accs_tsne, std_accs_2layer, std_accs_6layer, std_accs_vae]"
   ]
  },
  {
   "cell_type": "code",
   "execution_count": 19,
   "metadata": {},
   "outputs": [
    {
     "data": {
      "image/png": "[encoded data removed]",
      "text/plain": [
       "<Figure size 432x288 with 1 Axes>"
      ]
     },
     "metadata": {
      "needs_background": "light"
     },
     "output_type": "display_data"
    }
   ],
   "source": [
    "# Build the plot\n",
    "fig, ax = plt.subplots()\n",
    "ax.bar(x_pos, Means, yerr=Errors, align='center', alpha=0.5, ecolor='black', capsize=10)\n",
    "ax.set_ylabel('5 Fold CV Mean Accuracy\\nof Random Forest Classifier')\n",
    "ax.set_xlabel('Embeddings for RFC Training')\n",
    "ax.set_xticks(x_pos)\n",
    "ax.set_xticklabels(Methods)\n",
    "plt.suptitle('5 Fold CV Accuracies Of Random-Forest Classifiers\\nPredicting Cluster Labels for Samusik01\\n(Trained with Specified Embedding)', fontweight = 'bold')\n",
    "ax.yaxis.grid(True)\n",
    "ax.set_ylim([0.0, 1.0])\n",
    "# Save the figure and show\n",
    "plt.tight_layout()\n",
    "plt.savefig('../Figures/RandomForestClassiferAccuracies_s01.png')\n",
    "plt.show()"
   ]
  },
  {
   "cell_type": "markdown",
   "metadata": {},
   "source": [
    "# Levine #"
   ]
  },
  {
   "cell_type": "code",
   "execution_count": 20,
   "metadata": {},
   "outputs": [],
   "source": [
    "import FlowCal"
   ]
  },
  {
   "cell_type": "code",
   "execution_count": 21,
   "metadata": {},
   "outputs": [],
   "source": [
    "data_dir = \"../LevineData/\"\n",
    "levine_fn = data_dir + \"Levine_32dim_notransform.fcs\"\n",
    "levine = FlowCal.io.FCSData(levine_fn)\n",
    "\n",
    "labels = np.array(levine[:, 39])\n",
    "labels[np.isnan(labels)] = 0\n",
    "y = labels[labels > 0]"
   ]
  },
  {
   "cell_type": "code",
   "execution_count": 22,
   "metadata": {},
   "outputs": [],
   "source": [
    "# Load other embeddings\n",
    "levine_pca = np.load(\"../Embeddings/levine_pca.npy\")\n",
    "levine_tsne = np.load(\"../Embeddings/levine_tsne.npy\")\n",
    "levine_umap = np.load(\"../Embeddings/levine_umap.npy\")\n",
    "levine_2layer = np.load(\"../Embeddings/levine_2layer.npy\")\n",
    "levine_6layer = np.load(\"../Embeddings/levine_6layer.npy\")\n",
    "levine_vae = np.load(\"../Embeddings/levine_vae.npy\")"
   ]
  },
  {
   "cell_type": "markdown",
   "metadata": {},
   "source": [
    "## PCA Accuracy"
   ]
  },
  {
   "cell_type": "code",
   "execution_count": 23,
   "metadata": {},
   "outputs": [
    {
     "name": "stdout",
     "output_type": "stream",
     "text": [
      "Fold 1: 0.6966453904112876\n",
      "Fold 2: 0.7079234054806354\n",
      "Fold 3: 0.7130585017037001\n",
      "Fold 4: 0.7464606229303643\n",
      "Fold 5: 0.7514878095603763\n",
      "Mean Accuracy: 0.7231151460172727\n",
      "Accuracy SD: 0.02182930308577283\n"
     ]
    }
   ],
   "source": [
    "X_pca = levine_pca[:,0:2]\n",
    "mean_accs_pca, std_accs_pca = run_crossval(X_pca, np.array(y))"
   ]
  },
  {
   "cell_type": "markdown",
   "metadata": {},
   "source": [
    "## UMAP Accuracy"
   ]
  },
  {
   "cell_type": "code",
   "execution_count": 24,
   "metadata": {},
   "outputs": [
    {
     "name": "stdout",
     "output_type": "stream",
     "text": [
      "Fold 1: 0.9805154292844459\n",
      "Fold 2: 0.9806594039449057\n",
      "Fold 3: 0.9825310745308826\n",
      "Fold 4: 0.9841627873494265\n",
      "Fold 5: 0.9788827030140143\n",
      "Mean Accuracy: 0.9813502796247351\n",
      "Accuracy SD: 0.001820312881746991\n"
     ]
    }
   ],
   "source": [
    "X_umap = levine_umap[:,0:2]\n",
    "mean_accs_umap, std_accs_umap = run_crossval(X_umap, np.array(y))"
   ]
  },
  {
   "cell_type": "markdown",
   "metadata": {},
   "source": [
    "## tSNE Accuracy"
   ]
  },
  {
   "cell_type": "code",
   "execution_count": 25,
   "metadata": {},
   "outputs": [
    {
     "name": "stdout",
     "output_type": "stream",
     "text": [
      "Fold 1: 0.9784038009310362\n",
      "Fold 2: 0.9797475644286605\n",
      "Fold 3: 0.9811393194797715\n",
      "Fold 4: 0.9823870998704228\n",
      "Fold 5: 0.9757151084661163\n",
      "Mean Accuracy: 0.9794785786352016\n",
      "Accuracy SD: 0.0023068924601118397\n"
     ]
    }
   ],
   "source": [
    "X_tsne = levine_tsne[:,0:2]\n",
    "mean_accs_tsne, std_accs_tsne = run_crossval(X_tsne, np.array(y))"
   ]
  },
  {
   "cell_type": "markdown",
   "metadata": {},
   "source": [
    "## 2 Layer Accuracy"
   ]
  },
  {
   "cell_type": "code",
   "execution_count": 26,
   "metadata": {},
   "outputs": [
    {
     "name": "stdout",
     "output_type": "stream",
     "text": [
      "Fold 1: 0.6919902097230888\n",
      "Fold 2: 0.6995248836204828\n",
      "Fold 3: 0.7058117771272256\n",
      "Fold 4: 0.7337428612564189\n",
      "Fold 5: 0.742896909195623\n",
      "Mean Accuracy: 0.714793328184568\n",
      "Accuracy SD: 0.019913171217345295\n"
     ]
    }
   ],
   "source": [
    "X_2layer = levine_2layer[:,0:2]\n",
    "mean_accs_2layer, std_accs_2layer = run_crossval(X_2layer, np.array(y))"
   ]
  },
  {
   "cell_type": "markdown",
   "metadata": {},
   "source": [
    "## 6 Layer Accuracy"
   ]
  },
  {
   "cell_type": "code",
   "execution_count": 27,
   "metadata": {},
   "outputs": [
    {
     "name": "stdout",
     "output_type": "stream",
     "text": [
      "Fold 1: 0.9365071747372462\n",
      "Fold 2: 0.9395786341603878\n",
      "Fold 3: 0.9449056965973989\n",
      "Fold 4: 0.957191534289965\n",
      "Fold 5: 0.951766173929737\n",
      "Mean Accuracy: 0.9459898427429468\n",
      "Accuracy SD: 0.007629467299285644\n"
     ]
    }
   ],
   "source": [
    "X_6layer = levine_6layer[:,0:2]\n",
    "mean_accs_6layer, std_accs_6layer = run_crossval(X_6layer, np.array(y))"
   ]
  },
  {
   "cell_type": "markdown",
   "metadata": {},
   "source": [
    "## VAE Accuracy"
   ]
  },
  {
   "cell_type": "code",
   "execution_count": 28,
   "metadata": {},
   "outputs": [
    {
     "name": "stdout",
     "output_type": "stream",
     "text": [
      "Fold 1: 0.9623746220665162\n",
      "Fold 2: 0.9650141575082786\n",
      "Fold 3: 0.9669338196477419\n",
      "Fold 4: 0.972740797619619\n",
      "Fold 5: 0.9648205029756192\n",
      "Mean Accuracy: 0.9663767799635549\n",
      "Accuracy SD: 0.0034959124642383343\n"
     ]
    }
   ],
   "source": [
    "X_vae = levine_vae[:,0:2]\n",
    "mean_accs_vae, std_accs_vae = run_crossval(X_vae, np.array(y))"
   ]
  },
  {
   "cell_type": "code",
   "execution_count": 29,
   "metadata": {},
   "outputs": [],
   "source": [
    "# Create lists for the plot\n",
    "Methods = ['PCA','UMAP', 'tSNE', 'FF2', 'FF6', 'VAE']\n",
    "x_pos = np.arange(len(Methods))\n",
    "Means = [mean_accs_pca, mean_accs_umap, mean_accs_tsne, mean_accs_2layer, mean_accs_6layer, mean_accs_vae]\n",
    "Errors = [std_accs_pca, std_accs_umap, std_accs_tsne, std_accs_2layer, std_accs_6layer, std_accs_vae]"
   ]
  },
  {
   "cell_type": "code",
   "execution_count": 30,
   "metadata": {},
   "outputs": [
    {
     "data": {
      "image/png": "[encoded data removed]",
      "text/plain": [
       "<Figure size 432x288 with 1 Axes>"
      ]
     },
     "metadata": {
      "needs_background": "light"
     },
     "output_type": "display_data"
    }
   ],
   "source": [
    "# Build the plot\n",
    "fig, ax = plt.subplots()\n",
    "ax.bar(x_pos, Means, yerr=Errors, align='center', alpha=0.5, ecolor='black', capsize=10)\n",
    "ax.set_ylabel('5 Fold CV Mean Accuracy\\nof Random Forest Classifier')\n",
    "ax.set_xlabel('Embeddings for RFC Training')\n",
    "ax.set_xticks(x_pos)\n",
    "ax.set_xticklabels(Methods)\n",
    "plt.suptitle('5 Fold CV Accuracies Of Random-Forest Classifiers\\nPredicting Cluster Labels for Levine\\n(Trained with Specified Embedding)', fontweight = 'bold')\n",
    "ax.yaxis.grid(True)\n",
    "ax.set_ylim([0.0, 1.0])\n",
    "# Save the figure and show\n",
    "plt.tight_layout()\n",
    "plt.savefig('../Figures/RandomForestClassiferAccuracies_levine.png')\n",
    "plt.show()"
   ]
  },
  {
   "cell_type": "code",
   "execution_count": null,
   "metadata": {},
   "outputs": [],
   "source": []
  }
 ],
 "metadata": {
  "kernelspec": {
   "display_name": "Python 3",
   "language": "python",
   "name": "python3"
  },
  "language_info": {
   "codemirror_mode": {
    "name": "ipython",
    "version": 3
   },
   "file_extension": ".py",
   "mimetype": "text/x-python",
   "name": "python",
   "nbconvert_exporter": "python",
   "pygments_lexer": "ipython3",
   "version": "3.8.5"
  }
 },
 "nbformat": 4,
 "nbformat_minor": 4
}
