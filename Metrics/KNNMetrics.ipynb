{
 "cells": [
  {
   "cell_type": "code",
   "execution_count": 1,
   "metadata": {},
   "outputs": [],
   "source": [
    "import numpy as np\n",
    "import pandas as pd\n",
    "from matplotlib import pyplot as plt\n",
    "import matplotlib.cm as cm\n",
    "import copy\n",
    "import matplotlib.colors\n",
    "from sklearn.neighbors import KNeighborsClassifier\n",
    "from sklearn.metrics import roc_curve, roc_auc_score\n",
    "from sklearn.model_selection import train_test_split\n",
    "import sklearn.metrics as metrics\n",
    "from sklearn.model_selection import StratifiedKFold\n",
    "from sklearn.metrics import auc\n",
    "from sklearn.metrics import plot_roc_curve"
   ]
  },
  {
   "cell_type": "code",
   "execution_count": 2,
   "metadata": {},
   "outputs": [],
   "source": [
    "s01_umap = np.load(\"../Embeddings/s01_umap.npy\")\n",
    "s01_tsne = np.load(\"../Embeddings/s01_tsne.npy\")\n",
    "s01_pca = np.load(\"../Embeddings/s01_pca.npy\")\n",
    "s01_2layer = np.load(\"../Embeddings/s01_2layer.npy\")\n",
    "s01_6layer = np.load(\"../Embeddings/s01_6layer.npy\")\n",
    "s01_vae = np.load(\"../Embeddings/s01_vae.npy\")\n",
    "PopData = pd.read_csv(\"../SamusikData/population_assignments01.csv\")\n",
    "Assignments = np.array(PopData.Population)"
   ]
  },
  {
   "cell_type": "code",
   "execution_count": 3,
   "metadata": {},
   "outputs": [],
   "source": [
    "s01_labels = PopData[\"Population\"].to_numpy()\n",
    "non_zero = np.where(s01_labels > 0)\n",
    "s01_pca = s01_pca[non_zero]\n",
    "s01_umap = s01_umap[non_zero]\n",
    "s01_tsne = s01_tsne[non_zero]\n",
    "s01_2layer = s01_2layer[non_zero]\n",
    "s01_6layer = s01_6layer[non_zero]\n",
    "s01_vae = s01_vae[non_zero]\n",
    "y = Assignments[non_zero]"
   ]
  },
  {
   "cell_type": "code",
   "execution_count": 4,
   "metadata": {},
   "outputs": [],
   "source": [
    "np.random.seed(1)"
   ]
  },
  {
   "cell_type": "code",
   "execution_count": 5,
   "metadata": {},
   "outputs": [],
   "source": [
    "def run_crossval(X, y):\n",
    "    cv = StratifiedKFold(n_splits=5)  \n",
    "\n",
    "    accs = []\n",
    "    mean_fpr = np.linspace(0, 1, 100)\n",
    "\n",
    "    classifier = KNeighborsClassifier(n_neighbors = 5)\n",
    "    for i, (train, test) in enumerate(cv.split(X, y)):\n",
    "        X_train = np.array(X[train])\n",
    "        X_test = np.array(X[test])\n",
    "        y_train = np.array(y[train])\n",
    "        y_test = np.array(y[test])\n",
    "\n",
    "        classifier.fit(X_train, y_train)\n",
    "        acc = metrics.accuracy_score(y_test, classifier.predict(X_test))\n",
    "        print(\"Fold \" + str(i+1) + \": \" + str(acc))\n",
    "        accs.append(acc)\n",
    "    print(\"Mean Accuracy: \" + str(np.mean(accs)))\n",
    "    print(\"Accuracy SD: \" + str(np.std(accs)))\n",
    "    return np.mean(accs), np.std(accs)"
   ]
  },
  {
   "cell_type": "markdown",
   "metadata": {},
   "source": [
    "### PCA Accuracy"
   ]
  },
  {
   "cell_type": "code",
   "execution_count": 6,
   "metadata": {},
   "outputs": [],
   "source": [
    "X_pca = s01_pca[:,0:2]"
   ]
  },
  {
   "cell_type": "code",
   "execution_count": 7,
   "metadata": {},
   "outputs": [
    {
     "name": "stderr",
     "output_type": "stream",
     "text": [
      "C:\\Users\\robby\\anaconda3\\lib\\site-packages\\sklearn\\model_selection\\_split.py:670: UserWarning: The least populated class in y has only 3 members, which is less than n_splits=5.\n",
      "  warnings.warn((\"The least populated class in y has only %d\"\n"
     ]
    },
    {
     "name": "stdout",
     "output_type": "stream",
     "text": [
      "Fold 1: 0.6166431593794076\n",
      "Fold 2: 0.6089327691584391\n",
      "Fold 3: 0.6096850023507288\n",
      "Fold 4: 0.6104006018431446\n",
      "Fold 5: 0.6062629302238104\n",
      "Mean Accuracy: 0.6103848925911061\n",
      "Accuracy SD: 0.003427979945794184\n"
     ]
    }
   ],
   "source": [
    "mean_accs_pca, std_accs_pca = run_crossval(X_pca, np.array(y))"
   ]
  },
  {
   "cell_type": "markdown",
   "metadata": {},
   "source": [
    "### UMAP Accuracy"
   ]
  },
  {
   "cell_type": "code",
   "execution_count": 8,
   "metadata": {},
   "outputs": [],
   "source": [
    "X_umap = s01_umap[:,0:2]"
   ]
  },
  {
   "cell_type": "code",
   "execution_count": 9,
   "metadata": {},
   "outputs": [
    {
     "name": "stderr",
     "output_type": "stream",
     "text": [
      "C:\\Users\\robby\\anaconda3\\lib\\site-packages\\sklearn\\model_selection\\_split.py:670: UserWarning: The least populated class in y has only 3 members, which is less than n_splits=5.\n",
      "  warnings.warn((\"The least populated class in y has only %d\"\n"
     ]
    },
    {
     "name": "stdout",
     "output_type": "stream",
     "text": [
      "Fold 1: 0.9505406676069582\n",
      "Fold 2: 0.94950634696756\n",
      "Fold 3: 0.9507287259050305\n",
      "Fold 4: 0.9496896746285499\n",
      "Fold 5: 0.9529810043257476\n",
      "Mean Accuracy: 0.9506892838867692\n",
      "Accuracy SD: 0.0012388852623069434\n"
     ]
    }
   ],
   "source": [
    "mean_accs_umap, std_accs_umap = run_crossval(X_umap, np.array(y))"
   ]
  },
  {
   "cell_type": "markdown",
   "metadata": {},
   "source": [
    "### tSNE Accuracy"
   ]
  },
  {
   "cell_type": "code",
   "execution_count": 10,
   "metadata": {},
   "outputs": [],
   "source": [
    "X_tsne = s01_tsne[:,0:2]"
   ]
  },
  {
   "cell_type": "code",
   "execution_count": 11,
   "metadata": {},
   "outputs": [
    {
     "name": "stderr",
     "output_type": "stream",
     "text": [
      "C:\\Users\\robby\\anaconda3\\lib\\site-packages\\sklearn\\model_selection\\_split.py:670: UserWarning: The least populated class in y has only 3 members, which is less than n_splits=5.\n",
      "  warnings.warn((\"The least populated class in y has only %d\"\n"
     ]
    },
    {
     "name": "stdout",
     "output_type": "stream",
     "text": [
      "Fold 1: 0.953267512929008\n",
      "Fold 2: 0.9516690173953926\n",
      "Fold 3: 0.9483779971791255\n",
      "Fold 4: 0.9509121685160805\n",
      "Fold 5: 0.953075042317096\n",
      "Mean Accuracy: 0.9514603476673406\n",
      "Accuracy SD: 0.0017730207592923223\n"
     ]
    }
   ],
   "source": [
    "mean_accs_tsne, std_accs_tsne = run_crossval(X_tsne, np.array(y))"
   ]
  },
  {
   "cell_type": "markdown",
   "metadata": {},
   "source": [
    "### 2 Layer AE Accuracy"
   ]
  },
  {
   "cell_type": "code",
   "execution_count": 12,
   "metadata": {},
   "outputs": [],
   "source": [
    "X_2layer = s01_2layer[:,0:2]"
   ]
  },
  {
   "cell_type": "code",
   "execution_count": 13,
   "metadata": {},
   "outputs": [
    {
     "name": "stderr",
     "output_type": "stream",
     "text": [
      "C:\\Users\\robby\\anaconda3\\lib\\site-packages\\sklearn\\model_selection\\_split.py:670: UserWarning: The least populated class in y has only 3 members, which is less than n_splits=5.\n",
      "  warnings.warn((\"The least populated class in y has only %d\"\n"
     ]
    },
    {
     "name": "stdout",
     "output_type": "stream",
     "text": [
      "Fold 1: 0.6044193700047015\n",
      "Fold 2: 0.5977433004231312\n",
      "Fold 3: 0.5940761636107194\n",
      "Fold 4: 0.6029716005266128\n",
      "Fold 5: 0.598363738950536\n",
      "Mean Accuracy: 0.5995148347031403\n",
      "Accuracy SD: 0.0037428917930133576\n"
     ]
    }
   ],
   "source": [
    "mean_accs_2layer, std_accs_2layer = run_crossval(X_2layer, np.array(y))"
   ]
  },
  {
   "cell_type": "markdown",
   "metadata": {},
   "source": [
    "### 6 Layer AE Accuracy"
   ]
  },
  {
   "cell_type": "code",
   "execution_count": 14,
   "metadata": {},
   "outputs": [],
   "source": [
    "X_6layer = s01_6layer[:,0:2]"
   ]
  },
  {
   "cell_type": "code",
   "execution_count": 15,
   "metadata": {},
   "outputs": [
    {
     "name": "stderr",
     "output_type": "stream",
     "text": [
      "C:\\Users\\robby\\anaconda3\\lib\\site-packages\\sklearn\\model_selection\\_split.py:670: UserWarning: The least populated class in y has only 3 members, which is less than n_splits=5.\n",
      "  warnings.warn((\"The least populated class in y has only %d\"\n"
     ]
    },
    {
     "name": "stdout",
     "output_type": "stream",
     "text": [
      "Fold 1: 0.892054536906441\n",
      "Fold 2: 0.8961918194640338\n",
      "Fold 3: 0.8921485660554772\n",
      "Fold 4: 0.891009968027083\n",
      "Fold 5: 0.8904457400789919\n",
      "Mean Accuracy: 0.8923701261064053\n",
      "Accuracy SD: 0.0020153072769328708\n"
     ]
    }
   ],
   "source": [
    "mean_accs_6layer, std_accs_6layer = run_crossval(X_6layer, np.array(y))"
   ]
  },
  {
   "cell_type": "markdown",
   "metadata": {},
   "source": [
    "### VAE Accuracy"
   ]
  },
  {
   "cell_type": "code",
   "execution_count": 16,
   "metadata": {},
   "outputs": [],
   "source": [
    "X_vae = s01_vae[:,0:2]"
   ]
  },
  {
   "cell_type": "code",
   "execution_count": 17,
   "metadata": {},
   "outputs": [
    {
     "name": "stderr",
     "output_type": "stream",
     "text": [
      "C:\\Users\\robby\\anaconda3\\lib\\site-packages\\sklearn\\model_selection\\_split.py:670: UserWarning: The least populated class in y has only 3 members, which is less than n_splits=5.\n",
      "  warnings.warn((\"The least populated class in y has only %d\"\n"
     ]
    },
    {
     "name": "stdout",
     "output_type": "stream",
     "text": [
      "Fold 1: 0.8744710860366713\n",
      "Fold 2: 0.8757874941231781\n",
      "Fold 3: 0.8730606488011283\n",
      "Fold 4: 0.8771863832988528\n",
      "Fold 5: 0.8757758134286252\n",
      "Mean Accuracy: 0.8752562851376912\n",
      "Accuracy SD: 0.001393895842144588\n"
     ]
    }
   ],
   "source": [
    "mean_accs_vae, std_accs_vae = run_crossval(X_vae, np.array(y))"
   ]
  },
  {
   "cell_type": "markdown",
   "metadata": {},
   "source": [
    "### Figure Generation"
   ]
  },
  {
   "cell_type": "code",
   "execution_count": 18,
   "metadata": {},
   "outputs": [],
   "source": [
    "# Create lists for the plot\n",
    "Methods = ['PCA', 'UMAP', 'tSNE', '2 Layer AE', '6 Layer AE', 'VAE']\n",
    "x_pos = np.arange(len(Methods))\n",
    "Means = [mean_accs_pca, mean_accs_umap, mean_accs_tsne, mean_accs_2layer, mean_accs_6layer, mean_accs_vae]\n",
    "Errors = [std_accs_pca, std_accs_umap, std_accs_tsne, std_accs_2layer, std_accs_6layer, std_accs_vae]"
   ]
  },
  {
   "cell_type": "code",
   "execution_count": 19,
   "metadata": {},
   "outputs": [
    {
     "data": {
      "image/png": "[encoded data removed]",
      "text/plain": [
       "<Figure size 432x288 with 1 Axes>"
      ]
     },
     "metadata": {
      "needs_background": "light"
     },
     "output_type": "display_data"
    }
   ],
   "source": [
    "# Build the plot\n",
    "fig, ax = plt.subplots()\n",
    "ax.bar(x_pos, Means, yerr=Errors, align='center', alpha=0.5, ecolor='black', capsize=10)\n",
    "ax.set_ylabel('5 Fold CV Mean Accuracy\\nof KNN Classifier')\n",
    "ax.set_xlabel('Embeddings for KNN Training')\n",
    "ax.set_xticks(x_pos)\n",
    "ax.set_xticklabels(Methods)\n",
    "plt.suptitle('5 Fold CV Accuracies Of KNN Classifiers\\nPredicting Cluster Labels\\n(Trained with Specified Embedding)', fontweight = 'bold')\n",
    "ax.yaxis.grid(True)\n",
    "ax.set_ylim([0.0, 1.0])\n",
    "# Save the figure and show\n",
    "plt.tight_layout()\n",
    "plt.savefig('../Figures/KNNClassiferAccuracies.png')\n",
    "plt.show()"
   ]
  },
  {
   "cell_type": "code",
   "execution_count": null,
   "metadata": {},
   "outputs": [],
   "source": []
  }
 ],
 "metadata": {
  "kernelspec": {
   "display_name": "Python 3",
   "language": "python",
   "name": "python3"
  },
  "language_info": {
   "codemirror_mode": {
    "name": "ipython",
    "version": 3
   },
   "file_extension": ".py",
   "mimetype": "text/x-python",
   "name": "python",
   "nbconvert_exporter": "python",
   "pygments_lexer": "ipython3",
   "version": "3.8.5"
  }
 },
 "nbformat": 4,
 "nbformat_minor": 4
}
