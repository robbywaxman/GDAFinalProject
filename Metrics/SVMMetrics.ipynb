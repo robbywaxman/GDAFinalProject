{
 "cells": [
  {
   "cell_type": "code",
   "execution_count": 1,
   "metadata": {},
   "outputs": [],
   "source": [
    "import numpy as np\n",
    "import pandas as pd\n",
    "from matplotlib import pyplot as plt\n",
    "import matplotlib.cm as cm\n",
    "import copy\n",
    "import matplotlib.colors\n",
    "from sklearn.svm import SVC\n",
    "\n",
    "from sklearn.metrics import roc_curve, roc_auc_score\n",
    "from sklearn.model_selection import train_test_split\n",
    "import sklearn.metrics as metrics\n",
    "from sklearn.model_selection import StratifiedKFold\n",
    "from sklearn.metrics import auc\n",
    "from sklearn.metrics import plot_roc_curve"
   ]
  },
  {
   "cell_type": "code",
   "execution_count": 2,
   "metadata": {},
   "outputs": [],
   "source": [
    "s01_umap = np.load(\"../Embeddings/s01_umap.npy\")\n",
    "s01_tsne = np.load(\"../Embeddings/s01_tsne.npy\")\n",
    "s01_pca = np.load(\"../Embeddings/s01_pca.npy\")\n",
    "s01_2layer = np.load(\"../Embeddings/s01_2layer.npy\")\n",
    "s01_6layer = np.load(\"../Embeddings/s01_6layer.npy\")\n",
    "s01_vae = np.load(\"../Embeddings/s01_vae.npy\")\n",
    "PopData = pd.read_csv(\"../SamusikData/population_assignments01.csv\")\n",
    "Assignments = np.array(PopData.Population)"
   ]
  },
  {
   "cell_type": "code",
   "execution_count": 3,
   "metadata": {},
   "outputs": [],
   "source": [
    "s01_labels = PopData[\"Population\"].to_numpy()\n",
    "non_zero = np.where(s01_labels > 0)\n",
    "s01_pca = s01_pca[non_zero]\n",
    "s01_umap = s01_umap[non_zero]\n",
    "s01_tsne = s01_tsne[non_zero]\n",
    "s01_2layer = s01_2layer[non_zero]\n",
    "s01_6layer = s01_6layer[non_zero]\n",
    "s01_vae = s01_vae[non_zero]\n",
    "y = Assignments[non_zero]"
   ]
  },
  {
   "cell_type": "code",
   "execution_count": 4,
   "metadata": {},
   "outputs": [],
   "source": [
    "np.random.seed(1)"
   ]
  },
  {
   "cell_type": "code",
   "execution_count": 5,
   "metadata": {},
   "outputs": [],
   "source": [
    "def run_crossval(X, y):\n",
    "    cv = StratifiedKFold(n_splits=5)  \n",
    "\n",
    "    accs = []\n",
    "    mean_fpr = np.linspace(0, 1, 100)\n",
    "\n",
    "    classifier = SVC(kernel='rbf', random_state = 1)\n",
    "    for i, (train, test) in enumerate(cv.split(X, y)):\n",
    "        X_train = np.array(X[train])\n",
    "        X_test = np.array(X[test])\n",
    "        y_train = np.array(y[train])\n",
    "        y_test = np.array(y[test])\n",
    "\n",
    "        classifier.fit(X_train, y_train)\n",
    "        acc = metrics.accuracy_score(y_test, classifier.predict(X_test))\n",
    "        print(\"Fold \" + str(i+1) + \": \" + str(acc))\n",
    "        accs.append(acc)\n",
    "    print(\"Mean Accuracy: \" + str(np.mean(accs)))\n",
    "    print(\"Accuracy SD: \" + str(np.std(accs)))\n",
    "    return np.mean(accs), np.std(accs)"
   ]
  },
  {
   "cell_type": "markdown",
   "metadata": {},
   "source": [
    "### PCA Accuracy"
   ]
  },
  {
   "cell_type": "code",
   "execution_count": 6,
   "metadata": {},
   "outputs": [],
   "source": [
    "X_pca = s01_pca[:,0:2]"
   ]
  },
  {
   "cell_type": "code",
   "execution_count": 7,
   "metadata": {},
   "outputs": [
    {
     "name": "stderr",
     "output_type": "stream",
     "text": [
      "C:\\Users\\robby\\anaconda3\\lib\\site-packages\\sklearn\\model_selection\\_split.py:670: UserWarning: The least populated class in y has only 3 members, which is less than n_splits=5.\n",
      "  warnings.warn((\"The least populated class in y has only %d\"\n"
     ]
    },
    {
     "name": "stdout",
     "output_type": "stream",
     "text": [
      "Fold 1: 0.6586741889985895\n",
      "Fold 2: 0.6540667606958157\n",
      "Fold 3: 0.6541607898448519\n",
      "Fold 4: 0.6498025202181681\n",
      "Fold 5: 0.6545984577769419\n",
      "Mean Accuracy: 0.6542605435068733\n",
      "Accuracy SD: 0.002811260457305554\n"
     ]
    }
   ],
   "source": [
    "mean_accs_pca, std_accs_pca = run_crossval(X_pca, np.array(y))"
   ]
  },
  {
   "cell_type": "markdown",
   "metadata": {},
   "source": [
    "### UMAP Accuracy"
   ]
  },
  {
   "cell_type": "code",
   "execution_count": 8,
   "metadata": {},
   "outputs": [],
   "source": [
    "X_umap = s01_umap[:,0:2]"
   ]
  },
  {
   "cell_type": "code",
   "execution_count": 9,
   "metadata": {},
   "outputs": [
    {
     "name": "stderr",
     "output_type": "stream",
     "text": [
      "C:\\Users\\robby\\anaconda3\\lib\\site-packages\\sklearn\\model_selection\\_split.py:670: UserWarning: The least populated class in y has only 3 members, which is less than n_splits=5.\n",
      "  warnings.warn((\"The least populated class in y has only %d\"\n"
     ]
    },
    {
     "name": "stdout",
     "output_type": "stream",
     "text": [
      "Fold 1: 0.9498824635637048\n",
      "Fold 2: 0.9502585801598495\n",
      "Fold 3: 0.9473436765397273\n",
      "Fold 4: 0.9466804589053978\n",
      "Fold 5: 0.9489373706977619\n",
      "Mean Accuracy: 0.9486205099732883\n",
      "Accuracy SD: 0.0013978771964848781\n"
     ]
    }
   ],
   "source": [
    "mean_accs_umap, std_accs_umap = run_crossval(X_umap, np.array(y))"
   ]
  },
  {
   "cell_type": "markdown",
   "metadata": {},
   "source": [
    "### tSNE Accuracy"
   ]
  },
  {
   "cell_type": "code",
   "execution_count": 10,
   "metadata": {},
   "outputs": [],
   "source": [
    "X_tsne = s01_tsne[:,0:2]"
   ]
  },
  {
   "cell_type": "code",
   "execution_count": 11,
   "metadata": {},
   "outputs": [
    {
     "name": "stderr",
     "output_type": "stream",
     "text": [
      "C:\\Users\\robby\\anaconda3\\lib\\site-packages\\sklearn\\model_selection\\_split.py:670: UserWarning: The least populated class in y has only 3 members, which is less than n_splits=5.\n",
      "  warnings.warn((\"The least populated class in y has only %d\"\n"
     ]
    },
    {
     "name": "stdout",
     "output_type": "stream",
     "text": [
      "Fold 1: 0.94950634696756\n",
      "Fold 2: 0.948095909732017\n",
      "Fold 3: 0.944428772919605\n",
      "Fold 4: 0.9447056610870792\n",
      "Fold 5: 0.9480910287756253\n",
      "Mean Accuracy: 0.9469655438963773\n",
      "Accuracy SD: 0.0020269386119309996\n"
     ]
    }
   ],
   "source": [
    "mean_accs_tsne, std_accs_tsne = run_crossval(X_tsne, np.array(y))"
   ]
  },
  {
   "cell_type": "markdown",
   "metadata": {},
   "source": [
    "### 2 Layer AE Accuracy"
   ]
  },
  {
   "cell_type": "code",
   "execution_count": 12,
   "metadata": {},
   "outputs": [],
   "source": [
    "X_2layer = s01_2layer[:,0:2]"
   ]
  },
  {
   "cell_type": "code",
   "execution_count": 13,
   "metadata": {},
   "outputs": [
    {
     "name": "stderr",
     "output_type": "stream",
     "text": [
      "C:\\Users\\robby\\anaconda3\\lib\\site-packages\\sklearn\\model_selection\\_split.py:670: UserWarning: The least populated class in y has only 3 members, which is less than n_splits=5.\n",
      "  warnings.warn((\"The least populated class in y has only %d\"\n"
     ]
    },
    {
     "name": "stdout",
     "output_type": "stream",
     "text": [
      "Fold 1: 0.6453220498354489\n",
      "Fold 2: 0.6426892336624354\n",
      "Fold 3: 0.6449459332393042\n",
      "Fold 4: 0.6429377468497273\n",
      "Fold 5: 0.6426556328756817\n",
      "Mean Accuracy: 0.6437101192925195\n",
      "Accuracy SD: 0.0011727117676299484\n"
     ]
    }
   ],
   "source": [
    "mean_accs_2layer, std_accs_2layer = run_crossval(X_2layer, np.array(y))"
   ]
  },
  {
   "cell_type": "markdown",
   "metadata": {},
   "source": [
    "### 6 Layer AE Accuracy"
   ]
  },
  {
   "cell_type": "code",
   "execution_count": 14,
   "metadata": {},
   "outputs": [],
   "source": [
    "X_6layer = s01_6layer[:,0:2]"
   ]
  },
  {
   "cell_type": "code",
   "execution_count": 15,
   "metadata": {},
   "outputs": [
    {
     "name": "stderr",
     "output_type": "stream",
     "text": [
      "C:\\Users\\robby\\anaconda3\\lib\\site-packages\\sklearn\\model_selection\\_split.py:670: UserWarning: The least populated class in y has only 3 members, which is less than n_splits=5.\n",
      "  warnings.warn((\"The least populated class in y has only %d\"\n"
     ]
    },
    {
     "name": "stdout",
     "output_type": "stream",
     "text": [
      "Fold 1: 0.8990126939351198\n",
      "Fold 2: 0.8971321109543958\n",
      "Fold 3: 0.8979783732957217\n",
      "Fold 4: 0.8951476396464172\n",
      "Fold 5: 0.8971224374647357\n",
      "Mean Accuracy: 0.8972786510592782\n",
      "Accuracy SD: 0.0012715032233253177\n"
     ]
    }
   ],
   "source": [
    "mean_accs_6layer, std_accs_6layer = run_crossval(X_6layer, np.array(y))"
   ]
  },
  {
   "cell_type": "markdown",
   "metadata": {},
   "source": [
    "### VAE Accuracy"
   ]
  },
  {
   "cell_type": "code",
   "execution_count": 16,
   "metadata": {},
   "outputs": [],
   "source": [
    "X_vae = s01_vae[:,0:2]"
   ]
  },
  {
   "cell_type": "code",
   "execution_count": 17,
   "metadata": {},
   "outputs": [
    {
     "name": "stderr",
     "output_type": "stream",
     "text": [
      "C:\\Users\\robby\\anaconda3\\lib\\site-packages\\sklearn\\model_selection\\_split.py:670: UserWarning: The least populated class in y has only 3 members, which is less than n_splits=5.\n",
      "  warnings.warn((\"The least populated class in y has only %d\"\n"
     ]
    },
    {
     "name": "stdout",
     "output_type": "stream",
     "text": [
      "Fold 1: 0.8855665256229431\n",
      "Fold 2: 0.8831217677480019\n",
      "Fold 3: 0.8821814762576399\n",
      "Fold 4: 0.8803836750047019\n",
      "Fold 5: 0.8811359789354899\n",
      "Mean Accuracy: 0.8824778847137553\n",
      "Accuracy SD: 0.0018015866020700435\n"
     ]
    }
   ],
   "source": [
    "mean_accs_vae, std_accs_vae = run_crossval(X_vae, np.array(y))"
   ]
  },
  {
   "cell_type": "markdown",
   "metadata": {},
   "source": [
    "### Figure Generation"
   ]
  },
  {
   "cell_type": "code",
   "execution_count": 18,
   "metadata": {},
   "outputs": [],
   "source": [
    "# Create lists for the plot\n",
    "Methods = ['PCA', 'UMAP', 'tSNE', '2 Layer AE', '6 Layer AE', 'VAE']\n",
    "x_pos = np.arange(len(Methods))\n",
    "Means = [mean_accs_pca, mean_accs_umap, mean_accs_tsne, mean_accs_2layer, mean_accs_6layer, mean_accs_vae]\n",
    "Errors = [std_accs_pca, std_accs_umap, std_accs_tsne, std_accs_2layer, std_accs_6layer, std_accs_vae]"
   ]
  },
  {
   "cell_type": "code",
   "execution_count": 19,
   "metadata": {},
   "outputs": [
    {
     "data": {
      "image/png": "[encoded data removed]",
      "text/plain": [
       "<Figure size 432x288 with 1 Axes>"
      ]
     },
     "metadata": {
      "needs_background": "light"
     },
     "output_type": "display_data"
    }
   ],
   "source": [
    "# Build the plot\n",
    "fig, ax = plt.subplots()\n",
    "ax.bar(x_pos, Means, yerr=Errors, align='center', alpha=0.5, ecolor='black', capsize=10)\n",
    "ax.set_ylabel('5 Fold CV Mean Accuracy\\nof SVM Classifier')\n",
    "ax.set_xlabel('Embeddings for SVM Training')\n",
    "ax.set_xticks(x_pos)\n",
    "ax.set_xticklabels(Methods)\n",
    "plt.suptitle('5 Fold CV Accuracies Of SVM Classifiers\\nPredicting Cluster Labels\\n(Trained with Specified Embedding)', fontweight = 'bold')\n",
    "ax.yaxis.grid(True)\n",
    "ax.set_ylim([0.0, 1.0])\n",
    "# Save the figure and show\n",
    "plt.tight_layout()\n",
    "plt.savefig('../Figures/SVMClassiferAccuracies.png')\n",
    "plt.show()"
   ]
  },
  {
   "cell_type": "code",
   "execution_count": null,
   "metadata": {},
   "outputs": [],
   "source": []
  }
 ],
 "metadata": {
  "kernelspec": {
   "display_name": "Python 3",
   "language": "python",
   "name": "python3"
  },
  "language_info": {
   "codemirror_mode": {
    "name": "ipython",
    "version": 3
   },
   "file_extension": ".py",
   "mimetype": "text/x-python",
   "name": "python",
   "nbconvert_exporter": "python",
   "pygments_lexer": "ipython3",
   "version": "3.8.5"
  }
 },
 "nbformat": 4,
 "nbformat_minor": 4
}
