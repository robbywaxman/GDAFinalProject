{
 "cells": [
  {
   "cell_type": "code",
   "execution_count": 2,
   "metadata": {},
   "outputs": [],
   "source": [
    "from sklearn.metrics.cluster import normalized_mutual_info_score\n",
    "import sys\n",
    "import os\n",
    "\n",
    "import numpy as np\n",
    "import pandas as pd\n",
    "from matplotlib import pyplot as plt\n",
    "\n",
    "import FlowCal\n",
    "\n",
    "np.random.seed(1)\n",
    "\n",
    "import random\n",
    "\n",
    "from sklearn.cluster import KMeans"
   ]
  },
  {
   "cell_type": "code",
   "execution_count": 3,
   "metadata": {},
   "outputs": [],
   "source": [
    "data_dir = \"../SamusikData/\"\n",
    "s01_fn = data_dir + \"BM2_cct_normalized_01_non-Neutrophils.fcs\"\n",
    "s01 = FlowCal.io.FCSData(s01_fn)\n",
    "\n",
    "# Only relevant indexes are 10-47\n",
    "s01 = s01[:, 10:47]\n",
    "\n",
    "# Transform data with arcsinh\n",
    "s01 = np.arcsinh(s01)\n",
    "s01_umap = np.load(\"../Embeddings/s01_umap.npy\")\n",
    "s01_tsne = np.load(\"../Embeddings/s01_tsne.npy\")\n",
    "s01_pca = np.load(\"../Embeddings/s01_pca.npy\")\n",
    "s01_2layer = np.load(\"../Embeddings/s01_2layer.npy\")\n",
    "s01_6layer = np.load(\"../Embeddings/s01_6layer.npy\")\n",
    "s01_vae = np.load(\"../Embeddings/s01_vae.npy\")"
   ]
  },
  {
   "cell_type": "code",
   "execution_count": 4,
   "metadata": {},
   "outputs": [],
   "source": [
    "sample_size = 20000\n",
    "k = 10\n",
    "num_samples = 5"
   ]
  },
  {
   "cell_type": "code",
   "execution_count": 5,
   "metadata": {},
   "outputs": [],
   "source": [
    "s01_Embeddings = [\n",
    "    s01_umap,\n",
    "    s01_tsne,\n",
    "    s01_2layer,\n",
    "    s01_6layer,\n",
    "    s01_vae   \n",
    "        ]"
   ]
  },
  {
   "cell_type": "code",
   "execution_count": 6,
   "metadata": {},
   "outputs": [],
   "source": [
    "Mean_Mutuals = []\n",
    "SD_Mutuals = []"
   ]
  },
  {
   "cell_type": "code",
   "execution_count": 6,
   "metadata": {},
   "outputs": [
    {
     "name": "stdout",
     "output_type": "stream",
     "text": [
      "Working on embedding: 1\n",
      "\tIteration: 1\n",
      "\tIteration: 2\n",
      "\tIteration: 3\n",
      "\tIteration: 4\n",
      "\tIteration: 5\n",
      "Working on embedding: 2\n",
      "\tIteration: 1\n",
      "\tIteration: 2\n",
      "\tIteration: 3\n",
      "\tIteration: 4\n",
      "\tIteration: 5\n",
      "Working on embedding: 3\n",
      "\tIteration: 1\n",
      "\tIteration: 2\n",
      "\tIteration: 3\n",
      "\tIteration: 4\n",
      "\tIteration: 5\n",
      "Working on embedding: 4\n",
      "\tIteration: 1\n",
      "\tIteration: 2\n",
      "\tIteration: 3\n",
      "\tIteration: 4\n",
      "\tIteration: 5\n",
      "Working on embedding: 5\n",
      "\tIteration: 1\n",
      "\tIteration: 2\n",
      "\tIteration: 3\n",
      "\tIteration: 4\n",
      "\tIteration: 5\n"
     ]
    }
   ],
   "source": [
    "count = 1\n",
    "for s01_embedding in s01_Embeddings:\n",
    "    print(\"Working on embedding: \" + str(count))\n",
    "    count += 1\n",
    "    temp_mutual_info = np.zeros(num_samples)\n",
    "    for i in range(num_samples):\n",
    "        print(\"\\tIteration: \" + str(i+1))\n",
    "        indices = random.sample(range(s01.shape[0]), sample_size)\n",
    "        s01_full = s01[indices]\n",
    "        s01_embed = s01_embedding[indices]\n",
    "        kmeans_full = KMeans(n_clusters=k, random_state=0).fit(s01_full)\n",
    "\n",
    "        kmeans_embed = KMeans(n_clusters=k, random_state=0).fit(s01_embed)\n",
    "\n",
    "        temp_mutual_info[i] = normalized_mutual_info_score(kmeans_full.labels_, kmeans_embed.labels_)\n",
    "    Mean_Mutuals.append(np.mean(temp_mutual_info))\n",
    "    SD_Mutuals.append(np.std(temp_mutual_info))"
   ]
  },
  {
   "cell_type": "code",
   "execution_count": 27,
   "metadata": {},
   "outputs": [],
   "source": [
    "Mean_Mutuals = np.array(Mean_Mutuals)\n",
    "SD_Mutuals = np.array(SD_Mutuals)"
   ]
  },
  {
   "cell_type": "code",
   "execution_count": 47,
   "metadata": {},
   "outputs": [
    {
     "data": {
      "text/html": [
       "<div>\n",
       "<style scoped>\n",
       "    .dataframe tbody tr th:only-of-type {\n",
       "        vertical-align: middle;\n",
       "    }\n",
       "\n",
       "    .dataframe tbody tr th {\n",
       "        vertical-align: top;\n",
       "    }\n",
       "\n",
       "    .dataframe thead th {\n",
       "        text-align: right;\n",
       "    }\n",
       "</style>\n",
       "<table border=\"1\" class=\"dataframe\">\n",
       "  <thead>\n",
       "    <tr style=\"text-align: right;\">\n",
       "      <th></th>\n",
       "      <th>UMAP</th>\n",
       "      <th>tSNE</th>\n",
       "      <th>AE2layer</th>\n",
       "      <th>AE6layer</th>\n",
       "      <th>VAE</th>\n",
       "    </tr>\n",
       "  </thead>\n",
       "  <tbody>\n",
       "    <tr>\n",
       "      <th>Mean</th>\n",
       "      <td>0.807260</td>\n",
       "      <td>0.748028</td>\n",
       "      <td>0.513444</td>\n",
       "      <td>0.653010</td>\n",
       "      <td>0.704781</td>\n",
       "    </tr>\n",
       "    <tr>\n",
       "      <th>SD</th>\n",
       "      <td>0.007697</td>\n",
       "      <td>0.002948</td>\n",
       "      <td>0.002284</td>\n",
       "      <td>0.003664</td>\n",
       "      <td>0.001725</td>\n",
       "    </tr>\n",
       "  </tbody>\n",
       "</table>\n",
       "</div>"
      ],
      "text/plain": [
       "          UMAP      tSNE  AE2layer  AE6layer       VAE\n",
       "Mean  0.807260  0.748028  0.513444  0.653010  0.704781\n",
       "SD    0.007697  0.002948  0.002284  0.003664  0.001725"
      ]
     },
     "execution_count": 47,
     "metadata": {},
     "output_type": "execute_result"
    }
   ],
   "source": [
    "Mutuals_df = (pd.DataFrame([Mean_Mutuals, SD_Mutuals]))\n",
    "#Mutuals_df = Mutuals_df.transpose()\n",
    "Mutuals_df.columns = [\"UMAP\", \"tSNE\", \"AE2layer\", \"AE6layer\", \"VAE\"]\n",
    "Mutuals_df.index = [\"Mean\", \"SD\"]\n",
    "Mutuals_df.to_csv(\"NormalizedMutualInfo_s01.csv\", index=True)\n",
    "Mutuals_df"
   ]
  },
  {
   "cell_type": "code",
   "execution_count": 7,
   "metadata": {},
   "outputs": [
    {
     "data": {
      "image/png": "[encoded data removed]",
      "text/plain": [
       "<Figure size 432x288 with 1 Axes>"
      ]
     },
     "metadata": {
      "needs_background": "light"
     },
     "output_type": "display_data"
    }
   ],
   "source": [
    "Mutuals_df = pd.read_csv(\"NormalizedMutualInfo_s01.csv\", index_col=0)\n",
    "Means = Mutuals_df.loc[\"Mean\"]\n",
    "SDs = Mutuals_df.loc[\"SD\"]\n",
    "Methods = [ 'UMAP', 'tSNE', '2 Layer AE', '6 Layer AE', 'VAE']\n",
    "fig, ax = plt.subplots()\n",
    "x_pos = np.arange(len(Methods))\n",
    "#ax.bar(x_pos, np.array(Means[0:1])[0],  align='center', alpha=0.5, ecolor='black', capsize=10)\n",
    "\n",
    "ax.bar(x_pos, Means, yerr=SDs, align='center', alpha=0.5, ecolor='black', capsize=10)\n",
    "ax.set_ylabel('Average Normalized Mutual Info')\n",
    "ax.set_xlabel('Dimensionality Reduction Method')\n",
    "ax.set_xticks(x_pos)\n",
    "ax.set_xticklabels(Methods)\n",
    "plt.title(\"Samusik01 Average Normalized Mutual Information Of k-means Clustering (k = 10)\\nPerformed on the embeddings of data subsamples and\\nk-means clustering (k = 10) performed on total datasets\")\n",
    "ax.yaxis.grid(True)\n",
    "ax.set_ylim([0.0, 1.0])\n",
    "# Save the figure and show\n",
    "plt.savefig('../Figures/NormalizedMutualInfo_s01.png', bbox_inches = 'tight')\n",
    "plt.tight_layout()"
   ]
  },
  {
   "cell_type": "code",
   "execution_count": 69,
   "metadata": {},
   "outputs": [],
   "source": [
    "data_dir = \"../LevineData/\"\n",
    "levine_fn = data_dir + \"Levine_32dim_notransform.fcs\"\n",
    "levine = FlowCal.io.FCSData(levine_fn)\n",
    "\n",
    "# Columns 4-36 (0-indexed) are relevant markers\n",
    "# column 39 (0-indexed) is labels\n",
    "\n",
    "# 60% of the dataset is garbage\n",
    "non_garbage_idx = np.where(np.isnan(levine[:, 39]) == False)\n",
    "levine = levine[non_garbage_idx]\n",
    "\n",
    "levine = levine[:, 4:36]\n",
    "\n",
    "# Transform data with arcsinh\n",
    "levine = np.arcsinh(np.array(levine))"
   ]
  },
  {
   "cell_type": "code",
   "execution_count": 70,
   "metadata": {},
   "outputs": [],
   "source": [
    "# Load other embeddings\n",
    "levine_tsne = np.load(\"../Embeddings/levine_tsne.npy\")\n",
    "levine_umap = np.load(\"../Embeddings/levine_umap.npy\")\n",
    "levine_2layer = np.load(\"../Embeddings/levine_2layer.npy\")\n",
    "levine_6layer = np.load(\"../Embeddings/levine_6layer.npy\")\n",
    "levine_vae = np.load(\"../Embeddings/levine_vae.npy\")"
   ]
  },
  {
   "cell_type": "code",
   "execution_count": 71,
   "metadata": {},
   "outputs": [],
   "source": [
    "sample_size = 20000\n",
    "k = 10\n",
    "num_samples = 5"
   ]
  },
  {
   "cell_type": "code",
   "execution_count": 72,
   "metadata": {},
   "outputs": [],
   "source": [
    "levine_Embeddings = [\n",
    "    levine_umap,\n",
    "    levine_tsne,\n",
    "    levine_2layer,\n",
    "    levine_6layer,\n",
    "    levine_vae   \n",
    "        ]"
   ]
  },
  {
   "cell_type": "code",
   "execution_count": 73,
   "metadata": {},
   "outputs": [],
   "source": [
    "Mean_Mutuals = []\n",
    "SD_Mutuals = []"
   ]
  },
  {
   "cell_type": "code",
   "execution_count": 74,
   "metadata": {},
   "outputs": [
    {
     "name": "stdout",
     "output_type": "stream",
     "text": [
      "Working on embedding: 1\n",
      "\tIteration: 1\n",
      "\tIteration: 2\n",
      "\tIteration: 3\n",
      "\tIteration: 4\n",
      "\tIteration: 5\n",
      "Working on embedding: 2\n",
      "\tIteration: 1\n",
      "\tIteration: 2\n",
      "\tIteration: 3\n",
      "\tIteration: 4\n",
      "\tIteration: 5\n",
      "Working on embedding: 3\n",
      "\tIteration: 1\n",
      "\tIteration: 2\n",
      "\tIteration: 3\n",
      "\tIteration: 4\n",
      "\tIteration: 5\n",
      "Working on embedding: 4\n",
      "\tIteration: 1\n",
      "\tIteration: 2\n",
      "\tIteration: 3\n",
      "\tIteration: 4\n",
      "\tIteration: 5\n",
      "Working on embedding: 5\n",
      "\tIteration: 1\n",
      "\tIteration: 2\n",
      "\tIteration: 3\n",
      "\tIteration: 4\n",
      "\tIteration: 5\n"
     ]
    }
   ],
   "source": [
    "count = 1\n",
    "for levine_embedding in levine_Embeddings:\n",
    "    print(\"Working on embedding: \" + str(count))\n",
    "    count += 1\n",
    "    temp_mutual_info = np.zeros(num_samples)\n",
    "    for i in range(num_samples):\n",
    "        print(\"\\tIteration: \" + str(i+1))\n",
    "        indices = random.sample(range(levine.shape[0]), sample_size)\n",
    "        levine_full = levine[indices]\n",
    "        levine_embed = levine_embedding[indices]\n",
    "        kmeans_full = KMeans(n_clusters=k, random_state=0).fit(levine_full)\n",
    "\n",
    "        kmeans_embed = KMeans(n_clusters=k, random_state=0).fit(levine_embed)\n",
    "\n",
    "        temp_mutual_info[i] = normalized_mutual_info_score(kmeans_full.labels_, kmeans_embed.labels_)\n",
    "    Mean_Mutuals.append(np.mean(temp_mutual_info))\n",
    "    SD_Mutuals.append(np.std(temp_mutual_info))"
   ]
  },
  {
   "cell_type": "code",
   "execution_count": 75,
   "metadata": {},
   "outputs": [],
   "source": [
    "Mean_Mutuals = np.array(Mean_Mutuals)\n",
    "SD_Mutuals = np.array(SD_Mutuals)"
   ]
  },
  {
   "cell_type": "code",
   "execution_count": 76,
   "metadata": {},
   "outputs": [
    {
     "data": {
      "text/html": [
       "<div>\n",
       "<style scoped>\n",
       "    .dataframe tbody tr th:only-of-type {\n",
       "        vertical-align: middle;\n",
       "    }\n",
       "\n",
       "    .dataframe tbody tr th {\n",
       "        vertical-align: top;\n",
       "    }\n",
       "\n",
       "    .dataframe thead th {\n",
       "        text-align: right;\n",
       "    }\n",
       "</style>\n",
       "<table border=\"1\" class=\"dataframe\">\n",
       "  <thead>\n",
       "    <tr style=\"text-align: right;\">\n",
       "      <th></th>\n",
       "      <th>UMAP</th>\n",
       "      <th>tSNE</th>\n",
       "      <th>AE2layer</th>\n",
       "      <th>AE6layer</th>\n",
       "      <th>VAE</th>\n",
       "    </tr>\n",
       "  </thead>\n",
       "  <tbody>\n",
       "    <tr>\n",
       "      <th>Mean</th>\n",
       "      <td>0.897163</td>\n",
       "      <td>0.795538</td>\n",
       "      <td>0.614656</td>\n",
       "      <td>0.785405</td>\n",
       "      <td>0.858013</td>\n",
       "    </tr>\n",
       "    <tr>\n",
       "      <th>SD</th>\n",
       "      <td>0.001821</td>\n",
       "      <td>0.010897</td>\n",
       "      <td>0.007354</td>\n",
       "      <td>0.006631</td>\n",
       "      <td>0.026198</td>\n",
       "    </tr>\n",
       "  </tbody>\n",
       "</table>\n",
       "</div>"
      ],
      "text/plain": [
       "          UMAP      tSNE  AE2layer  AE6layer       VAE\n",
       "Mean  0.897163  0.795538  0.614656  0.785405  0.858013\n",
       "SD    0.001821  0.010897  0.007354  0.006631  0.026198"
      ]
     },
     "execution_count": 76,
     "metadata": {},
     "output_type": "execute_result"
    }
   ],
   "source": [
    "Mutuals_df = (pd.DataFrame([Mean_Mutuals, SD_Mutuals]))\n",
    "#Mutuals_df = Mutuals_df.transpose()\n",
    "Mutuals_df.columns = [\"UMAP\", \"tSNE\", \"AE2layer\", \"AE6layer\", \"VAE\"]\n",
    "Mutuals_df.index = [\"Mean\", \"SD\"]\n",
    "Mutuals_df.to_csv(\"NormalizedMutualInfo_levine.csv\", index=True)\n",
    "Mutuals_df"
   ]
  },
  {
   "cell_type": "code",
   "execution_count": 77,
   "metadata": {},
   "outputs": [
    {
     "data": {
      "image/png": "[encoded data removed]",
      "text/plain": [
       "<Figure size 432x288 with 1 Axes>"
      ]
     },
     "metadata": {
      "needs_background": "light"
     },
     "output_type": "display_data"
    }
   ],
   "source": [
    "Mutuals_df = pd.read_csv(\"NormalizedMutualInfo_levine.csv\", index_col=0)\n",
    "Means = Mutuals_df.loc[\"Mean\"]\n",
    "SDs = Mutuals_df.loc[\"SD\"]\n",
    "Methods = [ 'UMAP', 'tSNE', '2 Layer AE', '6 Layer AE', 'VAE']\n",
    "fig, ax = plt.subplots()\n",
    "x_pos = np.arange(len(Methods))\n",
    "#ax.bar(x_pos, np.array(Means[0:1])[0],  align='center', alpha=0.5, ecolor='black', capsize=10)\n",
    "\n",
    "ax.bar(x_pos, Means, yerr=SDs, align='center', alpha=0.5, ecolor='black', capsize=10)\n",
    "ax.set_ylabel('Average Normalized Mutual Info')\n",
    "ax.set_xlabel('Dimensionality Reduction Method')\n",
    "ax.set_xticks(x_pos)\n",
    "ax.set_xticklabels(Methods)\n",
    "plt.title(\"Levine Average Normalized Mutual Information Of k-means Clustering (k = 10)\\nPerformed on the embeddings of data subsamples and\\nk-means clustering (k = 10) performed on total datasets\")\n",
    "ax.yaxis.grid(True)\n",
    "ax.set_ylim([0.0, 1.0])\n",
    "# Save the figure and show\n",
    "plt.savefig('../Figures/NormalizedMutualInfo_levine.png', bbox_inches = 'tight')\n",
    "plt.tight_layout()"
   ]
  },
  {
   "cell_type": "code",
   "execution_count": null,
   "metadata": {},
   "outputs": [],
   "source": []
  }
 ],
 "metadata": {
  "kernelspec": {
   "display_name": "Python 3",
   "language": "python",
   "name": "python3"
  },
  "language_info": {
   "codemirror_mode": {
    "name": "ipython",
    "version": 3
   },
   "file_extension": ".py",
   "mimetype": "text/x-python",
   "name": "python",
   "nbconvert_exporter": "python",
   "pygments_lexer": "ipython3",
   "version": "3.8.5"
  }
 },
 "nbformat": 4,
 "nbformat_minor": 4
}
