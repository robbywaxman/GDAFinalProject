{
 "cells": [
  {
   "cell_type": "code",
   "execution_count": 1,
   "metadata": {},
   "outputs": [],
   "source": [
    "# Installs that we need\n",
    "#!pip install FlowCal\n",
    "#!pip install umap-learn\n"
   ]
  },
  {
   "cell_type": "code",
   "execution_count": 1,
   "metadata": {},
   "outputs": [],
   "source": [
    "# Imports\n",
    "\n",
    "import sys\n",
    "import os\n",
    "\n",
    "import numpy as np\n",
    "import pandas as pd\n",
    "from matplotlib import pyplot as plt\n",
    "\n",
    "import FlowCal\n",
    "from umap import UMAP\n",
    "from sklearn.decomposition import PCA\n",
    "np.random.seed(1)"
   ]
  },
  {
   "cell_type": "code",
   "execution_count": 31,
   "metadata": {},
   "outputs": [
    {
     "name": "stdout",
     "output_type": "stream",
     "text": [
      "(265627, 41)\n",
      "('Time', 'Cell_length', 'DNA1', 'DNA2', 'CD45RA', 'CD133', 'CD19', 'CD22', 'CD11b', 'CD4', 'CD8', 'CD34', 'Flt3', 'CD20', 'CXCR4', 'CD235ab', 'CD45', 'CD123', 'CD321', 'CD14', 'CD33', 'CD47', 'CD11c', 'CD7', 'CD15', 'CD16', 'CD44', 'CD38', 'CD13', 'CD3', 'CD61', 'CD117', 'CD49d', 'HLA-DR', 'CD64', 'CD41', 'Viability', 'file_number', 'event_number', 'label', 'individual')\n",
      "(104184, 32)\n",
      "('CD45RA', 'CD133', 'CD19', 'CD22', 'CD11b', 'CD4', 'CD8', 'CD34', 'Flt3', 'CD20', 'CXCR4', 'CD235ab', 'CD45', 'CD123', 'CD321', 'CD14', 'CD33', 'CD47', 'CD11c', 'CD7', 'CD15', 'CD16', 'CD44', 'CD38', 'CD13', 'CD3', 'CD61', 'CD117', 'CD49d', 'HLA-DR', 'CD64', 'CD41')\n"
     ]
    }
   ],
   "source": [
    "# Read in levine data\n",
    "\n",
    "data_dir = \"LevineData/\"\n",
    "levine_fn = data_dir + \"Levine_32dim_notransform.fcs\"\n",
    "levine = FlowCal.io.FCSData(levine_fn)\n",
    "\n",
    "# Find relevant labels\n",
    "print(levine.shape)\n",
    "print(levine.channels)\n",
    "# Columns 4-36 (0-indexed) are relevant markers\n",
    "# column 39 (0-indexed) is labels\n",
    "\n",
    "# 60% of the dataset is garbage\n",
    "non_garbage_idx = np.where(np.isnan(levine[:, 39]) == False)\n",
    "levine = levine[non_garbage_idx]\n",
    "\n",
    "levine = levine[:, 4:36]\n",
    "print(levine.shape)\n",
    "print(levine.channels)\n",
    "\n",
    "# Transform data with arcsinh\n",
    "levine = np.arcsinh(np.array(levine))\n",
    "\n"
   ]
  },
  {
   "cell_type": "code",
   "execution_count": 33,
   "metadata": {},
   "outputs": [
    {
     "name": "stdout",
     "output_type": "stream",
     "text": [
      "UMAP(dens_frac=0.0, dens_lambda=0.0, min_dist=0.2, random_state=123,\n",
      "     verbose=True)\n",
      "Construct fuzzy simplicial set\n",
      "Thu May  6 21:39:58 2021 Finding Nearest Neighbors\n",
      "Thu May  6 21:39:58 2021 Building RP forest with 21 trees\n",
      "Thu May  6 21:39:59 2021 NN descent for 17 iterations\n",
      "\t 1  /  17\n",
      "\t 2  /  17\n",
      "<NULL> 3 <NULL> 17\n",
      "<NULL> 4 <NULL> 17\n",
      "<NULL> 5 <NULL> 17\n",
      "<NULL> 6 <NULL> 17\n",
      "<NULL> 6 <NULL>\n"
     ]
    },
    {
     "ename": "SystemError",
     "evalue": "CPUDispatcher(<function nn_descent at 0x000002179C1DFB70>) returned a result with an error set",
     "output_type": "error",
     "traceback": [
      "\u001b[1;31m---------------------------------------------------------------------------\u001b[0m",
      "\u001b[1;31mKeyboardInterrupt\u001b[0m                         Traceback (most recent call last)",
      "\u001b[1;32m~\\AppData\\Roaming\\Python\\Python37\\site-packages\\numba\\core\\serialize.py\u001b[0m in \u001b[0;36m_numba_unpickle\u001b[1;34m(address, bytedata, hashed)\u001b[0m\n\u001b[0;32m    139\u001b[0m \u001b[1;33m\u001b[0m\u001b[0m\n\u001b[1;32m--> 140\u001b[1;33m \u001b[1;32mdef\u001b[0m \u001b[0m_numba_unpickle\u001b[0m\u001b[1;33m(\u001b[0m\u001b[0maddress\u001b[0m\u001b[1;33m,\u001b[0m \u001b[0mbytedata\u001b[0m\u001b[1;33m,\u001b[0m \u001b[0mhashed\u001b[0m\u001b[1;33m)\u001b[0m\u001b[1;33m:\u001b[0m\u001b[1;33m\u001b[0m\u001b[1;33m\u001b[0m\u001b[0m\n\u001b[0m\u001b[0;32m    141\u001b[0m     \"\"\"Used by `numba_unpickle` from _helperlib.c\n",
      "\u001b[1;31mKeyboardInterrupt\u001b[0m: ",
      "\nThe above exception was the direct cause of the following exception:\n",
      "\u001b[1;31mSystemError\u001b[0m                               Traceback (most recent call last)",
      "\u001b[1;31mSystemError\u001b[0m: PyEval_EvalFrameEx returned a result with an error set",
      "\nThe above exception was the direct cause of the following exception:\n",
      "\u001b[1;31mSystemError\u001b[0m                               Traceback (most recent call last)",
      "\u001b[1;31mSystemError\u001b[0m: PyEval_EvalFrameEx returned a result with an error set",
      "\nThe above exception was the direct cause of the following exception:\n",
      "\u001b[1;31mSystemError\u001b[0m                               Traceback (most recent call last)",
      "\u001b[1;31mSystemError\u001b[0m: PyEval_EvalFrameEx returned a result with an error set",
      "\nThe above exception was the direct cause of the following exception:\n",
      "\u001b[1;31mSystemError\u001b[0m                               Traceback (most recent call last)",
      "\u001b[1;31mSystemError\u001b[0m: PyEval_EvalFrameEx returned a result with an error set",
      "\nThe above exception was the direct cause of the following exception:\n",
      "\u001b[1;31mSystemError\u001b[0m                               Traceback (most recent call last)",
      "\u001b[1;31mSystemError\u001b[0m: PyEval_EvalFrameEx returned a result with an error set",
      "\nThe above exception was the direct cause of the following exception:\n",
      "\u001b[1;31mSystemError\u001b[0m                               Traceback (most recent call last)",
      "\u001b[1;31mSystemError\u001b[0m: PyEval_EvalFrameEx returned a result with an error set",
      "\nThe above exception was the direct cause of the following exception:\n",
      "\u001b[1;31mSystemError\u001b[0m                               Traceback (most recent call last)",
      "\u001b[1;31mSystemError\u001b[0m: PyEval_EvalFrameEx returned a result with an error set",
      "\nThe above exception was the direct cause of the following exception:\n",
      "\u001b[1;31mSystemError\u001b[0m                               Traceback (most recent call last)",
      "\u001b[1;31mSystemError\u001b[0m: PyEval_EvalFrameEx returned a result with an error set",
      "\nThe above exception was the direct cause of the following exception:\n",
      "\u001b[1;31mSystemError\u001b[0m                               Traceback (most recent call last)",
      "\u001b[1;31mSystemError\u001b[0m: PyEval_EvalFrameEx returned a result with an error set",
      "\nThe above exception was the direct cause of the following exception:\n",
      "\u001b[1;31mSystemError\u001b[0m                               Traceback (most recent call last)",
      "\u001b[1;32m<ipython-input-33-7c6a50885944>\u001b[0m in \u001b[0;36m<module>\u001b[1;34m\u001b[0m\n\u001b[0;32m      1\u001b[0m \u001b[1;31m# Perform UMAP\u001b[0m\u001b[1;33m\u001b[0m\u001b[1;33m\u001b[0m\u001b[1;33m\u001b[0m\u001b[0m\n\u001b[0;32m      2\u001b[0m \u001b[0mDR\u001b[0m \u001b[1;33m=\u001b[0m \u001b[0mUMAP\u001b[0m\u001b[1;33m(\u001b[0m\u001b[0mn_neighbors\u001b[0m\u001b[1;33m=\u001b[0m\u001b[1;36m15\u001b[0m\u001b[1;33m,\u001b[0m\u001b[0mmin_dist\u001b[0m\u001b[1;33m=\u001b[0m\u001b[1;36m0.2\u001b[0m\u001b[1;33m,\u001b[0m\u001b[0mmetric\u001b[0m\u001b[1;33m=\u001b[0m\u001b[1;34m\"euclidean\"\u001b[0m\u001b[1;33m,\u001b[0m\u001b[0mverbose\u001b[0m\u001b[1;33m=\u001b[0m\u001b[1;32mTrue\u001b[0m\u001b[1;33m,\u001b[0m\u001b[0mrandom_state\u001b[0m\u001b[1;33m=\u001b[0m\u001b[1;36m123\u001b[0m\u001b[1;33m)\u001b[0m\u001b[1;33m\u001b[0m\u001b[1;33m\u001b[0m\u001b[0m\n\u001b[1;32m----> 3\u001b[1;33m \u001b[0mlevine_umap\u001b[0m \u001b[1;33m=\u001b[0m \u001b[0mDR\u001b[0m\u001b[1;33m.\u001b[0m\u001b[0mfit_transform\u001b[0m\u001b[1;33m(\u001b[0m\u001b[0mlevine\u001b[0m\u001b[1;33m)\u001b[0m\u001b[1;33m\u001b[0m\u001b[1;33m\u001b[0m\u001b[0m\n\u001b[0m\u001b[0;32m      4\u001b[0m \u001b[0mnp\u001b[0m\u001b[1;33m.\u001b[0m\u001b[0msave\u001b[0m\u001b[1;33m(\u001b[0m\u001b[1;34m\"levine_umap\"\u001b[0m\u001b[1;33m,\u001b[0m \u001b[0mlevine_umap\u001b[0m\u001b[1;33m)\u001b[0m\u001b[1;33m\u001b[0m\u001b[1;33m\u001b[0m\u001b[0m\n",
      "\u001b[1;32m~\\AppData\\Roaming\\Python\\Python37\\site-packages\\umap\\umap_.py\u001b[0m in \u001b[0;36mfit_transform\u001b[1;34m(self, X, y)\u001b[0m\n\u001b[0;32m   2632\u001b[0m             \u001b[0mLocal\u001b[0m \u001b[0mradii\u001b[0m \u001b[0mof\u001b[0m \u001b[0mdata\u001b[0m \u001b[0mpoints\u001b[0m \u001b[1;32min\u001b[0m \u001b[0mthe\u001b[0m \u001b[0membedding\u001b[0m \u001b[1;33m(\u001b[0m\u001b[0mlog\u001b[0m\u001b[1;33m-\u001b[0m\u001b[0mtransformed\u001b[0m\u001b[1;33m)\u001b[0m\u001b[1;33m.\u001b[0m\u001b[1;33m\u001b[0m\u001b[1;33m\u001b[0m\u001b[0m\n\u001b[0;32m   2633\u001b[0m         \"\"\"\n\u001b[1;32m-> 2634\u001b[1;33m         \u001b[0mself\u001b[0m\u001b[1;33m.\u001b[0m\u001b[0mfit\u001b[0m\u001b[1;33m(\u001b[0m\u001b[0mX\u001b[0m\u001b[1;33m,\u001b[0m \u001b[0my\u001b[0m\u001b[1;33m)\u001b[0m\u001b[1;33m\u001b[0m\u001b[1;33m\u001b[0m\u001b[0m\n\u001b[0m\u001b[0;32m   2635\u001b[0m         \u001b[1;32mif\u001b[0m \u001b[0mself\u001b[0m\u001b[1;33m.\u001b[0m\u001b[0mtransform_mode\u001b[0m \u001b[1;33m==\u001b[0m \u001b[1;34m\"embedding\"\u001b[0m\u001b[1;33m:\u001b[0m\u001b[1;33m\u001b[0m\u001b[1;33m\u001b[0m\u001b[0m\n\u001b[0;32m   2636\u001b[0m             \u001b[1;32mif\u001b[0m \u001b[0mself\u001b[0m\u001b[1;33m.\u001b[0m\u001b[0moutput_dens\u001b[0m\u001b[1;33m:\u001b[0m\u001b[1;33m\u001b[0m\u001b[1;33m\u001b[0m\u001b[0m\n",
      "\u001b[1;32m~\\AppData\\Roaming\\Python\\Python37\\site-packages\\umap\\umap_.py\u001b[0m in \u001b[0;36mfit\u001b[1;34m(self, X, y)\u001b[0m\n\u001b[0;32m   2386\u001b[0m                 \u001b[0muse_pynndescent\u001b[0m\u001b[1;33m=\u001b[0m\u001b[1;32mTrue\u001b[0m\u001b[1;33m,\u001b[0m\u001b[1;33m\u001b[0m\u001b[1;33m\u001b[0m\u001b[0m\n\u001b[0;32m   2387\u001b[0m                 \u001b[0mn_jobs\u001b[0m\u001b[1;33m=\u001b[0m\u001b[0mself\u001b[0m\u001b[1;33m.\u001b[0m\u001b[0mn_jobs\u001b[0m\u001b[1;33m,\u001b[0m\u001b[1;33m\u001b[0m\u001b[1;33m\u001b[0m\u001b[0m\n\u001b[1;32m-> 2388\u001b[1;33m                 \u001b[0mverbose\u001b[0m\u001b[1;33m=\u001b[0m\u001b[0mself\u001b[0m\u001b[1;33m.\u001b[0m\u001b[0mverbose\u001b[0m\u001b[1;33m,\u001b[0m\u001b[1;33m\u001b[0m\u001b[1;33m\u001b[0m\u001b[0m\n\u001b[0m\u001b[0;32m   2389\u001b[0m             )\n\u001b[0;32m   2390\u001b[0m \u001b[1;33m\u001b[0m\u001b[0m\n",
      "\u001b[1;32m~\\AppData\\Roaming\\Python\\Python37\\site-packages\\umap\\umap_.py\u001b[0m in \u001b[0;36mnearest_neighbors\u001b[1;34m(X, n_neighbors, metric, metric_kwds, angular, random_state, low_memory, use_pynndescent, n_jobs, verbose)\u001b[0m\n\u001b[0;32m    337\u001b[0m             \u001b[0mlow_memory\u001b[0m\u001b[1;33m=\u001b[0m\u001b[0mlow_memory\u001b[0m\u001b[1;33m,\u001b[0m\u001b[1;33m\u001b[0m\u001b[1;33m\u001b[0m\u001b[0m\n\u001b[0;32m    338\u001b[0m             \u001b[0mn_jobs\u001b[0m\u001b[1;33m=\u001b[0m\u001b[0mn_jobs\u001b[0m\u001b[1;33m,\u001b[0m\u001b[1;33m\u001b[0m\u001b[1;33m\u001b[0m\u001b[0m\n\u001b[1;32m--> 339\u001b[1;33m             \u001b[0mverbose\u001b[0m\u001b[1;33m=\u001b[0m\u001b[0mverbose\u001b[0m\u001b[1;33m,\u001b[0m\u001b[1;33m\u001b[0m\u001b[1;33m\u001b[0m\u001b[0m\n\u001b[0m\u001b[0;32m    340\u001b[0m         )\n\u001b[0;32m    341\u001b[0m         \u001b[0mknn_indices\u001b[0m\u001b[1;33m,\u001b[0m \u001b[0mknn_dists\u001b[0m \u001b[1;33m=\u001b[0m \u001b[0mknn_search_index\u001b[0m\u001b[1;33m.\u001b[0m\u001b[0mneighbor_graph\u001b[0m\u001b[1;33m\u001b[0m\u001b[1;33m\u001b[0m\u001b[0m\n",
      "\u001b[1;32m~\\AppData\\Roaming\\Python\\Python37\\site-packages\\pynndescent\\pynndescent_.py\u001b[0m in \u001b[0;36m__init__\u001b[1;34m(self, data, metric, metric_kwds, n_neighbors, n_trees, leaf_size, pruning_degree_multiplier, diversify_prob, n_search_trees, tree_init, init_graph, random_state, low_memory, max_candidates, n_iters, delta, n_jobs, compressed, verbose)\u001b[0m\n\u001b[0;32m    917\u001b[0m                 \u001b[0minit_graph\u001b[0m\u001b[1;33m=\u001b[0m\u001b[0m_init_graph\u001b[0m\u001b[1;33m,\u001b[0m\u001b[1;33m\u001b[0m\u001b[1;33m\u001b[0m\u001b[0m\n\u001b[0;32m    918\u001b[0m                 \u001b[0mleaf_array\u001b[0m\u001b[1;33m=\u001b[0m\u001b[0mleaf_array\u001b[0m\u001b[1;33m,\u001b[0m\u001b[1;33m\u001b[0m\u001b[1;33m\u001b[0m\u001b[0m\n\u001b[1;32m--> 919\u001b[1;33m                 \u001b[0mverbose\u001b[0m\u001b[1;33m=\u001b[0m\u001b[0mverbose\u001b[0m\u001b[1;33m,\u001b[0m\u001b[1;33m\u001b[0m\u001b[1;33m\u001b[0m\u001b[0m\n\u001b[0m\u001b[0;32m    920\u001b[0m             )\n\u001b[0;32m    921\u001b[0m \u001b[1;33m\u001b[0m\u001b[0m\n",
      "\u001b[1;31mSystemError\u001b[0m: CPUDispatcher(<function nn_descent at 0x000002179C1DFB70>) returned a result with an error set"
     ]
    }
   ],
   "source": [
    "# Perform UMAP\n",
    "DR = UMAP(n_neighbors=15,min_dist=0.2,metric=\"euclidean\",verbose=True,random_state=123)\n",
    "levine_umap = DR.fit_transform(levine)\n",
    "np.save(\"levine_umap\", levine_umap)"
   ]
  },
  {
   "cell_type": "code",
   "execution_count": 34,
   "metadata": {},
   "outputs": [
    {
     "data": {
      "text/plain": [
       "<matplotlib.collections.PathCollection at 0x2179bf34b00>"
      ]
     },
     "execution_count": 34,
     "metadata": {},
     "output_type": "execute_result"
    },
    {
     "data": {
      "image/png": "[encoded data removed]",
      "text/plain": [
       "<Figure size 432x288 with 1 Axes>"
      ]
     },
     "metadata": {
      "needs_background": "light"
     },
     "output_type": "display_data"
    }
   ],
   "source": [
    "# Plot UMAP results\n",
    "plt.scatter(levine_umap[:, 0], levine_umap[:, 1])"
   ]
  },
  {
   "cell_type": "code",
   "execution_count": null,
   "metadata": {},
   "outputs": [],
   "source": []
  },
  {
   "cell_type": "code",
   "execution_count": 35,
   "metadata": {},
   "outputs": [
    {
     "name": "stdout",
     "output_type": "stream",
     "text": [
      "[t-SNE] Computing 91 nearest neighbors...\n",
      "[t-SNE] Indexed 104184 samples in 0.007s...\n",
      "[t-SNE] Computed neighbors for 104184 samples in 415.517s...\n",
      "[t-SNE] Computed conditional probabilities for sample 1000 / 104184\n",
      "[t-SNE] Computed conditional probabilities for sample 2000 / 104184\n",
      "[t-SNE] Computed conditional probabilities for sample 3000 / 104184\n",
      "[t-SNE] Computed conditional probabilities for sample 4000 / 104184\n",
      "[t-SNE] Computed conditional probabilities for sample 5000 / 104184\n",
      "[t-SNE] Computed conditional probabilities for sample 6000 / 104184\n",
      "[t-SNE] Computed conditional probabilities for sample 7000 / 104184\n",
      "[t-SNE] Computed conditional probabilities for sample 8000 / 104184\n",
      "[t-SNE] Computed conditional probabilities for sample 9000 / 104184\n",
      "[t-SNE] Computed conditional probabilities for sample 10000 / 104184\n",
      "[t-SNE] Computed conditional probabilities for sample 11000 / 104184\n",
      "[t-SNE] Computed conditional probabilities for sample 12000 / 104184\n",
      "[t-SNE] Computed conditional probabilities for sample 13000 / 104184\n",
      "[t-SNE] Computed conditional probabilities for sample 14000 / 104184\n",
      "[t-SNE] Computed conditional probabilities for sample 15000 / 104184\n",
      "[t-SNE] Computed conditional probabilities for sample 16000 / 104184\n",
      "[t-SNE] Computed conditional probabilities for sample 17000 / 104184\n",
      "[t-SNE] Computed conditional probabilities for sample 18000 / 104184\n",
      "[t-SNE] Computed conditional probabilities for sample 19000 / 104184\n",
      "[t-SNE] Computed conditional probabilities for sample 20000 / 104184\n",
      "[t-SNE] Computed conditional probabilities for sample 21000 / 104184\n",
      "[t-SNE] Computed conditional probabilities for sample 22000 / 104184\n",
      "[t-SNE] Computed conditional probabilities for sample 23000 / 104184\n",
      "[t-SNE] Computed conditional probabilities for sample 24000 / 104184\n",
      "[t-SNE] Computed conditional probabilities for sample 25000 / 104184\n",
      "[t-SNE] Computed conditional probabilities for sample 26000 / 104184\n",
      "[t-SNE] Computed conditional probabilities for sample 27000 / 104184\n",
      "[t-SNE] Computed conditional probabilities for sample 28000 / 104184\n",
      "[t-SNE] Computed conditional probabilities for sample 29000 / 104184\n",
      "[t-SNE] Computed conditional probabilities for sample 30000 / 104184\n",
      "[t-SNE] Computed conditional probabilities for sample 31000 / 104184\n",
      "[t-SNE] Computed conditional probabilities for sample 32000 / 104184\n",
      "[t-SNE] Computed conditional probabilities for sample 33000 / 104184\n",
      "[t-SNE] Computed conditional probabilities for sample 34000 / 104184\n",
      "[t-SNE] Computed conditional probabilities for sample 35000 / 104184\n",
      "[t-SNE] Computed conditional probabilities for sample 36000 / 104184\n",
      "[t-SNE] Computed conditional probabilities for sample 37000 / 104184\n",
      "[t-SNE] Computed conditional probabilities for sample 38000 / 104184\n",
      "[t-SNE] Computed conditional probabilities for sample 39000 / 104184\n",
      "[t-SNE] Computed conditional probabilities for sample 40000 / 104184\n",
      "[t-SNE] Computed conditional probabilities for sample 41000 / 104184\n",
      "[t-SNE] Computed conditional probabilities for sample 42000 / 104184\n",
      "[t-SNE] Computed conditional probabilities for sample 43000 / 104184\n",
      "[t-SNE] Computed conditional probabilities for sample 44000 / 104184\n",
      "[t-SNE] Computed conditional probabilities for sample 45000 / 104184\n",
      "[t-SNE] Computed conditional probabilities for sample 46000 / 104184\n",
      "[t-SNE] Computed conditional probabilities for sample 47000 / 104184\n",
      "[t-SNE] Computed conditional probabilities for sample 48000 / 104184\n",
      "[t-SNE] Computed conditional probabilities for sample 49000 / 104184\n",
      "[t-SNE] Computed conditional probabilities for sample 50000 / 104184\n",
      "[t-SNE] Computed conditional probabilities for sample 51000 / 104184\n",
      "[t-SNE] Computed conditional probabilities for sample 52000 / 104184\n",
      "[t-SNE] Computed conditional probabilities for sample 53000 / 104184\n",
      "[t-SNE] Computed conditional probabilities for sample 54000 / 104184\n",
      "[t-SNE] Computed conditional probabilities for sample 55000 / 104184\n",
      "[t-SNE] Computed conditional probabilities for sample 56000 / 104184\n",
      "[t-SNE] Computed conditional probabilities for sample 57000 / 104184\n",
      "[t-SNE] Computed conditional probabilities for sample 58000 / 104184\n",
      "[t-SNE] Computed conditional probabilities for sample 59000 / 104184\n",
      "[t-SNE] Computed conditional probabilities for sample 60000 / 104184\n",
      "[t-SNE] Computed conditional probabilities for sample 61000 / 104184\n",
      "[t-SNE] Computed conditional probabilities for sample 62000 / 104184\n",
      "[t-SNE] Computed conditional probabilities for sample 63000 / 104184\n",
      "[t-SNE] Computed conditional probabilities for sample 64000 / 104184\n",
      "[t-SNE] Computed conditional probabilities for sample 65000 / 104184\n",
      "[t-SNE] Computed conditional probabilities for sample 66000 / 104184\n",
      "[t-SNE] Computed conditional probabilities for sample 67000 / 104184\n",
      "[t-SNE] Computed conditional probabilities for sample 68000 / 104184\n",
      "[t-SNE] Computed conditional probabilities for sample 69000 / 104184\n",
      "[t-SNE] Computed conditional probabilities for sample 70000 / 104184\n",
      "[t-SNE] Computed conditional probabilities for sample 71000 / 104184\n",
      "[t-SNE] Computed conditional probabilities for sample 72000 / 104184\n",
      "[t-SNE] Computed conditional probabilities for sample 73000 / 104184\n",
      "[t-SNE] Computed conditional probabilities for sample 74000 / 104184\n",
      "[t-SNE] Computed conditional probabilities for sample 75000 / 104184\n",
      "[t-SNE] Computed conditional probabilities for sample 76000 / 104184\n",
      "[t-SNE] Computed conditional probabilities for sample 77000 / 104184\n",
      "[t-SNE] Computed conditional probabilities for sample 78000 / 104184\n",
      "[t-SNE] Computed conditional probabilities for sample 79000 / 104184\n",
      "[t-SNE] Computed conditional probabilities for sample 80000 / 104184\n",
      "[t-SNE] Computed conditional probabilities for sample 81000 / 104184\n",
      "[t-SNE] Computed conditional probabilities for sample 82000 / 104184\n",
      "[t-SNE] Computed conditional probabilities for sample 83000 / 104184\n",
      "[t-SNE] Computed conditional probabilities for sample 84000 / 104184\n",
      "[t-SNE] Computed conditional probabilities for sample 85000 / 104184\n",
      "[t-SNE] Computed conditional probabilities for sample 86000 / 104184\n",
      "[t-SNE] Computed conditional probabilities for sample 87000 / 104184\n",
      "[t-SNE] Computed conditional probabilities for sample 88000 / 104184\n",
      "[t-SNE] Computed conditional probabilities for sample 89000 / 104184\n",
      "[t-SNE] Computed conditional probabilities for sample 90000 / 104184\n",
      "[t-SNE] Computed conditional probabilities for sample 91000 / 104184\n",
      "[t-SNE] Computed conditional probabilities for sample 92000 / 104184\n",
      "[t-SNE] Computed conditional probabilities for sample 93000 / 104184\n",
      "[t-SNE] Computed conditional probabilities for sample 94000 / 104184\n",
      "[t-SNE] Computed conditional probabilities for sample 95000 / 104184\n",
      "[t-SNE] Computed conditional probabilities for sample 96000 / 104184\n",
      "[t-SNE] Computed conditional probabilities for sample 97000 / 104184\n",
      "[t-SNE] Computed conditional probabilities for sample 98000 / 104184\n",
      "[t-SNE] Computed conditional probabilities for sample 99000 / 104184\n",
      "[t-SNE] Computed conditional probabilities for sample 100000 / 104184\n",
      "[t-SNE] Computed conditional probabilities for sample 101000 / 104184\n",
      "[t-SNE] Computed conditional probabilities for sample 102000 / 104184\n",
      "[t-SNE] Computed conditional probabilities for sample 103000 / 104184\n",
      "[t-SNE] Computed conditional probabilities for sample 104000 / 104184\n",
      "[t-SNE] Computed conditional probabilities for sample 104184 / 104184\n",
      "[t-SNE] Mean sigma: 1.169400\n",
      "[t-SNE] KL divergence after 250 iterations with early exaggeration: 105.089554\n",
      "[t-SNE] KL divergence after 1000 iterations: 4.427794\n"
     ]
    }
   ],
   "source": [
    "# Perform tSNE\n",
    "from sklearn.manifold import TSNE\n",
    "\n",
    "tsne = TSNE(n_iter=1000,verbose=True,n_jobs=-1)\n",
    "levine_tsne = tsne.fit_transform(levine)\n",
    "np.save(\"levine_tsne\", levine_tsne)"
   ]
  },
  {
   "cell_type": "code",
   "execution_count": 36,
   "metadata": {},
   "outputs": [
    {
     "data": {
      "text/plain": [
       "<matplotlib.collections.PathCollection at 0x2179f203208>"
      ]
     },
     "execution_count": 36,
     "metadata": {},
     "output_type": "execute_result"
    },
    {
     "data": {
      "image/png": "[encoded data removed]",
      "text/plain": [
       "<Figure size 432x288 with 1 Axes>"
      ]
     },
     "metadata": {
      "needs_background": "light"
     },
     "output_type": "display_data"
    }
   ],
   "source": [
    "# Plot tSNE results\n",
    "plt.scatter(levine_tsne[:, 0], levine_tsne[:, 1])"
   ]
  },
  {
   "cell_type": "code",
   "execution_count": 8,
   "metadata": {},
   "outputs": [],
   "source": []
  },
  {
   "cell_type": "code",
   "execution_count": 37,
   "metadata": {},
   "outputs": [],
   "source": [
    "#Run PCA\n",
    "pca = PCA()\n",
    "levine_pca = pca.fit_transform(levine)\n",
    "np.save(\"levine_pca\", levine_pca)"
   ]
  },
  {
   "cell_type": "code",
   "execution_count": 38,
   "metadata": {},
   "outputs": [
    {
     "data": {
      "text/plain": [
       "<matplotlib.collections.PathCollection at 0x2179da47e80>"
      ]
     },
     "execution_count": 38,
     "metadata": {},
     "output_type": "execute_result"
    },
    {
     "data": {
      "image/png": "[encoded data removed]",
      "text/plain": [
       "<Figure size 432x288 with 1 Axes>"
      ]
     },
     "metadata": {
      "needs_background": "light"
     },
     "output_type": "display_data"
    }
   ],
   "source": [
    "plt.scatter(levine_pca[:, 0], levine_pca[:, 1])"
   ]
  },
  {
   "cell_type": "code",
   "execution_count": 11,
   "metadata": {},
   "outputs": [],
   "source": []
  },
  {
   "cell_type": "code",
   "execution_count": null,
   "metadata": {},
   "outputs": [],
   "source": []
  }
 ],
 "metadata": {
  "kernelspec": {
   "display_name": "Python 3",
   "language": "python",
   "name": "python3"
  },
  "language_info": {
   "codemirror_mode": {
    "name": "ipython",
    "version": 3
   },
   "file_extension": ".py",
   "mimetype": "text/x-python",
   "name": "python",
   "nbconvert_exporter": "python",
   "pygments_lexer": "ipython3",
   "version": "3.7.3"
  }
 },
 "nbformat": 4,
 "nbformat_minor": 2
}
